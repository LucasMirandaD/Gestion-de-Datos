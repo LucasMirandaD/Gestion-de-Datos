{
  "nbformat": 4,
  "nbformat_minor": 0,
  "metadata": {
    "kernelspec": {
      "display_name": "Python 3",
      "language": "python",
      "name": "python3"
    },
    "language_info": {
      "codemirror_mode": {
        "name": "ipython",
        "version": 3
      },
      "file_extension": ".py",
      "mimetype": "text/x-python",
      "name": "python",
      "nbconvert_exporter": "python",
      "pygments_lexer": "ipython3",
      "version": "3.7.6"
    },
    "colab": {
      "provenance": [],
      "collapsed_sections": [
        "bgo0EISzl_gg",
        "e002bXgVmEeg",
        "zPIAgwp1mU-b",
        "GYliSnnJmO_R",
        "HjmjkajgmbxM",
        "b-PNK7FLHViO",
        "XGgwQvg0ZoHV",
        "WwLryTaBYHKI",
        "7IwV0uZgcsUl",
        "yIJYZgMHc7iY",
        "Nh4WkPygak-N",
        "5JlpFUDyYNsk",
        "229V6QWCK--Y",
        "M_7KoEcsQA9O",
        "wLJmLTlLtxmi",
        "wUhB-G59Yge5"
      ],
      "toc_visible": true,
      "include_colab_link": true
    }
  },
  "cells": [
    {
      "cell_type": "markdown",
      "metadata": {
        "id": "view-in-github",
        "colab_type": "text"
      },
      "source": [
        "<a href=\"https://colab.research.google.com/github/LucasMirandaD/Gestion-de-Datos/blob/main/LM_Competencia_Ausentismo.ipynb\" target=\"_parent\"><img src=\"https://colab.research.google.com/assets/colab-badge.svg\" alt=\"Open In Colab\"/></a>"
      ]
    },
    {
      "cell_type": "markdown",
      "metadata": {
        "id": "AsauGR6Ltdek"
      },
      "source": [
        "## Ayuda -> Caso_Ausentismo_de_Turnos_2023"
      ]
    },
    {
      "cell_type": "code",
      "metadata": {
        "id": "gtXFVcSttdet"
      },
      "source": [
        "import numpy as np\n",
        "import pandas as pd\n",
        "from sklearn.preprocessing import KBinsDiscretizer\n",
        "from sklearn.model_selection import train_test_split, StratifiedKFold\n",
        "from sklearn import tree\n",
        "from sklearn.neighbors import KNeighborsClassifier\n",
        "from sklearn.linear_model import LogisticRegression\n",
        "from sklearn.naive_bayes import GaussianNB\n",
        "from sklearn import metrics\n",
        "from sklearn.preprocessing import LabelEncoder\n",
        "from sklearn.model_selection import GridSearchCV\n",
        "from sklearn.ensemble import RandomForestClassifier\n",
        "from sklearn.tree import DecisionTreeClassifier\n",
        "from sklearn.preprocessing import MinMaxScaler\n",
        "from imblearn.under_sampling import NearMiss\n",
        "from imblearn.under_sampling import RandomUnderSampler\n",
        "from imblearn.over_sampling import SMOTE\n",
        "from sklearn.naive_bayes import GaussianNB\n",
        "from xgboost import XGBClassifier\n",
        "\n",
        "import warnings\n",
        "warnings.filterwarnings(\"ignore\")\n",
        "\n",
        "from sklearn.metrics import confusion_matrix\n",
        "from sklearn.metrics import accuracy_score\n",
        "from sklearn.metrics import precision_score\n",
        "from sklearn.metrics import recall_score\n",
        "from sklearn.metrics import f1_score\n",
        "from sklearn.metrics import make_scorer\n",
        "from sklearn.metrics import classification_report\n",
        "from sklearn.metrics import cohen_kappa_score\n",
        "from sklearn.metrics import roc_curve, auc\n",
        "from sklearn.metrics import roc_auc_score\n",
        "\n",
        "import seaborn as sns\n",
        "\n",
        "import matplotlib.pyplot as plt\n",
        "plt.style.use('ggplot')\n",
        "%matplotlib inline"
      ],
      "execution_count": 1,
      "outputs": []
    },
    {
      "cell_type": "code",
      "metadata": {
        "id": "XqhSKcJMtdew"
      },
      "source": [
        "datos= pd.read_csv('https://raw.githubusercontent.com/profcarlosamartinez/mineria_datos/main/ausentismo_2023/datos_train.csv',delimiter=',',decimal='.')"
      ],
      "execution_count": 2,
      "outputs": []
    },
    {
      "cell_type": "markdown",
      "source": [
        "# Preprocesamiento"
      ],
      "metadata": {
        "id": "E8iwujjJX9Uj"
      }
    },
    {
      "cell_type": "markdown",
      "source": [
        "## Descripccion de datos"
      ],
      "metadata": {
        "id": "bgo0EISzl_gg"
      }
    },
    {
      "cell_type": "code",
      "metadata": {
        "id": "orjfKBhOzj5A",
        "colab": {
          "base_uri": "https://localhost:8080/",
          "height": 0
        },
        "outputId": "4da8fbd5-914e-4f3d-93cb-04746464f5e8"
      },
      "source": [
        "datos.head(2)"
      ],
      "execution_count": 3,
      "outputs": [
        {
          "output_type": "execute_result",
          "data": {
            "text/plain": [
              "   id  id_paciente  id_turno sexo          dia_reserva_turno  \\\n",
              "0   1        30846     29333    F  2019-08-12 18:38:08+00:00   \n",
              "1   2        55326     29080    M  2019-08-12 16:08:27+00:00   \n",
              "\n",
              "                   dia_turno  cod_barrio  edad  plan_social  hipertension  \\\n",
              "0  2019-08-12 00:00:00+00:00          40    62            0             1   \n",
              "1  2019-08-12 00:00:00+00:00          40    56            0             0   \n",
              "\n",
              "   diabetes  alcoholismo  discapacidades  sms_recibidos  ausente  \n",
              "0         0            0               0              0        0  \n",
              "1         0            0               0              0        0  "
            ],
            "text/html": [
              "\n",
              "  <div id=\"df-1194027b-71d0-402f-85e4-a2a879e95f46\">\n",
              "    <div class=\"colab-df-container\">\n",
              "      <div>\n",
              "<style scoped>\n",
              "    .dataframe tbody tr th:only-of-type {\n",
              "        vertical-align: middle;\n",
              "    }\n",
              "\n",
              "    .dataframe tbody tr th {\n",
              "        vertical-align: top;\n",
              "    }\n",
              "\n",
              "    .dataframe thead th {\n",
              "        text-align: right;\n",
              "    }\n",
              "</style>\n",
              "<table border=\"1\" class=\"dataframe\">\n",
              "  <thead>\n",
              "    <tr style=\"text-align: right;\">\n",
              "      <th></th>\n",
              "      <th>id</th>\n",
              "      <th>id_paciente</th>\n",
              "      <th>id_turno</th>\n",
              "      <th>sexo</th>\n",
              "      <th>dia_reserva_turno</th>\n",
              "      <th>dia_turno</th>\n",
              "      <th>cod_barrio</th>\n",
              "      <th>edad</th>\n",
              "      <th>plan_social</th>\n",
              "      <th>hipertension</th>\n",
              "      <th>diabetes</th>\n",
              "      <th>alcoholismo</th>\n",
              "      <th>discapacidades</th>\n",
              "      <th>sms_recibidos</th>\n",
              "      <th>ausente</th>\n",
              "    </tr>\n",
              "  </thead>\n",
              "  <tbody>\n",
              "    <tr>\n",
              "      <th>0</th>\n",
              "      <td>1</td>\n",
              "      <td>30846</td>\n",
              "      <td>29333</td>\n",
              "      <td>F</td>\n",
              "      <td>2019-08-12 18:38:08+00:00</td>\n",
              "      <td>2019-08-12 00:00:00+00:00</td>\n",
              "      <td>40</td>\n",
              "      <td>62</td>\n",
              "      <td>0</td>\n",
              "      <td>1</td>\n",
              "      <td>0</td>\n",
              "      <td>0</td>\n",
              "      <td>0</td>\n",
              "      <td>0</td>\n",
              "      <td>0</td>\n",
              "    </tr>\n",
              "    <tr>\n",
              "      <th>1</th>\n",
              "      <td>2</td>\n",
              "      <td>55326</td>\n",
              "      <td>29080</td>\n",
              "      <td>M</td>\n",
              "      <td>2019-08-12 16:08:27+00:00</td>\n",
              "      <td>2019-08-12 00:00:00+00:00</td>\n",
              "      <td>40</td>\n",
              "      <td>56</td>\n",
              "      <td>0</td>\n",
              "      <td>0</td>\n",
              "      <td>0</td>\n",
              "      <td>0</td>\n",
              "      <td>0</td>\n",
              "      <td>0</td>\n",
              "      <td>0</td>\n",
              "    </tr>\n",
              "  </tbody>\n",
              "</table>\n",
              "</div>\n",
              "      <button class=\"colab-df-convert\" onclick=\"convertToInteractive('df-1194027b-71d0-402f-85e4-a2a879e95f46')\"\n",
              "              title=\"Convert this dataframe to an interactive table.\"\n",
              "              style=\"display:none;\">\n",
              "        \n",
              "  <svg xmlns=\"http://www.w3.org/2000/svg\" height=\"24px\"viewBox=\"0 0 24 24\"\n",
              "       width=\"24px\">\n",
              "    <path d=\"M0 0h24v24H0V0z\" fill=\"none\"/>\n",
              "    <path d=\"M18.56 5.44l.94 2.06.94-2.06 2.06-.94-2.06-.94-.94-2.06-.94 2.06-2.06.94zm-11 1L8.5 8.5l.94-2.06 2.06-.94-2.06-.94L8.5 2.5l-.94 2.06-2.06.94zm10 10l.94 2.06.94-2.06 2.06-.94-2.06-.94-.94-2.06-.94 2.06-2.06.94z\"/><path d=\"M17.41 7.96l-1.37-1.37c-.4-.4-.92-.59-1.43-.59-.52 0-1.04.2-1.43.59L10.3 9.45l-7.72 7.72c-.78.78-.78 2.05 0 2.83L4 21.41c.39.39.9.59 1.41.59.51 0 1.02-.2 1.41-.59l7.78-7.78 2.81-2.81c.8-.78.8-2.07 0-2.86zM5.41 20L4 18.59l7.72-7.72 1.47 1.35L5.41 20z\"/>\n",
              "  </svg>\n",
              "      </button>\n",
              "      \n",
              "  <style>\n",
              "    .colab-df-container {\n",
              "      display:flex;\n",
              "      flex-wrap:wrap;\n",
              "      gap: 12px;\n",
              "    }\n",
              "\n",
              "    .colab-df-convert {\n",
              "      background-color: #E8F0FE;\n",
              "      border: none;\n",
              "      border-radius: 50%;\n",
              "      cursor: pointer;\n",
              "      display: none;\n",
              "      fill: #1967D2;\n",
              "      height: 32px;\n",
              "      padding: 0 0 0 0;\n",
              "      width: 32px;\n",
              "    }\n",
              "\n",
              "    .colab-df-convert:hover {\n",
              "      background-color: #E2EBFA;\n",
              "      box-shadow: 0px 1px 2px rgba(60, 64, 67, 0.3), 0px 1px 3px 1px rgba(60, 64, 67, 0.15);\n",
              "      fill: #174EA6;\n",
              "    }\n",
              "\n",
              "    [theme=dark] .colab-df-convert {\n",
              "      background-color: #3B4455;\n",
              "      fill: #D2E3FC;\n",
              "    }\n",
              "\n",
              "    [theme=dark] .colab-df-convert:hover {\n",
              "      background-color: #434B5C;\n",
              "      box-shadow: 0px 1px 3px 1px rgba(0, 0, 0, 0.15);\n",
              "      filter: drop-shadow(0px 1px 2px rgba(0, 0, 0, 0.3));\n",
              "      fill: #FFFFFF;\n",
              "    }\n",
              "  </style>\n",
              "\n",
              "      <script>\n",
              "        const buttonEl =\n",
              "          document.querySelector('#df-1194027b-71d0-402f-85e4-a2a879e95f46 button.colab-df-convert');\n",
              "        buttonEl.style.display =\n",
              "          google.colab.kernel.accessAllowed ? 'block' : 'none';\n",
              "\n",
              "        async function convertToInteractive(key) {\n",
              "          const element = document.querySelector('#df-1194027b-71d0-402f-85e4-a2a879e95f46');\n",
              "          const dataTable =\n",
              "            await google.colab.kernel.invokeFunction('convertToInteractive',\n",
              "                                                     [key], {});\n",
              "          if (!dataTable) return;\n",
              "\n",
              "          const docLinkHtml = 'Like what you see? Visit the ' +\n",
              "            '<a target=\"_blank\" href=https://colab.research.google.com/notebooks/data_table.ipynb>data table notebook</a>'\n",
              "            + ' to learn more about interactive tables.';\n",
              "          element.innerHTML = '';\n",
              "          dataTable['output_type'] = 'display_data';\n",
              "          await google.colab.output.renderOutput(dataTable, element);\n",
              "          const docLink = document.createElement('div');\n",
              "          docLink.innerHTML = docLinkHtml;\n",
              "          element.appendChild(docLink);\n",
              "        }\n",
              "      </script>\n",
              "    </div>\n",
              "  </div>\n",
              "  "
            ]
          },
          "metadata": {},
          "execution_count": 3
        }
      ]
    },
    {
      "cell_type": "code",
      "metadata": {
        "id": "DsRs0qBktdex",
        "colab": {
          "base_uri": "https://localhost:8080/"
        },
        "outputId": "47ab429c-baac-491c-f45d-7bb2bbf82692"
      },
      "source": [
        "datos.shape"
      ],
      "execution_count": 4,
      "outputs": [
        {
          "output_type": "execute_result",
          "data": {
            "text/plain": [
              "(86000, 15)"
            ]
          },
          "metadata": {},
          "execution_count": 4
        }
      ]
    },
    {
      "cell_type": "code",
      "metadata": {
        "id": "dBRq-tQozduK",
        "colab": {
          "base_uri": "https://localhost:8080/"
        },
        "outputId": "399d2908-5321-4ec3-f8d9-39891b08b6cb"
      },
      "source": [
        "datos.ausente.value_counts()"
      ],
      "execution_count": 5,
      "outputs": [
        {
          "output_type": "execute_result",
          "data": {
            "text/plain": [
              "0    68230\n",
              "1    17770\n",
              "Name: ausente, dtype: int64"
            ]
          },
          "metadata": {},
          "execution_count": 5
        }
      ]
    },
    {
      "cell_type": "code",
      "source": [
        "datos.ausente.value_counts().plot(kind='bar')"
      ],
      "metadata": {
        "id": "2R80lE6s-IpF",
        "colab": {
          "base_uri": "https://localhost:8080/",
          "height": 0
        },
        "outputId": "280a454f-591d-4705-a803-24a3213a32a2"
      },
      "execution_count": 6,
      "outputs": [
        {
          "output_type": "execute_result",
          "data": {
            "text/plain": [
              "<Axes: >"
            ]
          },
          "metadata": {},
          "execution_count": 6
        },
        {
          "output_type": "display_data",
          "data": {
            "text/plain": [
              "<Figure size 640x480 with 1 Axes>"
            ],
            "image/png": "[encoded data removed]"
          },
          "metadata": {}
        }
      ]
    },
    {
      "cell_type": "code",
      "metadata": {
        "id": "jbXMNpzK5XXH",
        "colab": {
          "base_uri": "https://localhost:8080/"
        },
        "outputId": "a16ec00b-0894-459d-a6bf-0f9edfbf1f3b"
      },
      "source": [
        "datos.info()"
      ],
      "execution_count": 7,
      "outputs": [
        {
          "output_type": "stream",
          "name": "stdout",
          "text": [
            "<class 'pandas.core.frame.DataFrame'>\n",
            "RangeIndex: 86000 entries, 0 to 85999\n",
            "Data columns (total 15 columns):\n",
            " #   Column             Non-Null Count  Dtype \n",
            "---  ------             --------------  ----- \n",
            " 0   id                 86000 non-null  int64 \n",
            " 1   id_paciente        86000 non-null  int64 \n",
            " 2   id_turno           86000 non-null  int64 \n",
            " 3   sexo               86000 non-null  object\n",
            " 4   dia_reserva_turno  86000 non-null  object\n",
            " 5   dia_turno          86000 non-null  object\n",
            " 6   cod_barrio         86000 non-null  int64 \n",
            " 7   edad               86000 non-null  int64 \n",
            " 8   plan_social        86000 non-null  int64 \n",
            " 9   hipertension       86000 non-null  int64 \n",
            " 10  diabetes           86000 non-null  int64 \n",
            " 11  alcoholismo        86000 non-null  int64 \n",
            " 12  discapacidades     86000 non-null  int64 \n",
            " 13  sms_recibidos      86000 non-null  int64 \n",
            " 14  ausente            86000 non-null  int64 \n",
            "dtypes: int64(12), object(3)\n",
            "memory usage: 9.8+ MB\n"
          ]
        }
      ]
    },
    {
      "cell_type": "code",
      "source": [
        "datos.describe()"
      ],
      "metadata": {
        "id": "IrmCia1n-Vd_",
        "colab": {
          "base_uri": "https://localhost:8080/",
          "height": 0
        },
        "outputId": "d6cbee0f-8bbd-408d-8d40-3c2d9ba33f18"
      },
      "execution_count": 8,
      "outputs": [
        {
          "output_type": "execute_result",
          "data": {
            "text/plain": [
              "                 id   id_paciente       id_turno    cod_barrio          edad  \\\n",
              "count  86000.000000  86000.000000   86000.000000  86000.000000  86000.000000   \n",
              "mean   43000.500000  31123.719977   46625.973116     42.601547     36.982860   \n",
              "std    24826.205912  17964.921826   27585.167343     22.416531     23.100174   \n",
              "min        1.000000      3.000000       1.000000      1.000000      0.000000   \n",
              "25%    21500.750000  15614.000000   23087.750000     26.000000     18.000000   \n",
              "50%    43000.500000  31018.500000   45761.500000     40.000000     37.000000   \n",
              "75%    64500.250000  46589.000000   69626.250000     61.000000     55.000000   \n",
              "max    86000.000000  62299.000000  110522.000000     81.000000    115.000000   \n",
              "\n",
              "        plan_social  hipertension      diabetes   alcoholismo  discapacidades  \\\n",
              "count  86000.000000  86000.000000  86000.000000  86000.000000    86000.000000   \n",
              "mean       0.098372      0.196651      0.071151      0.029837        0.022291   \n",
              "std        0.297819      0.397469      0.257079      0.170139        0.160967   \n",
              "min        0.000000      0.000000      0.000000      0.000000        0.000000   \n",
              "25%        0.000000      0.000000      0.000000      0.000000        0.000000   \n",
              "50%        0.000000      0.000000      0.000000      0.000000        0.000000   \n",
              "75%        0.000000      0.000000      0.000000      0.000000        0.000000   \n",
              "max        1.000000      1.000000      1.000000      1.000000        3.000000   \n",
              "\n",
              "       sms_recibidos       ausente  \n",
              "count   86000.000000  86000.000000  \n",
              "mean        0.289302      0.206628  \n",
              "std         0.453441      0.404889  \n",
              "min         0.000000      0.000000  \n",
              "25%         0.000000      0.000000  \n",
              "50%         0.000000      0.000000  \n",
              "75%         1.000000      0.000000  \n",
              "max         1.000000      1.000000  "
            ],
            "text/html": [
              "\n",
              "  <div id=\"df-9d122ea7-2412-4f94-967c-068577fc83d7\">\n",
              "    <div class=\"colab-df-container\">\n",
              "      <div>\n",
              "<style scoped>\n",
              "    .dataframe tbody tr th:only-of-type {\n",
              "        vertical-align: middle;\n",
              "    }\n",
              "\n",
              "    .dataframe tbody tr th {\n",
              "        vertical-align: top;\n",
              "    }\n",
              "\n",
              "    .dataframe thead th {\n",
              "        text-align: right;\n",
              "    }\n",
              "</style>\n",
              "<table border=\"1\" class=\"dataframe\">\n",
              "  <thead>\n",
              "    <tr style=\"text-align: right;\">\n",
              "      <th></th>\n",
              "      <th>id</th>\n",
              "      <th>id_paciente</th>\n",
              "      <th>id_turno</th>\n",
              "      <th>cod_barrio</th>\n",
              "      <th>edad</th>\n",
              "      <th>plan_social</th>\n",
              "      <th>hipertension</th>\n",
              "      <th>diabetes</th>\n",
              "      <th>alcoholismo</th>\n",
              "      <th>discapacidades</th>\n",
              "      <th>sms_recibidos</th>\n",
              "      <th>ausente</th>\n",
              "    </tr>\n",
              "  </thead>\n",
              "  <tbody>\n",
              "    <tr>\n",
              "      <th>count</th>\n",
              "      <td>86000.000000</td>\n",
              "      <td>86000.000000</td>\n",
              "      <td>86000.000000</td>\n",
              "      <td>86000.000000</td>\n",
              "      <td>86000.000000</td>\n",
              "      <td>86000.000000</td>\n",
              "      <td>86000.000000</td>\n",
              "      <td>86000.000000</td>\n",
              "      <td>86000.000000</td>\n",
              "      <td>86000.000000</td>\n",
              "      <td>86000.000000</td>\n",
              "      <td>86000.000000</td>\n",
              "    </tr>\n",
              "    <tr>\n",
              "      <th>mean</th>\n",
              "      <td>43000.500000</td>\n",
              "      <td>31123.719977</td>\n",
              "      <td>46625.973116</td>\n",
              "      <td>42.601547</td>\n",
              "      <td>36.982860</td>\n",
              "      <td>0.098372</td>\n",
              "      <td>0.196651</td>\n",
              "      <td>0.071151</td>\n",
              "      <td>0.029837</td>\n",
              "      <td>0.022291</td>\n",
              "      <td>0.289302</td>\n",
              "      <td>0.206628</td>\n",
              "    </tr>\n",
              "    <tr>\n",
              "      <th>std</th>\n",
              "      <td>24826.205912</td>\n",
              "      <td>17964.921826</td>\n",
              "      <td>27585.167343</td>\n",
              "      <td>22.416531</td>\n",
              "      <td>23.100174</td>\n",
              "      <td>0.297819</td>\n",
              "      <td>0.397469</td>\n",
              "      <td>0.257079</td>\n",
              "      <td>0.170139</td>\n",
              "      <td>0.160967</td>\n",
              "      <td>0.453441</td>\n",
              "      <td>0.404889</td>\n",
              "    </tr>\n",
              "    <tr>\n",
              "      <th>min</th>\n",
              "      <td>1.000000</td>\n",
              "      <td>3.000000</td>\n",
              "      <td>1.000000</td>\n",
              "      <td>1.000000</td>\n",
              "      <td>0.000000</td>\n",
              "      <td>0.000000</td>\n",
              "      <td>0.000000</td>\n",
              "      <td>0.000000</td>\n",
              "      <td>0.000000</td>\n",
              "      <td>0.000000</td>\n",
              "      <td>0.000000</td>\n",
              "      <td>0.000000</td>\n",
              "    </tr>\n",
              "    <tr>\n",
              "      <th>25%</th>\n",
              "      <td>21500.750000</td>\n",
              "      <td>15614.000000</td>\n",
              "      <td>23087.750000</td>\n",
              "      <td>26.000000</td>\n",
              "      <td>18.000000</td>\n",
              "      <td>0.000000</td>\n",
              "      <td>0.000000</td>\n",
              "      <td>0.000000</td>\n",
              "      <td>0.000000</td>\n",
              "      <td>0.000000</td>\n",
              "      <td>0.000000</td>\n",
              "      <td>0.000000</td>\n",
              "    </tr>\n",
              "    <tr>\n",
              "      <th>50%</th>\n",
              "      <td>43000.500000</td>\n",
              "      <td>31018.500000</td>\n",
              "      <td>45761.500000</td>\n",
              "      <td>40.000000</td>\n",
              "      <td>37.000000</td>\n",
              "      <td>0.000000</td>\n",
              "      <td>0.000000</td>\n",
              "      <td>0.000000</td>\n",
              "      <td>0.000000</td>\n",
              "      <td>0.000000</td>\n",
              "      <td>0.000000</td>\n",
              "      <td>0.000000</td>\n",
              "    </tr>\n",
              "    <tr>\n",
              "      <th>75%</th>\n",
              "      <td>64500.250000</td>\n",
              "      <td>46589.000000</td>\n",
              "      <td>69626.250000</td>\n",
              "      <td>61.000000</td>\n",
              "      <td>55.000000</td>\n",
              "      <td>0.000000</td>\n",
              "      <td>0.000000</td>\n",
              "      <td>0.000000</td>\n",
              "      <td>0.000000</td>\n",
              "      <td>0.000000</td>\n",
              "      <td>1.000000</td>\n",
              "      <td>0.000000</td>\n",
              "    </tr>\n",
              "    <tr>\n",
              "      <th>max</th>\n",
              "      <td>86000.000000</td>\n",
              "      <td>62299.000000</td>\n",
              "      <td>110522.000000</td>\n",
              "      <td>81.000000</td>\n",
              "      <td>115.000000</td>\n",
              "      <td>1.000000</td>\n",
              "      <td>1.000000</td>\n",
              "      <td>1.000000</td>\n",
              "      <td>1.000000</td>\n",
              "      <td>3.000000</td>\n",
              "      <td>1.000000</td>\n",
              "      <td>1.000000</td>\n",
              "    </tr>\n",
              "  </tbody>\n",
              "</table>\n",
              "</div>\n",
              "      <button class=\"colab-df-convert\" onclick=\"convertToInteractive('df-9d122ea7-2412-4f94-967c-068577fc83d7')\"\n",
              "              title=\"Convert this dataframe to an interactive table.\"\n",
              "              style=\"display:none;\">\n",
              "        \n",
              "  <svg xmlns=\"http://www.w3.org/2000/svg\" height=\"24px\"viewBox=\"0 0 24 24\"\n",
              "       width=\"24px\">\n",
              "    <path d=\"M0 0h24v24H0V0z\" fill=\"none\"/>\n",
              "    <path d=\"M18.56 5.44l.94 2.06.94-2.06 2.06-.94-2.06-.94-.94-2.06-.94 2.06-2.06.94zm-11 1L8.5 8.5l.94-2.06 2.06-.94-2.06-.94L8.5 2.5l-.94 2.06-2.06.94zm10 10l.94 2.06.94-2.06 2.06-.94-2.06-.94-.94-2.06-.94 2.06-2.06.94z\"/><path d=\"M17.41 7.96l-1.37-1.37c-.4-.4-.92-.59-1.43-.59-.52 0-1.04.2-1.43.59L10.3 9.45l-7.72 7.72c-.78.78-.78 2.05 0 2.83L4 21.41c.39.39.9.59 1.41.59.51 0 1.02-.2 1.41-.59l7.78-7.78 2.81-2.81c.8-.78.8-2.07 0-2.86zM5.41 20L4 18.59l7.72-7.72 1.47 1.35L5.41 20z\"/>\n",
              "  </svg>\n",
              "      </button>\n",
              "      \n",
              "  <style>\n",
              "    .colab-df-container {\n",
              "      display:flex;\n",
              "      flex-wrap:wrap;\n",
              "      gap: 12px;\n",
              "    }\n",
              "\n",
              "    .colab-df-convert {\n",
              "      background-color: #E8F0FE;\n",
              "      border: none;\n",
              "      border-radius: 50%;\n",
              "      cursor: pointer;\n",
              "      display: none;\n",
              "      fill: #1967D2;\n",
              "      height: 32px;\n",
              "      padding: 0 0 0 0;\n",
              "      width: 32px;\n",
              "    }\n",
              "\n",
              "    .colab-df-convert:hover {\n",
              "      background-color: #E2EBFA;\n",
              "      box-shadow: 0px 1px 2px rgba(60, 64, 67, 0.3), 0px 1px 3px 1px rgba(60, 64, 67, 0.15);\n",
              "      fill: #174EA6;\n",
              "    }\n",
              "\n",
              "    [theme=dark] .colab-df-convert {\n",
              "      background-color: #3B4455;\n",
              "      fill: #D2E3FC;\n",
              "    }\n",
              "\n",
              "    [theme=dark] .colab-df-convert:hover {\n",
              "      background-color: #434B5C;\n",
              "      box-shadow: 0px 1px 3px 1px rgba(0, 0, 0, 0.15);\n",
              "      filter: drop-shadow(0px 1px 2px rgba(0, 0, 0, 0.3));\n",
              "      fill: #FFFFFF;\n",
              "    }\n",
              "  </style>\n",
              "\n",
              "      <script>\n",
              "        const buttonEl =\n",
              "          document.querySelector('#df-9d122ea7-2412-4f94-967c-068577fc83d7 button.colab-df-convert');\n",
              "        buttonEl.style.display =\n",
              "          google.colab.kernel.accessAllowed ? 'block' : 'none';\n",
              "\n",
              "        async function convertToInteractive(key) {\n",
              "          const element = document.querySelector('#df-9d122ea7-2412-4f94-967c-068577fc83d7');\n",
              "          const dataTable =\n",
              "            await google.colab.kernel.invokeFunction('convertToInteractive',\n",
              "                                                     [key], {});\n",
              "          if (!dataTable) return;\n",
              "\n",
              "          const docLinkHtml = 'Like what you see? Visit the ' +\n",
              "            '<a target=\"_blank\" href=https://colab.research.google.com/notebooks/data_table.ipynb>data table notebook</a>'\n",
              "            + ' to learn more about interactive tables.';\n",
              "          element.innerHTML = '';\n",
              "          dataTable['output_type'] = 'display_data';\n",
              "          await google.colab.output.renderOutput(dataTable, element);\n",
              "          const docLink = document.createElement('div');\n",
              "          docLink.innerHTML = docLinkHtml;\n",
              "          element.appendChild(docLink);\n",
              "        }\n",
              "      </script>\n",
              "    </div>\n",
              "  </div>\n",
              "  "
            ]
          },
          "metadata": {},
          "execution_count": 8
        }
      ]
    },
    {
      "cell_type": "markdown",
      "source": [
        "## Correlacion"
      ],
      "metadata": {
        "id": "7XxYWcSWk4Ni"
      }
    },
    {
      "cell_type": "markdown",
      "source": [
        "### Matriz de Correlacion"
      ],
      "metadata": {
        "id": "V1Gkk-b3obmy"
      }
    },
    {
      "cell_type": "code",
      "source": [
        "import seaborn as sns\n",
        "import matplotlib.pyplot as plt\n",
        "\n",
        "# Calcula la matriz de correlación\n",
        "correlation_matrix = datos.corr()\n",
        "\n",
        "# Ajusta el tamaño de la figura\n",
        "plt.figure(figsize=(12, 10))\n",
        "\n",
        "# Crea el mapa de calor\n",
        "sns.heatmap(correlation_matrix, annot=True, cmap=\"coolwarm\")\n",
        "\n",
        "# Ajusta la disposición de los elementos en la figura\n",
        "plt.tight_layout()\n",
        "\n",
        "# Muestra el mapa de calor\n",
        "plt.show()\n",
        "\n"
      ],
      "metadata": {
        "colab": {
          "base_uri": "https://localhost:8080/",
          "height": 1000
        },
        "id": "kienA5GQmsyv",
        "outputId": "c5f8228e-7286-4005-cd39-e64630320eae"
      },
      "execution_count": 9,
      "outputs": [
        {
          "output_type": "display_data",
          "data": {
            "text/plain": [
              "<Figure size 1200x1000 with 2 Axes>"
            ],
            "image/png": "[encoded data removed]"
          },
          "metadata": {}
        }
      ]
    },
    {
      "cell_type": "markdown",
      "source": [
        "### Correlacion Variable Objetivo"
      ],
      "metadata": {
        "id": "m7tN2mhJofn5"
      }
    },
    {
      "cell_type": "markdown",
      "source": [
        "**Magnitud de la correlación:**\n",
        "\n",
        " *Valores cercanos a 1 indican una correlación positiva fuerte, lo que significa que las variables tienden a aumentar o disminuir juntas.\n",
        "Valores cercanos a -1 indican una correlación negativa fuerte, lo que significa que las variables tienden a cambiar en direcciones opuestas.\n",
        "Valores cercanos a 0 indican una correlación débil o nula, lo que implica que no hay una relación lineal aparente entre las variables.*\n",
        "\n",
        "**Dirección de la correlación:**\n",
        "\n",
        " *Una correlación positiva indica que, a medida que una variable aumenta, la otra también tiende a aumentar. Por ejemplo, si la correlación entre el ingreso y el gasto es positiva, significa que a medida que el ingreso aumenta, también lo hace el gasto.\n",
        "Una correlación negativa indica que, a medida que una variable aumenta, la otra tiende a disminuir. Por ejemplo, si la correlación entre la edad y la frecuencia cardíaca es negativa, significa que a medida que la edad aumenta, la frecuencia cardíaca tiende a disminuir.*"
      ],
      "metadata": {
        "id": "5Cc5d-3cl-0H"
      }
    },
    {
      "cell_type": "code",
      "source": [
        "correlation = datos.corr()\n",
        "target_correlation = correlation['ausente']\n",
        "print(target_correlation)"
      ],
      "metadata": {
        "colab": {
          "base_uri": "https://localhost:8080/"
        },
        "id": "mZDjPwcflcPh",
        "outputId": "eeb82db3-8a2d-4dcd-f250-0a92a035f7d1"
      },
      "execution_count": 10,
      "outputs": [
        {
          "output_type": "stream",
          "name": "stdout",
          "text": [
            "id               -0.005609\n",
            "id_paciente      -0.002152\n",
            "id_turno         -0.186679\n",
            "cod_barrio       -0.009102\n",
            "edad             -0.061913\n",
            "plan_social       0.031237\n",
            "hipertension     -0.035368\n",
            "diabetes         -0.014674\n",
            "alcoholismo      -0.001217\n",
            "discapacidades   -0.004479\n",
            "sms_recibidos     0.118761\n",
            "ausente           1.000000\n",
            "Name: ausente, dtype: float64\n"
          ]
        }
      ]
    },
    {
      "cell_type": "markdown",
      "source": [
        "## Clasificacion de variables"
      ],
      "metadata": {
        "id": "e002bXgVmEeg"
      }
    },
    {
      "cell_type": "code",
      "source": [
        "# # Convertir las variables a categóricas\n",
        "# datos['sexo'] = datos['sexo'].astype('category')\n",
        "# datos['plan_social'] = datos['plan_social'].astype('category')\n",
        "# datos['hipertension'] = datos['hipertension'].astype('category')\n",
        "# datos['diabetes'] = datos['diabetes'].astype('category')\n",
        "# datos['alcoholismo'] = datos['alcoholismo'].astype('category')\n",
        "# datos['discapacidades'] = datos['discapacidades'].astype('category')\n",
        "# datos['sms_recibidos'] = datos['sms_recibidos'].astype('category')\n",
        "# datos['ausente'] = datos['ausente'].astype('category')\n",
        "# datos['id_paciente'] = datos['id_paciente'].astype('category')\n",
        "\n",
        "datos.info()"
      ],
      "metadata": {
        "colab": {
          "base_uri": "https://localhost:8080/"
        },
        "id": "pL1W5MqJQw-r",
        "outputId": "5c041477-b282-46fe-b0b8-b719e47445f5"
      },
      "execution_count": 11,
      "outputs": [
        {
          "output_type": "stream",
          "name": "stdout",
          "text": [
            "<class 'pandas.core.frame.DataFrame'>\n",
            "RangeIndex: 86000 entries, 0 to 85999\n",
            "Data columns (total 15 columns):\n",
            " #   Column             Non-Null Count  Dtype \n",
            "---  ------             --------------  ----- \n",
            " 0   id                 86000 non-null  int64 \n",
            " 1   id_paciente        86000 non-null  int64 \n",
            " 2   id_turno           86000 non-null  int64 \n",
            " 3   sexo               86000 non-null  object\n",
            " 4   dia_reserva_turno  86000 non-null  object\n",
            " 5   dia_turno          86000 non-null  object\n",
            " 6   cod_barrio         86000 non-null  int64 \n",
            " 7   edad               86000 non-null  int64 \n",
            " 8   plan_social        86000 non-null  int64 \n",
            " 9   hipertension       86000 non-null  int64 \n",
            " 10  diabetes           86000 non-null  int64 \n",
            " 11  alcoholismo        86000 non-null  int64 \n",
            " 12  discapacidades     86000 non-null  int64 \n",
            " 13  sms_recibidos      86000 non-null  int64 \n",
            " 14  ausente            86000 non-null  int64 \n",
            "dtypes: int64(12), object(3)\n",
            "memory usage: 9.8+ MB\n"
          ]
        }
      ]
    },
    {
      "cell_type": "markdown",
      "source": [
        "## Manipulacion de tipos"
      ],
      "metadata": {
        "id": "zPIAgwp1mU-b"
      }
    },
    {
      "cell_type": "code",
      "source": [
        "datos['sexo'] = datos['sexo'].replace({'F': 0, 'M': 1})"
      ],
      "metadata": {
        "id": "Uoi8V9qeTc39"
      },
      "execution_count": 12,
      "outputs": []
    },
    {
      "cell_type": "code",
      "source": [
        "# Extraer el día y el mes de la columna de fecha\n",
        "datos['dia_reserva_turno'] = pd.to_datetime(datos['dia_reserva_turno']).dt.day\n",
        "datos['mes_reserva_turno'] = pd.to_datetime(datos['dia_reserva_turno']).dt.month\n",
        "\n",
        "datos['dia_turno'] = pd.to_datetime(datos['dia_turno']).dt.day\n",
        "datos['mes_turno'] = pd.to_datetime(datos['dia_turno']).dt.month\n",
        "\n",
        "# Calcular la diferencia de días entre reserva y turno\n",
        "datos['dif_dias_reserva'] = datos['dia_turno'] - datos['dia_reserva_turno']\n",
        "datos['dif_meses_reserva'] = datos['mes_turno'] - datos['mes_reserva_turno']\n"
      ],
      "metadata": {
        "id": "vrsZzS3UWi2c"
      },
      "execution_count": 13,
      "outputs": []
    },
    {
      "cell_type": "markdown",
      "source": [
        "Normalizacion de datos numericos"
      ],
      "metadata": {
        "id": "XjdFiPa9nlf3"
      }
    },
    {
      "cell_type": "code",
      "source": [
        "# # Seleccionar solo las características numéricas\n",
        "# numeric_features = ['edad', 'sms_recibidos', 'dif_dias_reserva'] #,'discapacidades'\n",
        "# numeric_data = datos[numeric_features]\n",
        "\n",
        "# # Crear el objeto del escalador\n",
        "# scaler = MinMaxScaler()\n",
        "\n",
        "# # Ajustar y transformar los datos\n",
        "# normalized_data = scaler.fit_transform(numeric_data)\n",
        "\n",
        "# # Crear un nuevo DataFrame con los datos normalizados\n",
        "# normalized_df = pd.DataFrame(normalized_data, columns=numeric_features)\n",
        "\n",
        "# # Reemplazar las columnas numéricas en el DataFrame original con las columnas normalizadas\n",
        "# datos[numeric_features] = normalized_df\n",
        "\n",
        "# # # Ver los datos normalizados\n",
        "# # print(datos)"
      ],
      "metadata": {
        "id": "DDDhj6hknkOw"
      },
      "execution_count": 14,
      "outputs": []
    },
    {
      "cell_type": "markdown",
      "source": [
        "Normalizacion de la fecha"
      ],
      "metadata": {
        "id": "yJcWVnNVo4Pb"
      }
    },
    {
      "cell_type": "code",
      "source": [
        "# columnas_fecha = [ 'dia_turno'] #'dia_reserva_turno',\n",
        "\n",
        "# # Función para normalizar una columna\n",
        "# normalize_column = lambda x: (x - x.min()) / (x.max() - x.min())\n",
        "\n",
        "# # Aplicar la normalización a las columnas de fecha\n",
        "# datos[columnas_fecha] = datos[columnas_fecha].apply(normalize_column)\n",
        "\n",
        "# # print(datos)\n"
      ],
      "metadata": {
        "id": "kt0chEJ_o3MI"
      },
      "execution_count": 15,
      "outputs": []
    },
    {
      "cell_type": "code",
      "source": [
        "datos.head(10)"
      ],
      "metadata": {
        "colab": {
          "base_uri": "https://localhost:8080/",
          "height": 0
        },
        "id": "vj6tnq5npgs0",
        "outputId": "3916b35f-7ef2-4a5f-8cae-bbdf88db1d76"
      },
      "execution_count": 16,
      "outputs": [
        {
          "output_type": "execute_result",
          "data": {
            "text/plain": [
              "   id  id_paciente  id_turno  sexo  dia_reserva_turno  dia_turno  cod_barrio  \\\n",
              "0   1        30846     29333     0                 12         12          40   \n",
              "1   2        55326     29080     1                 12         12          40   \n",
              "2   3        15723     29116     0                 12         12          46   \n",
              "3   4         9019     29300     0                 12         12          55   \n",
              "4   5        23942     29074     0                 12         12          40   \n",
              "5   6        47044     21107     0                 10         12          59   \n",
              "6   7        57940     22504     0                 10         12          26   \n",
              "7   8        14327     22617     0                 10         12          26   \n",
              "8   9        37461     26345     0                 12         12           2   \n",
              "9  10        42681     21988     0                 10         12          13   \n",
              "\n",
              "   edad  plan_social  hipertension  diabetes  alcoholismo  discapacidades  \\\n",
              "0    62            0             1         0            0               0   \n",
              "1    56            0             0         0            0               0   \n",
              "2    62            0             0         0            0               0   \n",
              "3     8            0             0         0            0               0   \n",
              "4    56            0             1         1            0               0   \n",
              "5    76            0             1         0            0               0   \n",
              "6    23            0             0         0            0               0   \n",
              "7    39            0             0         0            0               0   \n",
              "8    21            0             0         0            0               0   \n",
              "9    19            0             0         0            0               0   \n",
              "\n",
              "   sms_recibidos  ausente  mes_reserva_turno  mes_turno  dif_dias_reserva  \\\n",
              "0              0        0                  1          1                 0   \n",
              "1              0        0                  1          1                 0   \n",
              "2              0        0                  1          1                 0   \n",
              "3              0        0                  1          1                 0   \n",
              "4              0        0                  1          1                 0   \n",
              "5              0        0                  1          1                 2   \n",
              "6              0        1                  1          1                 2   \n",
              "7              0        1                  1          1                 2   \n",
              "8              0        0                  1          1                 0   \n",
              "9              0        0                  1          1                 2   \n",
              "\n",
              "   dif_meses_reserva  \n",
              "0                  0  \n",
              "1                  0  \n",
              "2                  0  \n",
              "3                  0  \n",
              "4                  0  \n",
              "5                  0  \n",
              "6                  0  \n",
              "7                  0  \n",
              "8                  0  \n",
              "9                  0  "
            ],
            "text/html": [
              "\n",
              "  <div id=\"df-48e45e7e-e3fb-4dc6-a150-9d4487ac5bff\">\n",
              "    <div class=\"colab-df-container\">\n",
              "      <div>\n",
              "<style scoped>\n",
              "    .dataframe tbody tr th:only-of-type {\n",
              "        vertical-align: middle;\n",
              "    }\n",
              "\n",
              "    .dataframe tbody tr th {\n",
              "        vertical-align: top;\n",
              "    }\n",
              "\n",
              "    .dataframe thead th {\n",
              "        text-align: right;\n",
              "    }\n",
              "</style>\n",
              "<table border=\"1\" class=\"dataframe\">\n",
              "  <thead>\n",
              "    <tr style=\"text-align: right;\">\n",
              "      <th></th>\n",
              "      <th>id</th>\n",
              "      <th>id_paciente</th>\n",
              "      <th>id_turno</th>\n",
              "      <th>sexo</th>\n",
              "      <th>dia_reserva_turno</th>\n",
              "      <th>dia_turno</th>\n",
              "      <th>cod_barrio</th>\n",
              "      <th>edad</th>\n",
              "      <th>plan_social</th>\n",
              "      <th>hipertension</th>\n",
              "      <th>diabetes</th>\n",
              "      <th>alcoholismo</th>\n",
              "      <th>discapacidades</th>\n",
              "      <th>sms_recibidos</th>\n",
              "      <th>ausente</th>\n",
              "      <th>mes_reserva_turno</th>\n",
              "      <th>mes_turno</th>\n",
              "      <th>dif_dias_reserva</th>\n",
              "      <th>dif_meses_reserva</th>\n",
              "    </tr>\n",
              "  </thead>\n",
              "  <tbody>\n",
              "    <tr>\n",
              "      <th>0</th>\n",
              "      <td>1</td>\n",
              "      <td>30846</td>\n",
              "      <td>29333</td>\n",
              "      <td>0</td>\n",
              "      <td>12</td>\n",
              "      <td>12</td>\n",
              "      <td>40</td>\n",
              "      <td>62</td>\n",
              "      <td>0</td>\n",
              "      <td>1</td>\n",
              "      <td>0</td>\n",
              "      <td>0</td>\n",
              "      <td>0</td>\n",
              "      <td>0</td>\n",
              "      <td>0</td>\n",
              "      <td>1</td>\n",
              "      <td>1</td>\n",
              "      <td>0</td>\n",
              "      <td>0</td>\n",
              "    </tr>\n",
              "    <tr>\n",
              "      <th>1</th>\n",
              "      <td>2</td>\n",
              "      <td>55326</td>\n",
              "      <td>29080</td>\n",
              "      <td>1</td>\n",
              "      <td>12</td>\n",
              "      <td>12</td>\n",
              "      <td>40</td>\n",
              "      <td>56</td>\n",
              "      <td>0</td>\n",
              "      <td>0</td>\n",
              "      <td>0</td>\n",
              "      <td>0</td>\n",
              "      <td>0</td>\n",
              "      <td>0</td>\n",
              "      <td>0</td>\n",
              "      <td>1</td>\n",
              "      <td>1</td>\n",
              "      <td>0</td>\n",
              "      <td>0</td>\n",
              "    </tr>\n",
              "    <tr>\n",
              "      <th>2</th>\n",
              "      <td>3</td>\n",
              "      <td>15723</td>\n",
              "      <td>29116</td>\n",
              "      <td>0</td>\n",
              "      <td>12</td>\n",
              "      <td>12</td>\n",
              "      <td>46</td>\n",
              "      <td>62</td>\n",
              "      <td>0</td>\n",
              "      <td>0</td>\n",
              "      <td>0</td>\n",
              "      <td>0</td>\n",
              "      <td>0</td>\n",
              "      <td>0</td>\n",
              "      <td>0</td>\n",
              "      <td>1</td>\n",
              "      <td>1</td>\n",
              "      <td>0</td>\n",
              "      <td>0</td>\n",
              "    </tr>\n",
              "    <tr>\n",
              "      <th>3</th>\n",
              "      <td>4</td>\n",
              "      <td>9019</td>\n",
              "      <td>29300</td>\n",
              "      <td>0</td>\n",
              "      <td>12</td>\n",
              "      <td>12</td>\n",
              "      <td>55</td>\n",
              "      <td>8</td>\n",
              "      <td>0</td>\n",
              "      <td>0</td>\n",
              "      <td>0</td>\n",
              "      <td>0</td>\n",
              "      <td>0</td>\n",
              "      <td>0</td>\n",
              "      <td>0</td>\n",
              "      <td>1</td>\n",
              "      <td>1</td>\n",
              "      <td>0</td>\n",
              "      <td>0</td>\n",
              "    </tr>\n",
              "    <tr>\n",
              "      <th>4</th>\n",
              "      <td>5</td>\n",
              "      <td>23942</td>\n",
              "      <td>29074</td>\n",
              "      <td>0</td>\n",
              "      <td>12</td>\n",
              "      <td>12</td>\n",
              "      <td>40</td>\n",
              "      <td>56</td>\n",
              "      <td>0</td>\n",
              "      <td>1</td>\n",
              "      <td>1</td>\n",
              "      <td>0</td>\n",
              "      <td>0</td>\n",
              "      <td>0</td>\n",
              "      <td>0</td>\n",
              "      <td>1</td>\n",
              "      <td>1</td>\n",
              "      <td>0</td>\n",
              "      <td>0</td>\n",
              "    </tr>\n",
              "    <tr>\n",
              "      <th>5</th>\n",
              "      <td>6</td>\n",
              "      <td>47044</td>\n",
              "      <td>21107</td>\n",
              "      <td>0</td>\n",
              "      <td>10</td>\n",
              "      <td>12</td>\n",
              "      <td>59</td>\n",
              "      <td>76</td>\n",
              "      <td>0</td>\n",
              "      <td>1</td>\n",
              "      <td>0</td>\n",
              "      <td>0</td>\n",
              "      <td>0</td>\n",
              "      <td>0</td>\n",
              "      <td>0</td>\n",
              "      <td>1</td>\n",
              "      <td>1</td>\n",
              "      <td>2</td>\n",
              "      <td>0</td>\n",
              "    </tr>\n",
              "    <tr>\n",
              "      <th>6</th>\n",
              "      <td>7</td>\n",
              "      <td>57940</td>\n",
              "      <td>22504</td>\n",
              "      <td>0</td>\n",
              "      <td>10</td>\n",
              "      <td>12</td>\n",
              "      <td>26</td>\n",
              "      <td>23</td>\n",
              "      <td>0</td>\n",
              "      <td>0</td>\n",
              "      <td>0</td>\n",
              "      <td>0</td>\n",
              "      <td>0</td>\n",
              "      <td>0</td>\n",
              "      <td>1</td>\n",
              "      <td>1</td>\n",
              "      <td>1</td>\n",
              "      <td>2</td>\n",
              "      <td>0</td>\n",
              "    </tr>\n",
              "    <tr>\n",
              "      <th>7</th>\n",
              "      <td>8</td>\n",
              "      <td>14327</td>\n",
              "      <td>22617</td>\n",
              "      <td>0</td>\n",
              "      <td>10</td>\n",
              "      <td>12</td>\n",
              "      <td>26</td>\n",
              "      <td>39</td>\n",
              "      <td>0</td>\n",
              "      <td>0</td>\n",
              "      <td>0</td>\n",
              "      <td>0</td>\n",
              "      <td>0</td>\n",
              "      <td>0</td>\n",
              "      <td>1</td>\n",
              "      <td>1</td>\n",
              "      <td>1</td>\n",
              "      <td>2</td>\n",
              "      <td>0</td>\n",
              "    </tr>\n",
              "    <tr>\n",
              "      <th>8</th>\n",
              "      <td>9</td>\n",
              "      <td>37461</td>\n",
              "      <td>26345</td>\n",
              "      <td>0</td>\n",
              "      <td>12</td>\n",
              "      <td>12</td>\n",
              "      <td>2</td>\n",
              "      <td>21</td>\n",
              "      <td>0</td>\n",
              "      <td>0</td>\n",
              "      <td>0</td>\n",
              "      <td>0</td>\n",
              "      <td>0</td>\n",
              "      <td>0</td>\n",
              "      <td>0</td>\n",
              "      <td>1</td>\n",
              "      <td>1</td>\n",
              "      <td>0</td>\n",
              "      <td>0</td>\n",
              "    </tr>\n",
              "    <tr>\n",
              "      <th>9</th>\n",
              "      <td>10</td>\n",
              "      <td>42681</td>\n",
              "      <td>21988</td>\n",
              "      <td>0</td>\n",
              "      <td>10</td>\n",
              "      <td>12</td>\n",
              "      <td>13</td>\n",
              "      <td>19</td>\n",
              "      <td>0</td>\n",
              "      <td>0</td>\n",
              "      <td>0</td>\n",
              "      <td>0</td>\n",
              "      <td>0</td>\n",
              "      <td>0</td>\n",
              "      <td>0</td>\n",
              "      <td>1</td>\n",
              "      <td>1</td>\n",
              "      <td>2</td>\n",
              "      <td>0</td>\n",
              "    </tr>\n",
              "  </tbody>\n",
              "</table>\n",
              "</div>\n",
              "      <button class=\"colab-df-convert\" onclick=\"convertToInteractive('df-48e45e7e-e3fb-4dc6-a150-9d4487ac5bff')\"\n",
              "              title=\"Convert this dataframe to an interactive table.\"\n",
              "              style=\"display:none;\">\n",
              "        \n",
              "  <svg xmlns=\"http://www.w3.org/2000/svg\" height=\"24px\"viewBox=\"0 0 24 24\"\n",
              "       width=\"24px\">\n",
              "    <path d=\"M0 0h24v24H0V0z\" fill=\"none\"/>\n",
              "    <path d=\"M18.56 5.44l.94 2.06.94-2.06 2.06-.94-2.06-.94-.94-2.06-.94 2.06-2.06.94zm-11 1L8.5 8.5l.94-2.06 2.06-.94-2.06-.94L8.5 2.5l-.94 2.06-2.06.94zm10 10l.94 2.06.94-2.06 2.06-.94-2.06-.94-.94-2.06-.94 2.06-2.06.94z\"/><path d=\"M17.41 7.96l-1.37-1.37c-.4-.4-.92-.59-1.43-.59-.52 0-1.04.2-1.43.59L10.3 9.45l-7.72 7.72c-.78.78-.78 2.05 0 2.83L4 21.41c.39.39.9.59 1.41.59.51 0 1.02-.2 1.41-.59l7.78-7.78 2.81-2.81c.8-.78.8-2.07 0-2.86zM5.41 20L4 18.59l7.72-7.72 1.47 1.35L5.41 20z\"/>\n",
              "  </svg>\n",
              "      </button>\n",
              "      \n",
              "  <style>\n",
              "    .colab-df-container {\n",
              "      display:flex;\n",
              "      flex-wrap:wrap;\n",
              "      gap: 12px;\n",
              "    }\n",
              "\n",
              "    .colab-df-convert {\n",
              "      background-color: #E8F0FE;\n",
              "      border: none;\n",
              "      border-radius: 50%;\n",
              "      cursor: pointer;\n",
              "      display: none;\n",
              "      fill: #1967D2;\n",
              "      height: 32px;\n",
              "      padding: 0 0 0 0;\n",
              "      width: 32px;\n",
              "    }\n",
              "\n",
              "    .colab-df-convert:hover {\n",
              "      background-color: #E2EBFA;\n",
              "      box-shadow: 0px 1px 2px rgba(60, 64, 67, 0.3), 0px 1px 3px 1px rgba(60, 64, 67, 0.15);\n",
              "      fill: #174EA6;\n",
              "    }\n",
              "\n",
              "    [theme=dark] .colab-df-convert {\n",
              "      background-color: #3B4455;\n",
              "      fill: #D2E3FC;\n",
              "    }\n",
              "\n",
              "    [theme=dark] .colab-df-convert:hover {\n",
              "      background-color: #434B5C;\n",
              "      box-shadow: 0px 1px 3px 1px rgba(0, 0, 0, 0.15);\n",
              "      filter: drop-shadow(0px 1px 2px rgba(0, 0, 0, 0.3));\n",
              "      fill: #FFFFFF;\n",
              "    }\n",
              "  </style>\n",
              "\n",
              "      <script>\n",
              "        const buttonEl =\n",
              "          document.querySelector('#df-48e45e7e-e3fb-4dc6-a150-9d4487ac5bff button.colab-df-convert');\n",
              "        buttonEl.style.display =\n",
              "          google.colab.kernel.accessAllowed ? 'block' : 'none';\n",
              "\n",
              "        async function convertToInteractive(key) {\n",
              "          const element = document.querySelector('#df-48e45e7e-e3fb-4dc6-a150-9d4487ac5bff');\n",
              "          const dataTable =\n",
              "            await google.colab.kernel.invokeFunction('convertToInteractive',\n",
              "                                                     [key], {});\n",
              "          if (!dataTable) return;\n",
              "\n",
              "          const docLinkHtml = 'Like what you see? Visit the ' +\n",
              "            '<a target=\"_blank\" href=https://colab.research.google.com/notebooks/data_table.ipynb>data table notebook</a>'\n",
              "            + ' to learn more about interactive tables.';\n",
              "          element.innerHTML = '';\n",
              "          dataTable['output_type'] = 'display_data';\n",
              "          await google.colab.output.renderOutput(dataTable, element);\n",
              "          const docLink = document.createElement('div');\n",
              "          docLink.innerHTML = docLinkHtml;\n",
              "          element.appendChild(docLink);\n",
              "        }\n",
              "      </script>\n",
              "    </div>\n",
              "  </div>\n",
              "  "
            ]
          },
          "metadata": {},
          "execution_count": 16
        }
      ]
    },
    {
      "cell_type": "markdown",
      "source": [
        "## Reordenamiento de columnas"
      ],
      "metadata": {
        "id": "GYliSnnJmO_R"
      }
    },
    {
      "cell_type": "code",
      "source": [
        "# Especificar el nuevo orden de las columnas\n",
        "new_columns = ['id', 'id_turno', 'cod_barrio', 'dia_reserva_turno', 'dia_turno', 'id_paciente', 'sexo', 'edad', 'plan_social', 'dif_dias_reserva', 'hipertension', 'diabetes', 'alcoholismo', 'discapacidades', 'sms_recibidos', 'ausente']\n",
        "\n",
        "# Reordenar las columnas utilizando reindex\n",
        "datos = datos.reindex(columns=new_columns)\n",
        "\n",
        "# Mostrar los datos actualizados\n",
        "datos.head(5)"
      ],
      "metadata": {
        "colab": {
          "base_uri": "https://localhost:8080/",
          "height": 0
        },
        "id": "1Tk1IvFGRLA8",
        "outputId": "10c1074e-c6e4-418d-eea0-75119263f3c2"
      },
      "execution_count": 17,
      "outputs": [
        {
          "output_type": "execute_result",
          "data": {
            "text/plain": [
              "   id  id_turno  cod_barrio  dia_reserva_turno  dia_turno  id_paciente  sexo  \\\n",
              "0   1     29333          40                 12         12        30846     0   \n",
              "1   2     29080          40                 12         12        55326     1   \n",
              "2   3     29116          46                 12         12        15723     0   \n",
              "3   4     29300          55                 12         12         9019     0   \n",
              "4   5     29074          40                 12         12        23942     0   \n",
              "\n",
              "   edad  plan_social  dif_dias_reserva  hipertension  diabetes  alcoholismo  \\\n",
              "0    62            0                 0             1         0            0   \n",
              "1    56            0                 0             0         0            0   \n",
              "2    62            0                 0             0         0            0   \n",
              "3     8            0                 0             0         0            0   \n",
              "4    56            0                 0             1         1            0   \n",
              "\n",
              "   discapacidades  sms_recibidos  ausente  \n",
              "0               0              0        0  \n",
              "1               0              0        0  \n",
              "2               0              0        0  \n",
              "3               0              0        0  \n",
              "4               0              0        0  "
            ],
            "text/html": [
              "\n",
              "  <div id=\"df-b984709a-4590-4742-9ed3-df4d3c7c037a\">\n",
              "    <div class=\"colab-df-container\">\n",
              "      <div>\n",
              "<style scoped>\n",
              "    .dataframe tbody tr th:only-of-type {\n",
              "        vertical-align: middle;\n",
              "    }\n",
              "\n",
              "    .dataframe tbody tr th {\n",
              "        vertical-align: top;\n",
              "    }\n",
              "\n",
              "    .dataframe thead th {\n",
              "        text-align: right;\n",
              "    }\n",
              "</style>\n",
              "<table border=\"1\" class=\"dataframe\">\n",
              "  <thead>\n",
              "    <tr style=\"text-align: right;\">\n",
              "      <th></th>\n",
              "      <th>id</th>\n",
              "      <th>id_turno</th>\n",
              "      <th>cod_barrio</th>\n",
              "      <th>dia_reserva_turno</th>\n",
              "      <th>dia_turno</th>\n",
              "      <th>id_paciente</th>\n",
              "      <th>sexo</th>\n",
              "      <th>edad</th>\n",
              "      <th>plan_social</th>\n",
              "      <th>dif_dias_reserva</th>\n",
              "      <th>hipertension</th>\n",
              "      <th>diabetes</th>\n",
              "      <th>alcoholismo</th>\n",
              "      <th>discapacidades</th>\n",
              "      <th>sms_recibidos</th>\n",
              "      <th>ausente</th>\n",
              "    </tr>\n",
              "  </thead>\n",
              "  <tbody>\n",
              "    <tr>\n",
              "      <th>0</th>\n",
              "      <td>1</td>\n",
              "      <td>29333</td>\n",
              "      <td>40</td>\n",
              "      <td>12</td>\n",
              "      <td>12</td>\n",
              "      <td>30846</td>\n",
              "      <td>0</td>\n",
              "      <td>62</td>\n",
              "      <td>0</td>\n",
              "      <td>0</td>\n",
              "      <td>1</td>\n",
              "      <td>0</td>\n",
              "      <td>0</td>\n",
              "      <td>0</td>\n",
              "      <td>0</td>\n",
              "      <td>0</td>\n",
              "    </tr>\n",
              "    <tr>\n",
              "      <th>1</th>\n",
              "      <td>2</td>\n",
              "      <td>29080</td>\n",
              "      <td>40</td>\n",
              "      <td>12</td>\n",
              "      <td>12</td>\n",
              "      <td>55326</td>\n",
              "      <td>1</td>\n",
              "      <td>56</td>\n",
              "      <td>0</td>\n",
              "      <td>0</td>\n",
              "      <td>0</td>\n",
              "      <td>0</td>\n",
              "      <td>0</td>\n",
              "      <td>0</td>\n",
              "      <td>0</td>\n",
              "      <td>0</td>\n",
              "    </tr>\n",
              "    <tr>\n",
              "      <th>2</th>\n",
              "      <td>3</td>\n",
              "      <td>29116</td>\n",
              "      <td>46</td>\n",
              "      <td>12</td>\n",
              "      <td>12</td>\n",
              "      <td>15723</td>\n",
              "      <td>0</td>\n",
              "      <td>62</td>\n",
              "      <td>0</td>\n",
              "      <td>0</td>\n",
              "      <td>0</td>\n",
              "      <td>0</td>\n",
              "      <td>0</td>\n",
              "      <td>0</td>\n",
              "      <td>0</td>\n",
              "      <td>0</td>\n",
              "    </tr>\n",
              "    <tr>\n",
              "      <th>3</th>\n",
              "      <td>4</td>\n",
              "      <td>29300</td>\n",
              "      <td>55</td>\n",
              "      <td>12</td>\n",
              "      <td>12</td>\n",
              "      <td>9019</td>\n",
              "      <td>0</td>\n",
              "      <td>8</td>\n",
              "      <td>0</td>\n",
              "      <td>0</td>\n",
              "      <td>0</td>\n",
              "      <td>0</td>\n",
              "      <td>0</td>\n",
              "      <td>0</td>\n",
              "      <td>0</td>\n",
              "      <td>0</td>\n",
              "    </tr>\n",
              "    <tr>\n",
              "      <th>4</th>\n",
              "      <td>5</td>\n",
              "      <td>29074</td>\n",
              "      <td>40</td>\n",
              "      <td>12</td>\n",
              "      <td>12</td>\n",
              "      <td>23942</td>\n",
              "      <td>0</td>\n",
              "      <td>56</td>\n",
              "      <td>0</td>\n",
              "      <td>0</td>\n",
              "      <td>1</td>\n",
              "      <td>1</td>\n",
              "      <td>0</td>\n",
              "      <td>0</td>\n",
              "      <td>0</td>\n",
              "      <td>0</td>\n",
              "    </tr>\n",
              "  </tbody>\n",
              "</table>\n",
              "</div>\n",
              "      <button class=\"colab-df-convert\" onclick=\"convertToInteractive('df-b984709a-4590-4742-9ed3-df4d3c7c037a')\"\n",
              "              title=\"Convert this dataframe to an interactive table.\"\n",
              "              style=\"display:none;\">\n",
              "        \n",
              "  <svg xmlns=\"http://www.w3.org/2000/svg\" height=\"24px\"viewBox=\"0 0 24 24\"\n",
              "       width=\"24px\">\n",
              "    <path d=\"M0 0h24v24H0V0z\" fill=\"none\"/>\n",
              "    <path d=\"M18.56 5.44l.94 2.06.94-2.06 2.06-.94-2.06-.94-.94-2.06-.94 2.06-2.06.94zm-11 1L8.5 8.5l.94-2.06 2.06-.94-2.06-.94L8.5 2.5l-.94 2.06-2.06.94zm10 10l.94 2.06.94-2.06 2.06-.94-2.06-.94-.94-2.06-.94 2.06-2.06.94z\"/><path d=\"M17.41 7.96l-1.37-1.37c-.4-.4-.92-.59-1.43-.59-.52 0-1.04.2-1.43.59L10.3 9.45l-7.72 7.72c-.78.78-.78 2.05 0 2.83L4 21.41c.39.39.9.59 1.41.59.51 0 1.02-.2 1.41-.59l7.78-7.78 2.81-2.81c.8-.78.8-2.07 0-2.86zM5.41 20L4 18.59l7.72-7.72 1.47 1.35L5.41 20z\"/>\n",
              "  </svg>\n",
              "      </button>\n",
              "      \n",
              "  <style>\n",
              "    .colab-df-container {\n",
              "      display:flex;\n",
              "      flex-wrap:wrap;\n",
              "      gap: 12px;\n",
              "    }\n",
              "\n",
              "    .colab-df-convert {\n",
              "      background-color: #E8F0FE;\n",
              "      border: none;\n",
              "      border-radius: 50%;\n",
              "      cursor: pointer;\n",
              "      display: none;\n",
              "      fill: #1967D2;\n",
              "      height: 32px;\n",
              "      padding: 0 0 0 0;\n",
              "      width: 32px;\n",
              "    }\n",
              "\n",
              "    .colab-df-convert:hover {\n",
              "      background-color: #E2EBFA;\n",
              "      box-shadow: 0px 1px 2px rgba(60, 64, 67, 0.3), 0px 1px 3px 1px rgba(60, 64, 67, 0.15);\n",
              "      fill: #174EA6;\n",
              "    }\n",
              "\n",
              "    [theme=dark] .colab-df-convert {\n",
              "      background-color: #3B4455;\n",
              "      fill: #D2E3FC;\n",
              "    }\n",
              "\n",
              "    [theme=dark] .colab-df-convert:hover {\n",
              "      background-color: #434B5C;\n",
              "      box-shadow: 0px 1px 3px 1px rgba(0, 0, 0, 0.15);\n",
              "      filter: drop-shadow(0px 1px 2px rgba(0, 0, 0, 0.3));\n",
              "      fill: #FFFFFF;\n",
              "    }\n",
              "  </style>\n",
              "\n",
              "      <script>\n",
              "        const buttonEl =\n",
              "          document.querySelector('#df-b984709a-4590-4742-9ed3-df4d3c7c037a button.colab-df-convert');\n",
              "        buttonEl.style.display =\n",
              "          google.colab.kernel.accessAllowed ? 'block' : 'none';\n",
              "\n",
              "        async function convertToInteractive(key) {\n",
              "          const element = document.querySelector('#df-b984709a-4590-4742-9ed3-df4d3c7c037a');\n",
              "          const dataTable =\n",
              "            await google.colab.kernel.invokeFunction('convertToInteractive',\n",
              "                                                     [key], {});\n",
              "          if (!dataTable) return;\n",
              "\n",
              "          const docLinkHtml = 'Like what you see? Visit the ' +\n",
              "            '<a target=\"_blank\" href=https://colab.research.google.com/notebooks/data_table.ipynb>data table notebook</a>'\n",
              "            + ' to learn more about interactive tables.';\n",
              "          element.innerHTML = '';\n",
              "          dataTable['output_type'] = 'display_data';\n",
              "          await google.colab.output.renderOutput(dataTable, element);\n",
              "          const docLink = document.createElement('div');\n",
              "          docLink.innerHTML = docLinkHtml;\n",
              "          element.appendChild(docLink);\n",
              "        }\n",
              "      </script>\n",
              "    </div>\n",
              "  </div>\n",
              "  "
            ]
          },
          "metadata": {},
          "execution_count": 17
        }
      ]
    },
    {
      "cell_type": "markdown",
      "source": [
        "## Armado Matriz x e y"
      ],
      "metadata": {
        "id": "HjmjkajgmbxM"
      }
    },
    {
      "cell_type": "code",
      "source": [
        "X=datos.iloc[:,5:15] #antes --> X=datos.iloc[:,0:11] incluia el id\n",
        "X.head(5)"
      ],
      "metadata": {
        "colab": {
          "base_uri": "https://localhost:8080/",
          "height": 0
        },
        "id": "vBPB41JWRQta",
        "outputId": "8153c303-9bc8-41dc-f4ce-57a08af9bdf3"
      },
      "execution_count": 18,
      "outputs": [
        {
          "output_type": "execute_result",
          "data": {
            "text/plain": [
              "   id_paciente  sexo  edad  plan_social  dif_dias_reserva  hipertension  \\\n",
              "0        30846     0    62            0                 0             1   \n",
              "1        55326     1    56            0                 0             0   \n",
              "2        15723     0    62            0                 0             0   \n",
              "3         9019     0     8            0                 0             0   \n",
              "4        23942     0    56            0                 0             1   \n",
              "\n",
              "   diabetes  alcoholismo  discapacidades  sms_recibidos  \n",
              "0         0            0               0              0  \n",
              "1         0            0               0              0  \n",
              "2         0            0               0              0  \n",
              "3         0            0               0              0  \n",
              "4         1            0               0              0  "
            ],
            "text/html": [
              "\n",
              "  <div id=\"df-34ba5130-4428-4d14-8885-d5727e66ddbc\">\n",
              "    <div class=\"colab-df-container\">\n",
              "      <div>\n",
              "<style scoped>\n",
              "    .dataframe tbody tr th:only-of-type {\n",
              "        vertical-align: middle;\n",
              "    }\n",
              "\n",
              "    .dataframe tbody tr th {\n",
              "        vertical-align: top;\n",
              "    }\n",
              "\n",
              "    .dataframe thead th {\n",
              "        text-align: right;\n",
              "    }\n",
              "</style>\n",
              "<table border=\"1\" class=\"dataframe\">\n",
              "  <thead>\n",
              "    <tr style=\"text-align: right;\">\n",
              "      <th></th>\n",
              "      <th>id_paciente</th>\n",
              "      <th>sexo</th>\n",
              "      <th>edad</th>\n",
              "      <th>plan_social</th>\n",
              "      <th>dif_dias_reserva</th>\n",
              "      <th>hipertension</th>\n",
              "      <th>diabetes</th>\n",
              "      <th>alcoholismo</th>\n",
              "      <th>discapacidades</th>\n",
              "      <th>sms_recibidos</th>\n",
              "    </tr>\n",
              "  </thead>\n",
              "  <tbody>\n",
              "    <tr>\n",
              "      <th>0</th>\n",
              "      <td>30846</td>\n",
              "      <td>0</td>\n",
              "      <td>62</td>\n",
              "      <td>0</td>\n",
              "      <td>0</td>\n",
              "      <td>1</td>\n",
              "      <td>0</td>\n",
              "      <td>0</td>\n",
              "      <td>0</td>\n",
              "      <td>0</td>\n",
              "    </tr>\n",
              "    <tr>\n",
              "      <th>1</th>\n",
              "      <td>55326</td>\n",
              "      <td>1</td>\n",
              "      <td>56</td>\n",
              "      <td>0</td>\n",
              "      <td>0</td>\n",
              "      <td>0</td>\n",
              "      <td>0</td>\n",
              "      <td>0</td>\n",
              "      <td>0</td>\n",
              "      <td>0</td>\n",
              "    </tr>\n",
              "    <tr>\n",
              "      <th>2</th>\n",
              "      <td>15723</td>\n",
              "      <td>0</td>\n",
              "      <td>62</td>\n",
              "      <td>0</td>\n",
              "      <td>0</td>\n",
              "      <td>0</td>\n",
              "      <td>0</td>\n",
              "      <td>0</td>\n",
              "      <td>0</td>\n",
              "      <td>0</td>\n",
              "    </tr>\n",
              "    <tr>\n",
              "      <th>3</th>\n",
              "      <td>9019</td>\n",
              "      <td>0</td>\n",
              "      <td>8</td>\n",
              "      <td>0</td>\n",
              "      <td>0</td>\n",
              "      <td>0</td>\n",
              "      <td>0</td>\n",
              "      <td>0</td>\n",
              "      <td>0</td>\n",
              "      <td>0</td>\n",
              "    </tr>\n",
              "    <tr>\n",
              "      <th>4</th>\n",
              "      <td>23942</td>\n",
              "      <td>0</td>\n",
              "      <td>56</td>\n",
              "      <td>0</td>\n",
              "      <td>0</td>\n",
              "      <td>1</td>\n",
              "      <td>1</td>\n",
              "      <td>0</td>\n",
              "      <td>0</td>\n",
              "      <td>0</td>\n",
              "    </tr>\n",
              "  </tbody>\n",
              "</table>\n",
              "</div>\n",
              "      <button class=\"colab-df-convert\" onclick=\"convertToInteractive('df-34ba5130-4428-4d14-8885-d5727e66ddbc')\"\n",
              "              title=\"Convert this dataframe to an interactive table.\"\n",
              "              style=\"display:none;\">\n",
              "        \n",
              "  <svg xmlns=\"http://www.w3.org/2000/svg\" height=\"24px\"viewBox=\"0 0 24 24\"\n",
              "       width=\"24px\">\n",
              "    <path d=\"M0 0h24v24H0V0z\" fill=\"none\"/>\n",
              "    <path d=\"M18.56 5.44l.94 2.06.94-2.06 2.06-.94-2.06-.94-.94-2.06-.94 2.06-2.06.94zm-11 1L8.5 8.5l.94-2.06 2.06-.94-2.06-.94L8.5 2.5l-.94 2.06-2.06.94zm10 10l.94 2.06.94-2.06 2.06-.94-2.06-.94-.94-2.06-.94 2.06-2.06.94z\"/><path d=\"M17.41 7.96l-1.37-1.37c-.4-.4-.92-.59-1.43-.59-.52 0-1.04.2-1.43.59L10.3 9.45l-7.72 7.72c-.78.78-.78 2.05 0 2.83L4 21.41c.39.39.9.59 1.41.59.51 0 1.02-.2 1.41-.59l7.78-7.78 2.81-2.81c.8-.78.8-2.07 0-2.86zM5.41 20L4 18.59l7.72-7.72 1.47 1.35L5.41 20z\"/>\n",
              "  </svg>\n",
              "      </button>\n",
              "      \n",
              "  <style>\n",
              "    .colab-df-container {\n",
              "      display:flex;\n",
              "      flex-wrap:wrap;\n",
              "      gap: 12px;\n",
              "    }\n",
              "\n",
              "    .colab-df-convert {\n",
              "      background-color: #E8F0FE;\n",
              "      border: none;\n",
              "      border-radius: 50%;\n",
              "      cursor: pointer;\n",
              "      display: none;\n",
              "      fill: #1967D2;\n",
              "      height: 32px;\n",
              "      padding: 0 0 0 0;\n",
              "      width: 32px;\n",
              "    }\n",
              "\n",
              "    .colab-df-convert:hover {\n",
              "      background-color: #E2EBFA;\n",
              "      box-shadow: 0px 1px 2px rgba(60, 64, 67, 0.3), 0px 1px 3px 1px rgba(60, 64, 67, 0.15);\n",
              "      fill: #174EA6;\n",
              "    }\n",
              "\n",
              "    [theme=dark] .colab-df-convert {\n",
              "      background-color: #3B4455;\n",
              "      fill: #D2E3FC;\n",
              "    }\n",
              "\n",
              "    [theme=dark] .colab-df-convert:hover {\n",
              "      background-color: #434B5C;\n",
              "      box-shadow: 0px 1px 3px 1px rgba(0, 0, 0, 0.15);\n",
              "      filter: drop-shadow(0px 1px 2px rgba(0, 0, 0, 0.3));\n",
              "      fill: #FFFFFF;\n",
              "    }\n",
              "  </style>\n",
              "\n",
              "      <script>\n",
              "        const buttonEl =\n",
              "          document.querySelector('#df-34ba5130-4428-4d14-8885-d5727e66ddbc button.colab-df-convert');\n",
              "        buttonEl.style.display =\n",
              "          google.colab.kernel.accessAllowed ? 'block' : 'none';\n",
              "\n",
              "        async function convertToInteractive(key) {\n",
              "          const element = document.querySelector('#df-34ba5130-4428-4d14-8885-d5727e66ddbc');\n",
              "          const dataTable =\n",
              "            await google.colab.kernel.invokeFunction('convertToInteractive',\n",
              "                                                     [key], {});\n",
              "          if (!dataTable) return;\n",
              "\n",
              "          const docLinkHtml = 'Like what you see? Visit the ' +\n",
              "            '<a target=\"_blank\" href=https://colab.research.google.com/notebooks/data_table.ipynb>data table notebook</a>'\n",
              "            + ' to learn more about interactive tables.';\n",
              "          element.innerHTML = '';\n",
              "          dataTable['output_type'] = 'display_data';\n",
              "          await google.colab.output.renderOutput(dataTable, element);\n",
              "          const docLink = document.createElement('div');\n",
              "          docLink.innerHTML = docLinkHtml;\n",
              "          element.appendChild(docLink);\n",
              "        }\n",
              "      </script>\n",
              "    </div>\n",
              "  </div>\n",
              "  "
            ]
          },
          "metadata": {},
          "execution_count": 18
        }
      ]
    },
    {
      "cell_type": "code",
      "source": [
        "y=datos.iloc[:,15:16]\n",
        "y.head(7)"
      ],
      "metadata": {
        "colab": {
          "base_uri": "https://localhost:8080/",
          "height": 0
        },
        "id": "MK8lhdRjRUpq",
        "outputId": "bab69eba-52a3-42bf-d0c1-73fa5522d131"
      },
      "execution_count": 19,
      "outputs": [
        {
          "output_type": "execute_result",
          "data": {
            "text/plain": [
              "   ausente\n",
              "0        0\n",
              "1        0\n",
              "2        0\n",
              "3        0\n",
              "4        0\n",
              "5        0\n",
              "6        1"
            ],
            "text/html": [
              "\n",
              "  <div id=\"df-e4772025-0ec2-4b13-8009-34aafb93f057\">\n",
              "    <div class=\"colab-df-container\">\n",
              "      <div>\n",
              "<style scoped>\n",
              "    .dataframe tbody tr th:only-of-type {\n",
              "        vertical-align: middle;\n",
              "    }\n",
              "\n",
              "    .dataframe tbody tr th {\n",
              "        vertical-align: top;\n",
              "    }\n",
              "\n",
              "    .dataframe thead th {\n",
              "        text-align: right;\n",
              "    }\n",
              "</style>\n",
              "<table border=\"1\" class=\"dataframe\">\n",
              "  <thead>\n",
              "    <tr style=\"text-align: right;\">\n",
              "      <th></th>\n",
              "      <th>ausente</th>\n",
              "    </tr>\n",
              "  </thead>\n",
              "  <tbody>\n",
              "    <tr>\n",
              "      <th>0</th>\n",
              "      <td>0</td>\n",
              "    </tr>\n",
              "    <tr>\n",
              "      <th>1</th>\n",
              "      <td>0</td>\n",
              "    </tr>\n",
              "    <tr>\n",
              "      <th>2</th>\n",
              "      <td>0</td>\n",
              "    </tr>\n",
              "    <tr>\n",
              "      <th>3</th>\n",
              "      <td>0</td>\n",
              "    </tr>\n",
              "    <tr>\n",
              "      <th>4</th>\n",
              "      <td>0</td>\n",
              "    </tr>\n",
              "    <tr>\n",
              "      <th>5</th>\n",
              "      <td>0</td>\n",
              "    </tr>\n",
              "    <tr>\n",
              "      <th>6</th>\n",
              "      <td>1</td>\n",
              "    </tr>\n",
              "  </tbody>\n",
              "</table>\n",
              "</div>\n",
              "      <button class=\"colab-df-convert\" onclick=\"convertToInteractive('df-e4772025-0ec2-4b13-8009-34aafb93f057')\"\n",
              "              title=\"Convert this dataframe to an interactive table.\"\n",
              "              style=\"display:none;\">\n",
              "        \n",
              "  <svg xmlns=\"http://www.w3.org/2000/svg\" height=\"24px\"viewBox=\"0 0 24 24\"\n",
              "       width=\"24px\">\n",
              "    <path d=\"M0 0h24v24H0V0z\" fill=\"none\"/>\n",
              "    <path d=\"M18.56 5.44l.94 2.06.94-2.06 2.06-.94-2.06-.94-.94-2.06-.94 2.06-2.06.94zm-11 1L8.5 8.5l.94-2.06 2.06-.94-2.06-.94L8.5 2.5l-.94 2.06-2.06.94zm10 10l.94 2.06.94-2.06 2.06-.94-2.06-.94-.94-2.06-.94 2.06-2.06.94z\"/><path d=\"M17.41 7.96l-1.37-1.37c-.4-.4-.92-.59-1.43-.59-.52 0-1.04.2-1.43.59L10.3 9.45l-7.72 7.72c-.78.78-.78 2.05 0 2.83L4 21.41c.39.39.9.59 1.41.59.51 0 1.02-.2 1.41-.59l7.78-7.78 2.81-2.81c.8-.78.8-2.07 0-2.86zM5.41 20L4 18.59l7.72-7.72 1.47 1.35L5.41 20z\"/>\n",
              "  </svg>\n",
              "      </button>\n",
              "      \n",
              "  <style>\n",
              "    .colab-df-container {\n",
              "      display:flex;\n",
              "      flex-wrap:wrap;\n",
              "      gap: 12px;\n",
              "    }\n",
              "\n",
              "    .colab-df-convert {\n",
              "      background-color: #E8F0FE;\n",
              "      border: none;\n",
              "      border-radius: 50%;\n",
              "      cursor: pointer;\n",
              "      display: none;\n",
              "      fill: #1967D2;\n",
              "      height: 32px;\n",
              "      padding: 0 0 0 0;\n",
              "      width: 32px;\n",
              "    }\n",
              "\n",
              "    .colab-df-convert:hover {\n",
              "      background-color: #E2EBFA;\n",
              "      box-shadow: 0px 1px 2px rgba(60, 64, 67, 0.3), 0px 1px 3px 1px rgba(60, 64, 67, 0.15);\n",
              "      fill: #174EA6;\n",
              "    }\n",
              "\n",
              "    [theme=dark] .colab-df-convert {\n",
              "      background-color: #3B4455;\n",
              "      fill: #D2E3FC;\n",
              "    }\n",
              "\n",
              "    [theme=dark] .colab-df-convert:hover {\n",
              "      background-color: #434B5C;\n",
              "      box-shadow: 0px 1px 3px 1px rgba(0, 0, 0, 0.15);\n",
              "      filter: drop-shadow(0px 1px 2px rgba(0, 0, 0, 0.3));\n",
              "      fill: #FFFFFF;\n",
              "    }\n",
              "  </style>\n",
              "\n",
              "      <script>\n",
              "        const buttonEl =\n",
              "          document.querySelector('#df-e4772025-0ec2-4b13-8009-34aafb93f057 button.colab-df-convert');\n",
              "        buttonEl.style.display =\n",
              "          google.colab.kernel.accessAllowed ? 'block' : 'none';\n",
              "\n",
              "        async function convertToInteractive(key) {\n",
              "          const element = document.querySelector('#df-e4772025-0ec2-4b13-8009-34aafb93f057');\n",
              "          const dataTable =\n",
              "            await google.colab.kernel.invokeFunction('convertToInteractive',\n",
              "                                                     [key], {});\n",
              "          if (!dataTable) return;\n",
              "\n",
              "          const docLinkHtml = 'Like what you see? Visit the ' +\n",
              "            '<a target=\"_blank\" href=https://colab.research.google.com/notebooks/data_table.ipynb>data table notebook</a>'\n",
              "            + ' to learn more about interactive tables.';\n",
              "          element.innerHTML = '';\n",
              "          dataTable['output_type'] = 'display_data';\n",
              "          await google.colab.output.renderOutput(dataTable, element);\n",
              "          const docLink = document.createElement('div');\n",
              "          docLink.innerHTML = docLinkHtml;\n",
              "          element.appendChild(docLink);\n",
              "        }\n",
              "      </script>\n",
              "    </div>\n",
              "  </div>\n",
              "  "
            ]
          },
          "metadata": {},
          "execution_count": 19
        }
      ]
    },
    {
      "cell_type": "markdown",
      "source": [
        "## Balance de clases"
      ],
      "metadata": {
        "id": "iFIxYsXFpwXV"
      }
    },
    {
      "cell_type": "markdown",
      "source": [
        "### Submuestreo + Sobremuestreo"
      ],
      "metadata": {
        "id": "b-PNK7FLHViO"
      }
    },
    {
      "cell_type": "code",
      "source": [
        "# Submuestreo de la clase mayoritaria\n",
        "under_sampler = RandomUnderSampler(random_state=80)\n",
        "X_under, y_under = under_sampler.fit_resample(datos.drop('ausente', axis=1), datos['ausente'])\n",
        "\n",
        "# Sobre muestreo de la clase minoritaria utilizando el subconjunto submuestreado\n",
        "over_sampler = SMOTE(random_state=80)\n",
        "X_balanced, y_balanced = over_sampler.fit_resample(X_under, y_under)\n"
      ],
      "metadata": {
        "id": "ZPmfRSxeHY8r"
      },
      "execution_count": 20,
      "outputs": []
    },
    {
      "cell_type": "code",
      "source": [
        "# X = X_balanced.iloc[:,6:14]\n",
        "# X_balanced.head(5)"
      ],
      "metadata": {
        "id": "emRzOPMbr8SN"
      },
      "execution_count": 21,
      "outputs": []
    },
    {
      "cell_type": "code",
      "source": [
        "# y = y_balanced"
      ],
      "metadata": {
        "id": "EQTek37pzY3E"
      },
      "execution_count": 22,
      "outputs": []
    },
    {
      "cell_type": "code",
      "source": [
        "# muestraDat = pd.concat([X_balanced, y_balanced], axis=1)\n",
        "# muestraDat.ausente.value_counts().plot(kind='bar')\n",
        "# grafico para ver si las clases estan desalanceadas"
      ],
      "metadata": {
        "id": "Ijr9utBPX3_C"
      },
      "execution_count": 23,
      "outputs": []
    },
    {
      "cell_type": "markdown",
      "source": [
        "### **Submuestreo de la clase mayoritaria**"
      ],
      "metadata": {
        "id": "uEBLLfAEAkan"
      }
    },
    {
      "cell_type": "markdown",
      "source": [
        "### **NearMiss**"
      ],
      "metadata": {
        "id": "GnUHMAkAAfHY"
      }
    },
    {
      "cell_type": "code",
      "source": [
        "# Aplica NearMiss para realizar el submuestreo de la clase mayoritaria\n",
        "nm = NearMiss()\n",
        "X_subsampled, y_subsampled = nm.fit_resample(X, y)\n",
        "\n",
        "# Crea un nuevo DataFrame con los datos submuestreados\n",
        "datos_subsampled = pd.concat([X_subsampled, y_subsampled], axis=1)"
      ],
      "metadata": {
        "id": "Icst0XeGAg0Z"
      },
      "execution_count": 24,
      "outputs": []
    },
    {
      "cell_type": "code",
      "source": [
        "X=X_subsampled #NearMiss"
      ],
      "metadata": {
        "id": "jUIvtC2pHBEf"
      },
      "execution_count": 25,
      "outputs": []
    },
    {
      "cell_type": "code",
      "source": [
        "y=y_subsampled #NearMiss"
      ],
      "metadata": {
        "id": "H6M_Ui1QHDEc"
      },
      "execution_count": 26,
      "outputs": []
    },
    {
      "cell_type": "markdown",
      "source": [
        "### **Undersampler** Para equilibrar clases\n",
        "\n"
      ],
      "metadata": {
        "id": "AbClAx2iAJCf"
      }
    },
    {
      "cell_type": "code",
      "source": [
        "# Aplicar submuestreo solo al conjunto de entrenamiento\n",
        "undersampler = RandomUnderSampler(random_state=80)\n",
        "X_resampled, y_resampled = undersampler.fit_resample(X, y)\n",
        "\n",
        "# datos_resampled = pd.concat([X_resampled, y_resampled], axis=1)"
      ],
      "metadata": {
        "id": "k-xhN15WAIoC"
      },
      "execution_count": 27,
      "outputs": []
    },
    {
      "cell_type": "code",
      "source": [
        "# X=X_resampled #undersampler\n",
        "# X.head(2)"
      ],
      "metadata": {
        "id": "haM5FS-GxBwc"
      },
      "execution_count": 28,
      "outputs": []
    },
    {
      "cell_type": "code",
      "source": [
        "# y=y_resampled #undersampler\n",
        "# y.head(2)"
      ],
      "metadata": {
        "id": "1Azw1SWMxOhJ"
      },
      "execution_count": 29,
      "outputs": []
    },
    {
      "cell_type": "markdown",
      "source": [
        "### Desbalance de clases"
      ],
      "metadata": {
        "id": "Jhm5Ks5tULXi"
      }
    },
    {
      "cell_type": "code",
      "source": [
        "# grafico para ver si las clases estan desbalanceadas\n",
        "\n",
        "datos_subsampled.ausente.value_counts().plot(kind='bar')"
      ],
      "metadata": {
        "colab": {
          "base_uri": "https://localhost:8080/",
          "height": 0
        },
        "id": "PKyUBdcGUNWA",
        "outputId": "39db1dbf-bce2-4c6f-f034-fef28fdde3ef"
      },
      "execution_count": 30,
      "outputs": [
        {
          "output_type": "execute_result",
          "data": {
            "text/plain": [
              "<Axes: >"
            ]
          },
          "metadata": {},
          "execution_count": 30
        },
        {
          "output_type": "display_data",
          "data": {
            "text/plain": [
              "<Figure size 640x480 with 1 Axes>"
            ],
            "image/png": "[encoded data removed]"
          },
          "metadata": {}
        }
      ]
    },
    {
      "cell_type": "markdown",
      "source": [
        "## **Division del conjunto de datos**"
      ],
      "metadata": {
        "id": "XGgwQvg0ZoHV"
      }
    },
    {
      "cell_type": "code",
      "source": [
        "X_train, X_test, y_train, y_test = train_test_split(X, y,test_size=0.3,random_state=80)"
      ],
      "metadata": {
        "id": "kVBpoxB9ZlLk"
      },
      "execution_count": 31,
      "outputs": []
    },
    {
      "cell_type": "markdown",
      "source": [
        "# Clasificadores"
      ],
      "metadata": {
        "id": "WwLryTaBYHKI"
      }
    },
    {
      "cell_type": "code",
      "metadata": {
        "id": "1u2RH6pEtde7"
      },
      "source": [
        "\n",
        "modelo_dt = DecisionTreeClassifier()\n",
        "modeloLR = LogisticRegression()\n",
        "modelo_knn = KNeighborsClassifier()\n",
        "modelo_rf = RandomForestClassifier()\n",
        "modelo_gnb = GaussianNB()\n",
        "modelo_xgb = XGBClassifier(max_depth=3, learning_rate=0.1, objective='binary:logistic', eval_metric='logloss')\n",
        "\n"
      ],
      "execution_count": 32,
      "outputs": []
    },
    {
      "cell_type": "markdown",
      "source": [
        "## GaussianNB"
      ],
      "metadata": {
        "id": "WB8mCvGkrQze"
      }
    },
    {
      "cell_type": "code",
      "source": [
        "# param_grid = {'var_smoothing': np.logspace(0,-9, num=100)}\n",
        "\n",
        "# grid_gnb=GridSearchCV(modelo_gnb,param_grid,cv=7, scoring='f1_macro')\n",
        "# grid_gnb.fit(X_train,y_train)\n",
        "\n",
        "# # Obtener el mejor modelo con los mejores hiperparámetros\n",
        "# modelo_gnb_final = grid_gnb.best_estimator_\n",
        "\n",
        "# # Hacer predicciones en el conjunto de prueba\n",
        "# y_pred_gnb = modelo_gnb_final.predict(X_test)"
      ],
      "metadata": {
        "id": "aTFO-TFVrT-S"
      },
      "execution_count": 33,
      "outputs": []
    },
    {
      "cell_type": "code",
      "source": [
        "from sklearn.datasets import load_iris\n",
        "\n",
        "# Entrenar el modelo utilizando los datos de entrenamiento\n",
        "modelo_gnb.fit(X_train, y_train)\n",
        "\n",
        "# Realizar predicciones en el conjunto de prueba\n",
        "y_pred_g = modelo_gnb.predict(X_test)\n",
        "\n",
        "# Mejora de hiperparámetros utilizando validación cruzada\n",
        "param_grid = {'var_smoothing': [9e-89, 5e-9, 4e-5, 1e-3, 1e-1]}  # Valores para probar\n",
        "\n",
        "# Crear una instancia de GridSearchCV para buscar los mejores hiperparámetros\n",
        "grid_search = GridSearchCV(modelo_gnb, param_grid, cv=9)\n",
        "grid_search.fit(X_train, y_train)\n",
        "\n",
        "# Imprimir los mejores hiperparámetros encontrados\n",
        "print(\"Mejor valor para var_smoothing:\", grid_search.best_params_['var_smoothing'])\n",
        "\n",
        "# Entrenar el modelo con los mejores hiperparámetros encontrados\n",
        "modelo_gnb_final = GaussianNB(var_smoothing=grid_search.best_params_['var_smoothing'])\n",
        "modelo_gnb_final.fit(X_train, y_train)\n",
        "\n",
        "# Realizar predicciones en el conjunto de prueba con el modelo mejorado\n",
        "y_pred_gnb = modelo_gnb_final.predict(X_test)\n",
        "\n"
      ],
      "metadata": {
        "colab": {
          "base_uri": "https://localhost:8080/"
        },
        "id": "1CII2-Nrafvx",
        "outputId": "be934dd4-502b-4912-a565-1992627ce920"
      },
      "execution_count": 34,
      "outputs": [
        {
          "output_type": "stream",
          "name": "stdout",
          "text": [
            "Mejor valor para var_smoothing: 9e-89\n"
          ]
        }
      ]
    },
    {
      "cell_type": "markdown",
      "source": [
        "Val cruzada"
      ],
      "metadata": {
        "id": "_369BYrKdyYl"
      }
    },
    {
      "cell_type": "code",
      "source": [
        "from sklearn.model_selection import cross_val_score\n",
        "\n",
        "# Realizar la validación cruzada para cada modelo\n",
        "modelos = [modelo_gnb_final]\n",
        "nombres_modelos = ['Gaussian NB']\n",
        "\n",
        "for modelo, nombre in zip(modelos, nombres_modelos):\n",
        "    scores = cross_val_score(modelo, X_train, y_train, cv=8, scoring='f1_macro')\n",
        "    print(\"F1-score promedio para\", nombre, \":\", scores.mean())\n",
        "    print(\"Desviación estándar de F1-score para \\n\", nombre, \":\", scores.std())\n",
        "    print()"
      ],
      "metadata": {
        "colab": {
          "base_uri": "https://localhost:8080/"
        },
        "id": "TicFmkUtdyAy",
        "outputId": "2487f875-f2a5-4c5d-c270-85f569ac395f"
      },
      "execution_count": 35,
      "outputs": [
        {
          "output_type": "stream",
          "name": "stdout",
          "text": [
            "F1-score promedio para Gaussian NB : 0.6802126309201008\n",
            "Desviación estándar de F1-score para \n",
            " Gaussian NB : 0.009955170545429713\n",
            "\n"
          ]
        }
      ]
    },
    {
      "cell_type": "markdown",
      "source": [
        "## KNeighborsClassifier"
      ],
      "metadata": {
        "id": "twHlEVPaoBrv"
      }
    },
    {
      "cell_type": "code",
      "source": [
        "# Definir los hiperparámetros a ajustar\n",
        "parametros = {'n_neighbors': [3, 5, 7], 'weights': ['uniform', 'distance']}\n",
        "\n",
        "# Realizar la búsqueda grid\n",
        "grid_search = GridSearchCV(modelo_knn, parametros, cv=5)\n",
        "grid_search.fit(X_train, y_train)\n",
        "\n",
        "# Obtener el mejor modelo y sus hiperparámetros\n",
        "modelo_knn_final = grid_search.best_estimator_\n",
        "mejores_hiperparametros = grid_search.best_params_\n",
        "\n",
        "# Realizar predicciones con el mejor modelo\n",
        "y_pred_knn = modelo_knn_final.predict(X_test)"
      ],
      "metadata": {
        "id": "FasVm9MqoGFN"
      },
      "execution_count": 36,
      "outputs": []
    },
    {
      "cell_type": "markdown",
      "source": [
        "## Random Forest"
      ],
      "metadata": {
        "id": "JsTclPwEZ3oc"
      }
    },
    {
      "cell_type": "code",
      "source": [
        "# Diccionario de hiperparámetros para la calibración del modelo\n",
        "rf_param = {\n",
        "    # 'n_estimators': [50, 100, 150],  # Número de árboles en el bosque\n",
        "    'n_estimators': [15,20,30],\n",
        "    'criterion': ['gini', 'entropy'],  # Criterio de selección de características\n",
        "    'max_depth': [None, 5, 10],  # Profundidad máxima de los árboles\n",
        "    'min_samples_split': [2, 5, 10],  # Número mínimo de muestras requeridas para dividir un nodo interno\n",
        "    'min_samples_leaf': [1, 2, 4]  # Número mínimo de muestras requeridas en cada hoja del árbol\n",
        "}"
      ],
      "metadata": {
        "id": "696Z-UQbZ9Jp"
      },
      "execution_count": 37,
      "outputs": []
    },
    {
      "cell_type": "code",
      "source": [
        "# Calibración del modelo con GridSearchCV\n",
        "kfold = StratifiedKFold(n_splits=12, shuffle=True, random_state=80)\n",
        "grid_rf = GridSearchCV(\n",
        "    modelo_rf,\n",
        "    param_grid=rf_param,\n",
        "    cv=kfold,\n",
        "    verbose=1\n",
        ")\n",
        "grid_rf.fit(X_train, y_train)"
      ],
      "metadata": {
        "colab": {
          "base_uri": "https://localhost:8080/",
          "height": 135
        },
        "id": "KA47z3cMaEG0",
        "outputId": "f09334aa-617b-401c-c1e5-6f0efd25e60f"
      },
      "execution_count": 38,
      "outputs": [
        {
          "output_type": "stream",
          "name": "stdout",
          "text": [
            "Fitting 12 folds for each of 162 candidates, totalling 1944 fits\n"
          ]
        },
        {
          "output_type": "execute_result",
          "data": {
            "text/plain": [
              "GridSearchCV(cv=StratifiedKFold(n_splits=12, random_state=80, shuffle=True),\n",
              "             estimator=RandomForestClassifier(),\n",
              "             param_grid={'criterion': ['gini', 'entropy'],\n",
              "                         'max_depth': [None, 5, 10],\n",
              "                         'min_samples_leaf': [1, 2, 4],\n",
              "                         'min_samples_split': [2, 5, 10],\n",
              "                         'n_estimators': [15, 20, 30]},\n",
              "             verbose=1)"
            ],
            "text/html": [
              "<style>#sk-container-id-1 {color: black;background-color: white;}#sk-container-id-1 pre{padding: 0;}#sk-container-id-1 div.sk-toggleable {background-color: white;}#sk-container-id-1 label.sk-toggleable__label {cursor: pointer;display: block;width: 100%;margin-bottom: 0;padding: 0.3em;box-sizing: border-box;text-align: center;}#sk-container-id-1 label.sk-toggleable__label-arrow:before {content: \"▸\";float: left;margin-right: 0.25em;color: #696969;}#sk-container-id-1 label.sk-toggleable__label-arrow:hover:before {color: black;}#sk-container-id-1 div.sk-estimator:hover label.sk-toggleable__label-arrow:before {color: black;}#sk-container-id-1 div.sk-toggleable__content {max-height: 0;max-width: 0;overflow: hidden;text-align: left;background-color: #f0f8ff;}#sk-container-id-1 div.sk-toggleable__content pre {margin: 0.2em;color: black;border-radius: 0.25em;background-color: #f0f8ff;}#sk-container-id-1 input.sk-toggleable__control:checked~div.sk-toggleable__content {max-height: 200px;max-width: 100%;overflow: auto;}#sk-container-id-1 input.sk-toggleable__control:checked~label.sk-toggleable__label-arrow:before {content: \"▾\";}#sk-container-id-1 div.sk-estimator input.sk-toggleable__control:checked~label.sk-toggleable__label {background-color: #d4ebff;}#sk-container-id-1 div.sk-label input.sk-toggleable__control:checked~label.sk-toggleable__label {background-color: #d4ebff;}#sk-container-id-1 input.sk-hidden--visually {border: 0;clip: rect(1px 1px 1px 1px);clip: rect(1px, 1px, 1px, 1px);height: 1px;margin: -1px;overflow: hidden;padding: 0;position: absolute;width: 1px;}#sk-container-id-1 div.sk-estimator {font-family: monospace;background-color: #f0f8ff;border: 1px dotted black;border-radius: 0.25em;box-sizing: border-box;margin-bottom: 0.5em;}#sk-container-id-1 div.sk-estimator:hover {background-color: #d4ebff;}#sk-container-id-1 div.sk-parallel-item::after {content: \"\";width: 100%;border-bottom: 1px solid gray;flex-grow: 1;}#sk-container-id-1 div.sk-label:hover label.sk-toggleable__label {background-color: #d4ebff;}#sk-container-id-1 div.sk-serial::before {content: \"\";position: absolute;border-left: 1px solid gray;box-sizing: border-box;top: 0;bottom: 0;left: 50%;z-index: 0;}#sk-container-id-1 div.sk-serial {display: flex;flex-direction: column;align-items: center;background-color: white;padding-right: 0.2em;padding-left: 0.2em;position: relative;}#sk-container-id-1 div.sk-item {position: relative;z-index: 1;}#sk-container-id-1 div.sk-parallel {display: flex;align-items: stretch;justify-content: center;background-color: white;position: relative;}#sk-container-id-1 div.sk-item::before, #sk-container-id-1 div.sk-parallel-item::before {content: \"\";position: absolute;border-left: 1px solid gray;box-sizing: border-box;top: 0;bottom: 0;left: 50%;z-index: -1;}#sk-container-id-1 div.sk-parallel-item {display: flex;flex-direction: column;z-index: 1;position: relative;background-color: white;}#sk-container-id-1 div.sk-parallel-item:first-child::after {align-self: flex-end;width: 50%;}#sk-container-id-1 div.sk-parallel-item:last-child::after {align-self: flex-start;width: 50%;}#sk-container-id-1 div.sk-parallel-item:only-child::after {width: 0;}#sk-container-id-1 div.sk-dashed-wrapped {border: 1px dashed gray;margin: 0 0.4em 0.5em 0.4em;box-sizing: border-box;padding-bottom: 0.4em;background-color: white;}#sk-container-id-1 div.sk-label label {font-family: monospace;font-weight: bold;display: inline-block;line-height: 1.2em;}#sk-container-id-1 div.sk-label-container {text-align: center;}#sk-container-id-1 div.sk-container {/* jupyter's `normalize.less` sets `[hidden] { display: none; }` but bootstrap.min.css set `[hidden] { display: none !important; }` so we also need the `!important` here to be able to override the default hidden behavior on the sphinx rendered scikit-learn.org. See: https://github.com/scikit-learn/scikit-learn/issues/21755 */display: inline-block !important;position: relative;}#sk-container-id-1 div.sk-text-repr-fallback {display: none;}</style><div id=\"sk-container-id-1\" class=\"sk-top-container\"><div class=\"sk-text-repr-fallback\"><pre>GridSearchCV(cv=StratifiedKFold(n_splits=12, random_state=80, shuffle=True),\n",
              "             estimator=RandomForestClassifier(),\n",
              "             param_grid={&#x27;criterion&#x27;: [&#x27;gini&#x27;, &#x27;entropy&#x27;],\n",
              "                         &#x27;max_depth&#x27;: [None, 5, 10],\n",
              "                         &#x27;min_samples_leaf&#x27;: [1, 2, 4],\n",
              "                         &#x27;min_samples_split&#x27;: [2, 5, 10],\n",
              "                         &#x27;n_estimators&#x27;: [15, 20, 30]},\n",
              "             verbose=1)</pre><b>In a Jupyter environment, please rerun this cell to show the HTML representation or trust the notebook. <br />On GitHub, the HTML representation is unable to render, please try loading this page with nbviewer.org.</b></div><div class=\"sk-container\" hidden><div class=\"sk-item sk-dashed-wrapped\"><div class=\"sk-label-container\"><div class=\"sk-label sk-toggleable\"><input class=\"sk-toggleable__control sk-hidden--visually\" id=\"sk-estimator-id-1\" type=\"checkbox\" ><label for=\"sk-estimator-id-1\" class=\"sk-toggleable__label sk-toggleable__label-arrow\">GridSearchCV</label><div class=\"sk-toggleable__content\"><pre>GridSearchCV(cv=StratifiedKFold(n_splits=12, random_state=80, shuffle=True),\n",
              "             estimator=RandomForestClassifier(),\n",
              "             param_grid={&#x27;criterion&#x27;: [&#x27;gini&#x27;, &#x27;entropy&#x27;],\n",
              "                         &#x27;max_depth&#x27;: [None, 5, 10],\n",
              "                         &#x27;min_samples_leaf&#x27;: [1, 2, 4],\n",
              "                         &#x27;min_samples_split&#x27;: [2, 5, 10],\n",
              "                         &#x27;n_estimators&#x27;: [15, 20, 30]},\n",
              "             verbose=1)</pre></div></div></div><div class=\"sk-parallel\"><div class=\"sk-parallel-item\"><div class=\"sk-item\"><div class=\"sk-label-container\"><div class=\"sk-label sk-toggleable\"><input class=\"sk-toggleable__control sk-hidden--visually\" id=\"sk-estimator-id-2\" type=\"checkbox\" ><label for=\"sk-estimator-id-2\" class=\"sk-toggleable__label sk-toggleable__label-arrow\">estimator: RandomForestClassifier</label><div class=\"sk-toggleable__content\"><pre>RandomForestClassifier()</pre></div></div></div><div class=\"sk-serial\"><div class=\"sk-item\"><div class=\"sk-estimator sk-toggleable\"><input class=\"sk-toggleable__control sk-hidden--visually\" id=\"sk-estimator-id-3\" type=\"checkbox\" ><label for=\"sk-estimator-id-3\" class=\"sk-toggleable__label sk-toggleable__label-arrow\">RandomForestClassifier</label><div class=\"sk-toggleable__content\"><pre>RandomForestClassifier()</pre></div></div></div></div></div></div></div></div></div></div>"
            ]
          },
          "metadata": {},
          "execution_count": 38
        }
      ]
    },
    {
      "cell_type": "code",
      "source": [
        "# Obtener los mejores parámetros y el mejor estimador\n",
        "best_params_rf = grid_rf.best_params_\n",
        "best_estimator_rf = grid_rf.best_estimator_\n",
        "print(\"mejores parametros: \",best_params_rf)\n",
        "print(\"mejor estimador: \",best_estimator_rf)"
      ],
      "metadata": {
        "id": "qVnAGz8uaGb_",
        "colab": {
          "base_uri": "https://localhost:8080/"
        },
        "outputId": "7555222a-1a08-4e4e-fb7a-9a9ac8806fc0"
      },
      "execution_count": 39,
      "outputs": [
        {
          "output_type": "stream",
          "name": "stdout",
          "text": [
            "mejores parametros:  {'criterion': 'gini', 'max_depth': None, 'min_samples_leaf': 2, 'min_samples_split': 10, 'n_estimators': 15}\n",
            "mejor estimador:  RandomForestClassifier(min_samples_leaf=2, min_samples_split=10,\n",
            "                       n_estimators=15)\n"
          ]
        }
      ]
    },
    {
      "cell_type": "code",
      "source": [
        "# Entrenar el modelo final con los mejores parámetros\n",
        "modelo_rf_final = best_estimator_rf.fit(X_train, y_train)"
      ],
      "metadata": {
        "id": "pv0UAqXtaHw4"
      },
      "execution_count": 40,
      "outputs": []
    },
    {
      "cell_type": "code",
      "source": [
        "# Validación del modelo final\n",
        "y_pred_rf = modelo_rf_final.predict(X_test)"
      ],
      "metadata": {
        "id": "K4cg4-ZzaJ3K"
      },
      "execution_count": 41,
      "outputs": []
    },
    {
      "cell_type": "code",
      "source": [
        "# Matriz de confusión\n",
        "conf_matrix_rf = confusion_matrix(y_test, y_pred_rf)\n",
        "print(\"Matriz de confusión (Random Forest):\\n\", conf_matrix_rf)"
      ],
      "metadata": {
        "colab": {
          "base_uri": "https://localhost:8080/"
        },
        "id": "fBn1FwuyaLx9",
        "outputId": "8e7500b4-e2cd-4216-c0f9-5eead68ccf9c"
      },
      "execution_count": 42,
      "outputs": [
        {
          "output_type": "stream",
          "name": "stdout",
          "text": [
            "Matriz de confusión (Random Forest):\n",
            " [[3655 1640]\n",
            " [1410 3957]]\n"
          ]
        }
      ]
    },
    {
      "cell_type": "code",
      "source": [
        "labels = [0, 1]\n",
        "cm=confusion_matrix(y_test, y_pred_rf, labels=labels)\n",
        "ax= plt.subplot()\n",
        "sns.heatmap(cm, cmap=\"Blues\", annot=True,annot_kws={\"size\": 16}, cbar=False, fmt='g'); \n",
        "ax.set_xlabel('Predicción');ax.set_ylabel('Valores Reales'); \n",
        "ax.set_title('Confusion Matrix'); \n",
        "ax.xaxis.set_ticklabels(labels); ax.yaxis.set_ticklabels(labels);"
      ],
      "metadata": {
        "colab": {
          "base_uri": "https://localhost:8080/",
          "height": 477
        },
        "id": "UcRDDnGp4fV9",
        "outputId": "1b65f683-46e0-427c-f953-ee6ae2821336"
      },
      "execution_count": 43,
      "outputs": [
        {
          "output_type": "display_data",
          "data": {
            "text/plain": [
              "<Figure size 640x480 with 1 Axes>"
            ],
            "image/png": "[encoded data removed]"
          },
          "metadata": {}
        }
      ]
    },
    {
      "cell_type": "code",
      "source": [
        "# Otras métricas de evaluación\n",
        "accuracy_rf = accuracy_score(y_test, y_pred_rf)\n",
        "precision_rf = precision_score(y_test, y_pred_rf)\n",
        "recall_rf = recall_score(y_test, y_pred_rf)\n",
        "f1_score_rf = f1_score(y_test, y_pred_rf)\n",
        "kappa_rf = cohen_kappa_score(y_test, y_pred_rf)\n",
        "\n",
        "\n",
        "print(\"Accuracy (Random Forest):\", accuracy_rf)\n",
        "print(\"Precision (Random Forest):\", precision_rf)\n",
        "print(\"Recall (Random Forest):\", recall_rf)\n",
        "print(\"F1 Score (Random Forest):\", f1_score_rf)\n",
        "print(\"Kappa score: \", kappa_rf)"
      ],
      "metadata": {
        "colab": {
          "base_uri": "https://localhost:8080/"
        },
        "id": "0Wm6lx5baN6s",
        "outputId": "c17f703b-a504-4014-ff78-0d7e5669d3a4"
      },
      "execution_count": 44,
      "outputs": [
        {
          "output_type": "stream",
          "name": "stdout",
          "text": [
            "Accuracy (Random Forest): 0.7139373475895704\n",
            "Precision (Random Forest): 0.7069858852956942\n",
            "Recall (Random Forest): 0.7372833985466741\n",
            "F1 Score (Random Forest): 0.7218168551623495\n",
            "Kappa score:  0.4276818519967539\n"
          ]
        }
      ]
    },
    {
      "cell_type": "code",
      "source": [
        "grid_rf.best_score_"
      ],
      "metadata": {
        "colab": {
          "base_uri": "https://localhost:8080/"
        },
        "id": "6KDU8VnYaQmN",
        "outputId": "da2537a0-bb25-42e6-8ae9-708fcf06d1e0"
      },
      "execution_count": 45,
      "outputs": [
        {
          "output_type": "execute_result",
          "data": {
            "text/plain": [
              "0.7173005106291526"
            ]
          },
          "metadata": {},
          "execution_count": 45
        }
      ]
    },
    {
      "cell_type": "markdown",
      "source": [
        "## DecisionTreeClasifier"
      ],
      "metadata": {
        "id": "7IwV0uZgcsUl"
      }
    },
    {
      "cell_type": "code",
      "source": [
        "tree_param = {\n",
        "    'criterion': ['entropy','gini'],\n",
        "    'max_depth': range(1,10),\n",
        "    'min_samples_leaf': range(1,10)\n",
        "}"
      ],
      "metadata": {
        "id": "gffKQTqYcczS"
      },
      "execution_count": 46,
      "outputs": []
    },
    {
      "cell_type": "code",
      "source": [
        "kfold = StratifiedKFold(n_splits=10, shuffle=True, random_state=80)\n",
        "grid_dt = GridSearchCV(\n",
        "    modelo_dt,\n",
        "    param_grid= tree_param,\n",
        "    # cv=10,\n",
        "    cv=kfold,\n",
        "    # scoring='f1',\n",
        "    verbose=1\n",
        ")\n",
        "grid_dt.fit(X_train,y_train)"
      ],
      "metadata": {
        "colab": {
          "base_uri": "https://localhost:8080/",
          "height": 0
        },
        "id": "H_rLuonIcd55",
        "outputId": "e6b52191-8527-4c29-ad81-ecfd9a11bdca"
      },
      "execution_count": 47,
      "outputs": [
        {
          "output_type": "stream",
          "name": "stdout",
          "text": [
            "Fitting 10 folds for each of 162 candidates, totalling 1620 fits\n"
          ]
        },
        {
          "output_type": "execute_result",
          "data": {
            "text/plain": [
              "GridSearchCV(cv=StratifiedKFold(n_splits=10, random_state=80, shuffle=True),\n",
              "             estimator=DecisionTreeClassifier(),\n",
              "             param_grid={'criterion': ['entropy', 'gini'],\n",
              "                         'max_depth': range(1, 10),\n",
              "                         'min_samples_leaf': range(1, 10)},\n",
              "             verbose=1)"
            ],
            "text/html": [
              "<style>#sk-container-id-2 {color: black;background-color: white;}#sk-container-id-2 pre{padding: 0;}#sk-container-id-2 div.sk-toggleable {background-color: white;}#sk-container-id-2 label.sk-toggleable__label {cursor: pointer;display: block;width: 100%;margin-bottom: 0;padding: 0.3em;box-sizing: border-box;text-align: center;}#sk-container-id-2 label.sk-toggleable__label-arrow:before {content: \"▸\";float: left;margin-right: 0.25em;color: #696969;}#sk-container-id-2 label.sk-toggleable__label-arrow:hover:before {color: black;}#sk-container-id-2 div.sk-estimator:hover label.sk-toggleable__label-arrow:before {color: black;}#sk-container-id-2 div.sk-toggleable__content {max-height: 0;max-width: 0;overflow: hidden;text-align: left;background-color: #f0f8ff;}#sk-container-id-2 div.sk-toggleable__content pre {margin: 0.2em;color: black;border-radius: 0.25em;background-color: #f0f8ff;}#sk-container-id-2 input.sk-toggleable__control:checked~div.sk-toggleable__content {max-height: 200px;max-width: 100%;overflow: auto;}#sk-container-id-2 input.sk-toggleable__control:checked~label.sk-toggleable__label-arrow:before {content: \"▾\";}#sk-container-id-2 div.sk-estimator input.sk-toggleable__control:checked~label.sk-toggleable__label {background-color: #d4ebff;}#sk-container-id-2 div.sk-label input.sk-toggleable__control:checked~label.sk-toggleable__label {background-color: #d4ebff;}#sk-container-id-2 input.sk-hidden--visually {border: 0;clip: rect(1px 1px 1px 1px);clip: rect(1px, 1px, 1px, 1px);height: 1px;margin: -1px;overflow: hidden;padding: 0;position: absolute;width: 1px;}#sk-container-id-2 div.sk-estimator {font-family: monospace;background-color: #f0f8ff;border: 1px dotted black;border-radius: 0.25em;box-sizing: border-box;margin-bottom: 0.5em;}#sk-container-id-2 div.sk-estimator:hover {background-color: #d4ebff;}#sk-container-id-2 div.sk-parallel-item::after {content: \"\";width: 100%;border-bottom: 1px solid gray;flex-grow: 1;}#sk-container-id-2 div.sk-label:hover label.sk-toggleable__label {background-color: #d4ebff;}#sk-container-id-2 div.sk-serial::before {content: \"\";position: absolute;border-left: 1px solid gray;box-sizing: border-box;top: 0;bottom: 0;left: 50%;z-index: 0;}#sk-container-id-2 div.sk-serial {display: flex;flex-direction: column;align-items: center;background-color: white;padding-right: 0.2em;padding-left: 0.2em;position: relative;}#sk-container-id-2 div.sk-item {position: relative;z-index: 1;}#sk-container-id-2 div.sk-parallel {display: flex;align-items: stretch;justify-content: center;background-color: white;position: relative;}#sk-container-id-2 div.sk-item::before, #sk-container-id-2 div.sk-parallel-item::before {content: \"\";position: absolute;border-left: 1px solid gray;box-sizing: border-box;top: 0;bottom: 0;left: 50%;z-index: -1;}#sk-container-id-2 div.sk-parallel-item {display: flex;flex-direction: column;z-index: 1;position: relative;background-color: white;}#sk-container-id-2 div.sk-parallel-item:first-child::after {align-self: flex-end;width: 50%;}#sk-container-id-2 div.sk-parallel-item:last-child::after {align-self: flex-start;width: 50%;}#sk-container-id-2 div.sk-parallel-item:only-child::after {width: 0;}#sk-container-id-2 div.sk-dashed-wrapped {border: 1px dashed gray;margin: 0 0.4em 0.5em 0.4em;box-sizing: border-box;padding-bottom: 0.4em;background-color: white;}#sk-container-id-2 div.sk-label label {font-family: monospace;font-weight: bold;display: inline-block;line-height: 1.2em;}#sk-container-id-2 div.sk-label-container {text-align: center;}#sk-container-id-2 div.sk-container {/* jupyter's `normalize.less` sets `[hidden] { display: none; }` but bootstrap.min.css set `[hidden] { display: none !important; }` so we also need the `!important` here to be able to override the default hidden behavior on the sphinx rendered scikit-learn.org. See: https://github.com/scikit-learn/scikit-learn/issues/21755 */display: inline-block !important;position: relative;}#sk-container-id-2 div.sk-text-repr-fallback {display: none;}</style><div id=\"sk-container-id-2\" class=\"sk-top-container\"><div class=\"sk-text-repr-fallback\"><pre>GridSearchCV(cv=StratifiedKFold(n_splits=10, random_state=80, shuffle=True),\n",
              "             estimator=DecisionTreeClassifier(),\n",
              "             param_grid={&#x27;criterion&#x27;: [&#x27;entropy&#x27;, &#x27;gini&#x27;],\n",
              "                         &#x27;max_depth&#x27;: range(1, 10),\n",
              "                         &#x27;min_samples_leaf&#x27;: range(1, 10)},\n",
              "             verbose=1)</pre><b>In a Jupyter environment, please rerun this cell to show the HTML representation or trust the notebook. <br />On GitHub, the HTML representation is unable to render, please try loading this page with nbviewer.org.</b></div><div class=\"sk-container\" hidden><div class=\"sk-item sk-dashed-wrapped\"><div class=\"sk-label-container\"><div class=\"sk-label sk-toggleable\"><input class=\"sk-toggleable__control sk-hidden--visually\" id=\"sk-estimator-id-4\" type=\"checkbox\" ><label for=\"sk-estimator-id-4\" class=\"sk-toggleable__label sk-toggleable__label-arrow\">GridSearchCV</label><div class=\"sk-toggleable__content\"><pre>GridSearchCV(cv=StratifiedKFold(n_splits=10, random_state=80, shuffle=True),\n",
              "             estimator=DecisionTreeClassifier(),\n",
              "             param_grid={&#x27;criterion&#x27;: [&#x27;entropy&#x27;, &#x27;gini&#x27;],\n",
              "                         &#x27;max_depth&#x27;: range(1, 10),\n",
              "                         &#x27;min_samples_leaf&#x27;: range(1, 10)},\n",
              "             verbose=1)</pre></div></div></div><div class=\"sk-parallel\"><div class=\"sk-parallel-item\"><div class=\"sk-item\"><div class=\"sk-label-container\"><div class=\"sk-label sk-toggleable\"><input class=\"sk-toggleable__control sk-hidden--visually\" id=\"sk-estimator-id-5\" type=\"checkbox\" ><label for=\"sk-estimator-id-5\" class=\"sk-toggleable__label sk-toggleable__label-arrow\">estimator: DecisionTreeClassifier</label><div class=\"sk-toggleable__content\"><pre>DecisionTreeClassifier()</pre></div></div></div><div class=\"sk-serial\"><div class=\"sk-item\"><div class=\"sk-estimator sk-toggleable\"><input class=\"sk-toggleable__control sk-hidden--visually\" id=\"sk-estimator-id-6\" type=\"checkbox\" ><label for=\"sk-estimator-id-6\" class=\"sk-toggleable__label sk-toggleable__label-arrow\">DecisionTreeClassifier</label><div class=\"sk-toggleable__content\"><pre>DecisionTreeClassifier()</pre></div></div></div></div></div></div></div></div></div></div>"
            ]
          },
          "metadata": {},
          "execution_count": 47
        }
      ]
    },
    {
      "cell_type": "code",
      "source": [
        "grid_dt.best_params_"
      ],
      "metadata": {
        "colab": {
          "base_uri": "https://localhost:8080/"
        },
        "id": "J0-77RwFcfC5",
        "outputId": "bbf6af8c-48ae-48f4-9a7a-6630c411a4a4"
      },
      "execution_count": 48,
      "outputs": [
        {
          "output_type": "execute_result",
          "data": {
            "text/plain": [
              "{'criterion': 'entropy', 'max_depth': 8, 'min_samples_leaf': 5}"
            ]
          },
          "metadata": {},
          "execution_count": 48
        }
      ]
    },
    {
      "cell_type": "code",
      "source": [
        "grid_dt.best_score_"
      ],
      "metadata": {
        "colab": {
          "base_uri": "https://localhost:8080/"
        },
        "id": "xQTPsrk5cf-6",
        "outputId": "02fcacfe-e6ab-437f-8d28-164361625aaf"
      },
      "execution_count": 49,
      "outputs": [
        {
          "output_type": "execute_result",
          "data": {
            "text/plain": [
              "0.7072115676760312"
            ]
          },
          "metadata": {},
          "execution_count": 49
        }
      ]
    },
    {
      "cell_type": "code",
      "source": [
        "grid_dt.best_estimator_"
      ],
      "metadata": {
        "colab": {
          "base_uri": "https://localhost:8080/",
          "height": 0
        },
        "id": "mJ9SWm6Cclmp",
        "outputId": "27027a5a-e23a-4f66-9441-95040a289ed3"
      },
      "execution_count": 50,
      "outputs": [
        {
          "output_type": "execute_result",
          "data": {
            "text/plain": [
              "DecisionTreeClassifier(criterion='entropy', max_depth=8, min_samples_leaf=5)"
            ],
            "text/html": [
              "<style>#sk-container-id-3 {color: black;background-color: white;}#sk-container-id-3 pre{padding: 0;}#sk-container-id-3 div.sk-toggleable {background-color: white;}#sk-container-id-3 label.sk-toggleable__label {cursor: pointer;display: block;width: 100%;margin-bottom: 0;padding: 0.3em;box-sizing: border-box;text-align: center;}#sk-container-id-3 label.sk-toggleable__label-arrow:before {content: \"▸\";float: left;margin-right: 0.25em;color: #696969;}#sk-container-id-3 label.sk-toggleable__label-arrow:hover:before {color: black;}#sk-container-id-3 div.sk-estimator:hover label.sk-toggleable__label-arrow:before {color: black;}#sk-container-id-3 div.sk-toggleable__content {max-height: 0;max-width: 0;overflow: hidden;text-align: left;background-color: #f0f8ff;}#sk-container-id-3 div.sk-toggleable__content pre {margin: 0.2em;color: black;border-radius: 0.25em;background-color: #f0f8ff;}#sk-container-id-3 input.sk-toggleable__control:checked~div.sk-toggleable__content {max-height: 200px;max-width: 100%;overflow: auto;}#sk-container-id-3 input.sk-toggleable__control:checked~label.sk-toggleable__label-arrow:before {content: \"▾\";}#sk-container-id-3 div.sk-estimator input.sk-toggleable__control:checked~label.sk-toggleable__label {background-color: #d4ebff;}#sk-container-id-3 div.sk-label input.sk-toggleable__control:checked~label.sk-toggleable__label {background-color: #d4ebff;}#sk-container-id-3 input.sk-hidden--visually {border: 0;clip: rect(1px 1px 1px 1px);clip: rect(1px, 1px, 1px, 1px);height: 1px;margin: -1px;overflow: hidden;padding: 0;position: absolute;width: 1px;}#sk-container-id-3 div.sk-estimator {font-family: monospace;background-color: #f0f8ff;border: 1px dotted black;border-radius: 0.25em;box-sizing: border-box;margin-bottom: 0.5em;}#sk-container-id-3 div.sk-estimator:hover {background-color: #d4ebff;}#sk-container-id-3 div.sk-parallel-item::after {content: \"\";width: 100%;border-bottom: 1px solid gray;flex-grow: 1;}#sk-container-id-3 div.sk-label:hover label.sk-toggleable__label {background-color: #d4ebff;}#sk-container-id-3 div.sk-serial::before {content: \"\";position: absolute;border-left: 1px solid gray;box-sizing: border-box;top: 0;bottom: 0;left: 50%;z-index: 0;}#sk-container-id-3 div.sk-serial {display: flex;flex-direction: column;align-items: center;background-color: white;padding-right: 0.2em;padding-left: 0.2em;position: relative;}#sk-container-id-3 div.sk-item {position: relative;z-index: 1;}#sk-container-id-3 div.sk-parallel {display: flex;align-items: stretch;justify-content: center;background-color: white;position: relative;}#sk-container-id-3 div.sk-item::before, #sk-container-id-3 div.sk-parallel-item::before {content: \"\";position: absolute;border-left: 1px solid gray;box-sizing: border-box;top: 0;bottom: 0;left: 50%;z-index: -1;}#sk-container-id-3 div.sk-parallel-item {display: flex;flex-direction: column;z-index: 1;position: relative;background-color: white;}#sk-container-id-3 div.sk-parallel-item:first-child::after {align-self: flex-end;width: 50%;}#sk-container-id-3 div.sk-parallel-item:last-child::after {align-self: flex-start;width: 50%;}#sk-container-id-3 div.sk-parallel-item:only-child::after {width: 0;}#sk-container-id-3 div.sk-dashed-wrapped {border: 1px dashed gray;margin: 0 0.4em 0.5em 0.4em;box-sizing: border-box;padding-bottom: 0.4em;background-color: white;}#sk-container-id-3 div.sk-label label {font-family: monospace;font-weight: bold;display: inline-block;line-height: 1.2em;}#sk-container-id-3 div.sk-label-container {text-align: center;}#sk-container-id-3 div.sk-container {/* jupyter's `normalize.less` sets `[hidden] { display: none; }` but bootstrap.min.css set `[hidden] { display: none !important; }` so we also need the `!important` here to be able to override the default hidden behavior on the sphinx rendered scikit-learn.org. See: https://github.com/scikit-learn/scikit-learn/issues/21755 */display: inline-block !important;position: relative;}#sk-container-id-3 div.sk-text-repr-fallback {display: none;}</style><div id=\"sk-container-id-3\" class=\"sk-top-container\"><div class=\"sk-text-repr-fallback\"><pre>DecisionTreeClassifier(criterion=&#x27;entropy&#x27;, max_depth=8, min_samples_leaf=5)</pre><b>In a Jupyter environment, please rerun this cell to show the HTML representation or trust the notebook. <br />On GitHub, the HTML representation is unable to render, please try loading this page with nbviewer.org.</b></div><div class=\"sk-container\" hidden><div class=\"sk-item\"><div class=\"sk-estimator sk-toggleable\"><input class=\"sk-toggleable__control sk-hidden--visually\" id=\"sk-estimator-id-7\" type=\"checkbox\" checked><label for=\"sk-estimator-id-7\" class=\"sk-toggleable__label sk-toggleable__label-arrow\">DecisionTreeClassifier</label><div class=\"sk-toggleable__content\"><pre>DecisionTreeClassifier(criterion=&#x27;entropy&#x27;, max_depth=8, min_samples_leaf=5)</pre></div></div></div></div></div>"
            ]
          },
          "metadata": {},
          "execution_count": 50
        }
      ]
    },
    {
      "cell_type": "code",
      "source": [
        "modelo_f=grid_dt.best_estimator_"
      ],
      "metadata": {
        "id": "lxZoFSZpc2bb"
      },
      "execution_count": 51,
      "outputs": []
    },
    {
      "cell_type": "markdown",
      "source": [
        "Prediccion"
      ],
      "metadata": {
        "id": "DGm5jUJQdCgo"
      }
    },
    {
      "cell_type": "code",
      "source": [
        "y_pred_Tree = modelo_f.predict(X_test)"
      ],
      "metadata": {
        "id": "uwUXOy4rdED6"
      },
      "execution_count": 52,
      "outputs": []
    },
    {
      "cell_type": "code",
      "source": [
        "# kappa = cohen_kappa_score(y_test, y_pred_Tree)\n",
        "# print(\"Kappa score: \", kappa)"
      ],
      "metadata": {
        "id": "ZSLOnWkkdE7z"
      },
      "execution_count": 53,
      "outputs": []
    },
    {
      "cell_type": "code",
      "source": [
        "# # Otras métricas de evaluación\n",
        "# accuracy_rf = accuracy_score(y_test, y_pred_Tree)\n",
        "# precision_rf = precision_score(y_test, y_pred_Tree)\n",
        "# recall_rf = recall_score(y_test, y_pred_Tree)\n",
        "# f1_score_rf = f1_score(y_test, y_pred_Tree)\n",
        "\n",
        "# print(\"Accuracy (Random Forest):\", accuracy_rf)\n",
        "# print(\"Precision (Random Forest):\", precision_rf)\n",
        "# print(\"Recall (Random Forest):\", recall_rf)\n",
        "# print(\"F1 Score (Random Forest):\", f1_score_rf)"
      ],
      "metadata": {
        "id": "Th-o9QOBdTZI"
      },
      "execution_count": 54,
      "outputs": []
    },
    {
      "cell_type": "code",
      "source": [
        "# Matriz de confusión\n",
        "conf_matrix_tree = confusion_matrix(y_test, y_pred_Tree)\n",
        "print(\"Matriz de confusión (Random Forest):\\n\", conf_matrix_tree)"
      ],
      "metadata": {
        "colab": {
          "base_uri": "https://localhost:8080/"
        },
        "id": "L2Cr11RX3B_b",
        "outputId": "e06e4d42-7e25-456f-977a-e1811ad43327"
      },
      "execution_count": 55,
      "outputs": [
        {
          "output_type": "stream",
          "name": "stdout",
          "text": [
            "Matriz de confusión (Random Forest):\n",
            " [[3867 1428]\n",
            " [1611 3756]]\n"
          ]
        }
      ]
    },
    {
      "cell_type": "code",
      "source": [
        "labels = [0, 1]\n",
        "cm=confusion_matrix(y_test, y_pred_Tree, labels=labels)\n",
        "ax= plt.subplot()\n",
        "sns.heatmap(cm, cmap=\"Blues\", annot=True,annot_kws={\"size\": 16}, cbar=False, fmt='g'); \n",
        "ax.set_xlabel('Predicción');ax.set_ylabel('Valores Reales'); \n",
        "ax.set_title('Confusion Matrix'); \n",
        "ax.xaxis.set_ticklabels(labels); ax.yaxis.set_ticklabels(labels);"
      ],
      "metadata": {
        "colab": {
          "base_uri": "https://localhost:8080/",
          "height": 0
        },
        "id": "_tFi85iV4rdP",
        "outputId": "d7c0e0a4-996a-4b5c-f22d-a53410c96dd2"
      },
      "execution_count": 56,
      "outputs": [
        {
          "output_type": "display_data",
          "data": {
            "text/plain": [
              "<Figure size 640x480 with 1 Axes>"
            ],
            "image/png": "[encoded data removed]"
          },
          "metadata": {}
        }
      ]
    },
    {
      "cell_type": "markdown",
      "source": [
        "### Seleccion de atributos por importancia"
      ],
      "metadata": {
        "id": "npVS1vDFSfhH"
      }
    },
    {
      "cell_type": "code",
      "source": [
        "\n",
        "# Obtener la importancia de las características\n",
        "feature_importances = modelo_f.feature_importances_\n",
        "\n",
        "# Crear un DataFrame con la importancia de las características\n",
        "feature_importance_df = pd.DataFrame({'Feature': X_train.columns, 'Importance': feature_importances})\n",
        "feature_importance_df = feature_importance_df.sort_values(by='Importance', ascending=False)\n",
        "\n",
        "# Mostrar las características más importantes\n",
        "print(feature_importance_df.head())\n",
        "\n",
        "# Seleccionar solo las características más importantes\n",
        "selected_features = feature_importance_df['Feature'].values[:5]  # seleccionar las 5 características más importantes\n",
        "\n",
        "# Filtrar el conjunto de datos original con las características seleccionadas\n",
        "X_train_selected = X_train[selected_features]\n",
        "X_test_selected = X_test[selected_features]\n"
      ],
      "metadata": {
        "colab": {
          "base_uri": "https://localhost:8080/"
        },
        "id": "QKwdK8Cghldk",
        "outputId": "2474a98f-d798-4224-8988-5688daa1e5ec"
      },
      "execution_count": 57,
      "outputs": [
        {
          "output_type": "stream",
          "name": "stdout",
          "text": [
            "            Feature  Importance\n",
            "4  dif_dias_reserva    0.870381\n",
            "2              edad    0.075903\n",
            "0       id_paciente    0.027461\n",
            "9     sms_recibidos    0.012982\n",
            "1              sexo    0.006534\n"
          ]
        }
      ]
    },
    {
      "cell_type": "markdown",
      "source": [
        "## LogisticRegression"
      ],
      "metadata": {
        "id": "yIJYZgMHc7iY"
      }
    },
    {
      "cell_type": "code",
      "source": [
        "# Crear el modelo de Logistic Regression\n",
        "model_lr = LogisticRegression(solver='liblinear') # \n",
        "\n",
        "# Definir los hiperparámetros a ajustar\n",
        "param_grid_lr = {\n",
        "    'C': [0.1, 1, 10],\n",
        "    'penalty': ['l1', 'l2']\n",
        "}\n",
        "\n",
        "# Realizar Grid Search para encontrar los mejores hiperparámetros\n",
        "grid_lr = GridSearchCV(estimator=model_lr, param_grid=param_grid_lr, scoring='roc_auc', cv=5)\n",
        "grid_lr.fit(X_train, y_train)\n",
        "\n",
        "# Obtener el mejor modelo con los mejores hiperparámetros\n",
        "final_model_lr = grid_lr.best_estimator_\n",
        "\n",
        "# Realizar predicciones en los datos de prueba utilizando el mejor modelo\n",
        "y_pred_lr = final_model_lr.predict(X_test)\n",
        "\n",
        "# Probabilidades de predicción\n",
        "y_pred_proba = final_model_lr.predict_proba(X_test)[:, 1]\n",
        "\n"
      ],
      "metadata": {
        "id": "xVD71cv6dgn5"
      },
      "execution_count": 58,
      "outputs": []
    },
    {
      "cell_type": "code",
      "source": [
        "# Evaluar el rendimiento del modelo\n",
        "print(\"Classification Report:\")\n",
        "print(classification_report(y_test, y_pred_lr))"
      ],
      "metadata": {
        "colab": {
          "base_uri": "https://localhost:8080/"
        },
        "id": "eMs8AowQd4l3",
        "outputId": "f8d7285a-86d3-4b5a-b261-5eea65595fe5"
      },
      "execution_count": 59,
      "outputs": [
        {
          "output_type": "stream",
          "name": "stdout",
          "text": [
            "Classification Report:\n",
            "              precision    recall  f1-score   support\n",
            "\n",
            "           0       0.57      0.77      0.66      5295\n",
            "           1       0.66      0.43      0.52      5367\n",
            "\n",
            "    accuracy                           0.60     10662\n",
            "   macro avg       0.61      0.60      0.59     10662\n",
            "weighted avg       0.61      0.60      0.59     10662\n",
            "\n"
          ]
        }
      ]
    },
    {
      "cell_type": "code",
      "source": [
        "print(\"Confusion Matrix:\")\n",
        "print(confusion_matrix(y_test, y_pred_lr))"
      ],
      "metadata": {
        "colab": {
          "base_uri": "https://localhost:8080/"
        },
        "id": "uUZhQePkxvXe",
        "outputId": "21954833-826d-457b-8ebf-5e5cff46917d"
      },
      "execution_count": 60,
      "outputs": [
        {
          "output_type": "stream",
          "name": "stdout",
          "text": [
            "Confusion Matrix:\n",
            "[[4088 1207]\n",
            " [3074 2293]]\n"
          ]
        }
      ]
    },
    {
      "cell_type": "code",
      "source": [
        "# Calcular el AUC-ROC\n",
        "auc_roc = roc_auc_score(y_test, y_pred_proba)\n",
        "print(\"AUC-ROC Score:\", auc_roc)"
      ],
      "metadata": {
        "colab": {
          "base_uri": "https://localhost:8080/"
        },
        "id": "dQWodoZldj6q",
        "outputId": "b585764f-222c-4430-d746-673200942302"
      },
      "execution_count": 61,
      "outputs": [
        {
          "output_type": "stream",
          "name": "stdout",
          "text": [
            "AUC-ROC Score: 0.5774578778824112\n"
          ]
        }
      ]
    },
    {
      "cell_type": "code",
      "source": [
        "# Mejores hiperparámetros encontrados por Grid Search\n",
        "print(\"Best Parameters:\", grid_lr.best_params_)\n",
        "\n",
        "print(\"Best Score:\", grid_lr.best_score_)\n",
        "\n",
        "kappa = cohen_kappa_score(y_test, y_pred_lr)\n",
        "print(\"Kappa score: \", kappa)"
      ],
      "metadata": {
        "colab": {
          "base_uri": "https://localhost:8080/"
        },
        "id": "5aK55zTYdzb7",
        "outputId": "1595483c-a2b0-4408-94c9-459595b652df"
      },
      "execution_count": 62,
      "outputs": [
        {
          "output_type": "stream",
          "name": "stdout",
          "text": [
            "Best Parameters: {'C': 10, 'penalty': 'l1'}\n",
            "Best Score: 0.5743948655134248\n",
            "Kappa score:  0.19881941945363946\n"
          ]
        }
      ]
    },
    {
      "cell_type": "code",
      "source": [
        "# Otras métricas de evaluación\n",
        "accuracy_lr = accuracy_score(y_test, y_pred_lr)\n",
        "precision_lr = precision_score(y_test, y_pred_lr)\n",
        "recall_rlr = recall_score(y_test, y_pred_lr)\n",
        "f1_score_lr = f1_score(y_test, y_pred_lr)\n",
        "\n",
        "print(\"Accuracy (DecisionTreeClasifier):\", accuracy_lr)\n",
        "print(\"Precision (DecisionTreeClasifier):\", precision_lr)\n",
        "print(\"Recall (DecisionTreeClasifier):\", recall_rlr)\n",
        "print(\"F1 Score (DecisionTreeClasifier):\", f1_score_lr)"
      ],
      "metadata": {
        "colab": {
          "base_uri": "https://localhost:8080/"
        },
        "id": "uQ2k1ayrd-YJ",
        "outputId": "c4fd479f-c059-4b19-d9b6-908cb20d7c3a"
      },
      "execution_count": 63,
      "outputs": [
        {
          "output_type": "stream",
          "name": "stdout",
          "text": [
            "Accuracy (DecisionTreeClasifier): 0.5984805852560495\n",
            "Precision (DecisionTreeClasifier): 0.6551428571428571\n",
            "Recall (DecisionTreeClasifier): 0.427240544065586\n",
            "F1 Score (DecisionTreeClasifier): 0.5171986015563325\n"
          ]
        }
      ]
    },
    {
      "cell_type": "code",
      "source": [
        "# Matriz de confusión\n",
        "conf_matrix_lr = confusion_matrix(y_test, y_pred_lr)\n",
        "print(\"Matriz de confusión (Random Forest):\\n\", conf_matrix_lr)"
      ],
      "metadata": {
        "colab": {
          "base_uri": "https://localhost:8080/"
        },
        "id": "IYFnET9k3RFV",
        "outputId": "891af3ed-fac7-4159-a119-42d5b9a883fa"
      },
      "execution_count": 64,
      "outputs": [
        {
          "output_type": "stream",
          "name": "stdout",
          "text": [
            "Matriz de confusión (Random Forest):\n",
            " [[4088 1207]\n",
            " [3074 2293]]\n"
          ]
        }
      ]
    },
    {
      "cell_type": "code",
      "source": [
        "labels = [0, 1]\n",
        "cm=confusion_matrix(y_test, y_pred_lr, labels=labels)\n",
        "ax= plt.subplot()\n",
        "sns.heatmap(cm, cmap=\"Blues\", annot=True,annot_kws={\"size\": 16}, cbar=False, fmt='g'); \n",
        "ax.set_xlabel('Predicción');ax.set_ylabel('Valores Reales'); \n",
        "ax.set_title('Confusion Matrix'); \n",
        "ax.xaxis.set_ticklabels(labels); ax.yaxis.set_ticklabels(labels);"
      ],
      "metadata": {
        "colab": {
          "base_uri": "https://localhost:8080/",
          "height": 0
        },
        "id": "Wjemo-ty42FL",
        "outputId": "0b9124bd-8d9f-4799-d48b-43eb005c2930"
      },
      "execution_count": 65,
      "outputs": [
        {
          "output_type": "display_data",
          "data": {
            "text/plain": [
              "<Figure size 640x480 with 1 Axes>"
            ],
            "image/png": "[encoded data removed]"
          },
          "metadata": {}
        }
      ]
    },
    {
      "cell_type": "markdown",
      "source": [
        "# **Validacion Cruzada**\n",
        "\n",
        "identificar el modelo con el mayor puntaje F1 promedio y la menor desviación estándar"
      ],
      "metadata": {
        "id": "Nh4WkPygak-N"
      }
    },
    {
      "cell_type": "code",
      "source": [
        "from sklearn.model_selection import cross_val_score\n",
        "\n",
        "# Realizar la validación cruzada para cada modelo\n",
        "modelos = [modelo_f, final_model_lr, modelo_knn_final, modelo_rf_final, modelo_gnb_final, modelo_xgb]\n",
        "nombres_modelos = ['Decision Tree', 'Logistic Regression', 'KNN', 'Random Forest', 'Gaussian NB', 'XGBoost']\n",
        "\n",
        "for modelo, nombre in zip(modelos, nombres_modelos):\n",
        "    scores = cross_val_score(modelo, X_train, y_train, cv=5, scoring='f1_macro')\n",
        "    print(\"F1-score promedio para\", nombre, \":\", scores.mean())\n",
        "    print(\"Desviación estándar de F1-score para \\n\", nombre, \":\", scores.std())\n",
        "    print()"
      ],
      "metadata": {
        "colab": {
          "base_uri": "https://localhost:8080/"
        },
        "id": "7n3726Aqakrd",
        "outputId": "86cb3b1d-76a6-4ec8-a92c-4c211c258939"
      },
      "execution_count": 66,
      "outputs": [
        {
          "output_type": "stream",
          "name": "stdout",
          "text": [
            "F1-score promedio para Decision Tree : 0.7032288110933299\n",
            "Desviación estándar de F1-score para \n",
            " Decision Tree : 0.0061145444284427105\n",
            "\n",
            "F1-score promedio para Logistic Regression : 0.5871026704329781\n",
            "Desviación estándar de F1-score para \n",
            " Logistic Regression : 0.012666466799865203\n",
            "\n",
            "F1-score promedio para KNN : 0.5441568637403809\n",
            "Desviación estándar de F1-score para \n",
            " KNN : 0.004295616452798745\n",
            "\n",
            "F1-score promedio para Random Forest : 0.7145416422907402\n",
            "Desviación estándar de F1-score para \n",
            " Random Forest : 0.004642928123838456\n",
            "\n",
            "F1-score promedio para Gaussian NB : 0.6784399321136714\n",
            "Desviación estándar de F1-score para \n",
            " Gaussian NB : 0.007694509639365785\n",
            "\n",
            "F1-score promedio para XGBoost : 0.7136041271661616\n",
            "Desviación estándar de F1-score para \n",
            " XGBoost : 0.002468414239886432\n",
            "\n"
          ]
        }
      ]
    },
    {
      "cell_type": "markdown",
      "source": [
        "# Clasificador por votacion\n"
      ],
      "metadata": {
        "id": "DyGjpUXsfqRL"
      }
    },
    {
      "cell_type": "code",
      "source": [
        "from sklearn.ensemble import VotingClassifier\n",
        "\n",
        "voting_clf = VotingClassifier(\n",
        "   \n",
        "    estimators = [ \n",
        "                    ('lr', final_model_lr),\n",
        "                   ('rf', modelo_rf_final),\n",
        "                   ('Tree', modelo_f),\n",
        "                  #  ('knn', modelo_knn_final), \n",
        "                   ('gnb', modelo_gnb_final),\n",
        "                   ('xgboost', modelo_xgb)],\n",
        "    # ],\n",
        "                   voting='hard')\n",
        "\n",
        "\n",
        "voting_clf.fit(X_train,y_train)\n",
        "y_pred_vc = voting_clf.predict(X_test)"
      ],
      "metadata": {
        "id": "R1fAv_tEftAB"
      },
      "execution_count": 67,
      "outputs": []
    },
    {
      "cell_type": "code",
      "source": [
        "# Matriz de confusión\n",
        "conf_matrix_vc = confusion_matrix(y_test, y_pred_vc)\n",
        "print(\"Matriz de confusión (VotingClassifier):\\n\", conf_matrix_vc)"
      ],
      "metadata": {
        "colab": {
          "base_uri": "https://localhost:8080/"
        },
        "id": "yiJWPcaet83V",
        "outputId": "12c53392-cd22-4132-e36e-42dc1010dad3"
      },
      "execution_count": 68,
      "outputs": [
        {
          "output_type": "stream",
          "name": "stdout",
          "text": [
            "Matriz de confusión (VotingClassifier):\n",
            " [[3886 1409]\n",
            " [1652 3715]]\n"
          ]
        }
      ]
    },
    {
      "cell_type": "code",
      "source": [
        "labels = [0, 1]\n",
        "cm=confusion_matrix(y_test, y_pred_vc, labels=labels)\n",
        "ax= plt.subplot()\n",
        "sns.heatmap(cm, cmap=\"Blues\", annot=True,annot_kws={\"size\": 16}, cbar=False, fmt='g'); \n",
        "ax.set_xlabel('Predicción');ax.set_ylabel('Valores Reales'); \n",
        "ax.set_title('Confusion Matrix'); \n",
        "ax.xaxis.set_ticklabels(labels); ax.yaxis.set_ticklabels(labels);"
      ],
      "metadata": {
        "colab": {
          "base_uri": "https://localhost:8080/",
          "height": 0
        },
        "id": "fal3iFJtt-MC",
        "outputId": "b1de0ae3-d300-4b21-ad11-6dcd4bd172c2"
      },
      "execution_count": 69,
      "outputs": [
        {
          "output_type": "display_data",
          "data": {
            "text/plain": [
              "<Figure size 640x480 with 1 Axes>"
            ],
            "image/png": "[encoded data removed]"
          },
          "metadata": {}
        }
      ]
    },
    {
      "cell_type": "markdown",
      "source": [
        "# Leer nuevas instancias a predecir"
      ],
      "metadata": {
        "id": "5JlpFUDyYNsk"
      }
    },
    {
      "cell_type": "code",
      "metadata": {
        "id": "8RNRyws1tdfA"
      },
      "source": [
        "nuevas_instancias_pd= pd.read_csv('https://raw.githubusercontent.com/profcarlosamartinez/mineria_datos/main/ausentismo_2023/nuevas_instancias_a_predecir.csv',delimiter=',',decimal='.')"
      ],
      "execution_count": 70,
      "outputs": []
    },
    {
      "cell_type": "code",
      "source": [
        "nuevas_instancias_pd.shape"
      ],
      "metadata": {
        "id": "md0OJISZEUDS",
        "colab": {
          "base_uri": "https://localhost:8080/"
        },
        "outputId": "f93eaa5a-61f0-45bd-954f-87af3ee1a8bb"
      },
      "execution_count": 71,
      "outputs": [
        {
          "output_type": "execute_result",
          "data": {
            "text/plain": [
              "(24527, 14)"
            ]
          },
          "metadata": {},
          "execution_count": 71
        }
      ]
    },
    {
      "cell_type": "code",
      "source": [
        "nuevas_instancias_pd['sexo'] = nuevas_instancias_pd['sexo'].replace({'F': 0, 'M': 1})"
      ],
      "metadata": {
        "id": "8ItB2ShLVmz3"
      },
      "execution_count": 72,
      "outputs": []
    },
    {
      "cell_type": "code",
      "source": [
        "nuevas_instancias_pd.head(5)"
      ],
      "metadata": {
        "colab": {
          "base_uri": "https://localhost:8080/",
          "height": 0
        },
        "id": "JMcocGzQU1BC",
        "outputId": "8b4664ac-f4ef-4802-ad95-d5a8a26d7a56"
      },
      "execution_count": 73,
      "outputs": [
        {
          "output_type": "execute_result",
          "data": {
            "text/plain": [
              "   id  id_paciente  id_turno  sexo          dia_reserva_turno  \\\n",
              "0   1        62227      4649     1  2019-07-15 17:14:49+00:00   \n",
              "1   2        43027     12844     1  2019-08-02 07:29:05+00:00   \n",
              "2   3        36016     97746     1  2019-09-14 08:41:06+00:00   \n",
              "3   4        60526      7833     0  2019-07-25 17:47:25+00:00   \n",
              "4   5         2706     97985     0  2019-09-14 09:25:07+00:00   \n",
              "\n",
              "                   dia_turno  cod_barrio  edad  plan_social  hipertension  \\\n",
              "0  2019-09-14 00:00:00+00:00          39    15            0             0   \n",
              "1  2019-09-21 00:00:00+00:00          39    15            0             0   \n",
              "2  2019-09-14 00:00:00+00:00          39     1            0             0   \n",
              "3  2019-09-14 00:00:00+00:00          39    11            0             0   \n",
              "4  2019-09-14 00:00:00+00:00          39     1            0             0   \n",
              "\n",
              "   diabetes  alcoholismo  discapacidades  sms_recibidos  \n",
              "0         0            0               0              1  \n",
              "1         0            0               0              1  \n",
              "2         0            0               0              0  \n",
              "3         0            0               0              1  \n",
              "4         0            0               0              0  "
            ],
            "text/html": [
              "\n",
              "  <div id=\"df-1254f363-622a-4ee4-94bd-27d99a2172ac\">\n",
              "    <div class=\"colab-df-container\">\n",
              "      <div>\n",
              "<style scoped>\n",
              "    .dataframe tbody tr th:only-of-type {\n",
              "        vertical-align: middle;\n",
              "    }\n",
              "\n",
              "    .dataframe tbody tr th {\n",
              "        vertical-align: top;\n",
              "    }\n",
              "\n",
              "    .dataframe thead th {\n",
              "        text-align: right;\n",
              "    }\n",
              "</style>\n",
              "<table border=\"1\" class=\"dataframe\">\n",
              "  <thead>\n",
              "    <tr style=\"text-align: right;\">\n",
              "      <th></th>\n",
              "      <th>id</th>\n",
              "      <th>id_paciente</th>\n",
              "      <th>id_turno</th>\n",
              "      <th>sexo</th>\n",
              "      <th>dia_reserva_turno</th>\n",
              "      <th>dia_turno</th>\n",
              "      <th>cod_barrio</th>\n",
              "      <th>edad</th>\n",
              "      <th>plan_social</th>\n",
              "      <th>hipertension</th>\n",
              "      <th>diabetes</th>\n",
              "      <th>alcoholismo</th>\n",
              "      <th>discapacidades</th>\n",
              "      <th>sms_recibidos</th>\n",
              "    </tr>\n",
              "  </thead>\n",
              "  <tbody>\n",
              "    <tr>\n",
              "      <th>0</th>\n",
              "      <td>1</td>\n",
              "      <td>62227</td>\n",
              "      <td>4649</td>\n",
              "      <td>1</td>\n",
              "      <td>2019-07-15 17:14:49+00:00</td>\n",
              "      <td>2019-09-14 00:00:00+00:00</td>\n",
              "      <td>39</td>\n",
              "      <td>15</td>\n",
              "      <td>0</td>\n",
              "      <td>0</td>\n",
              "      <td>0</td>\n",
              "      <td>0</td>\n",
              "      <td>0</td>\n",
              "      <td>1</td>\n",
              "    </tr>\n",
              "    <tr>\n",
              "      <th>1</th>\n",
              "      <td>2</td>\n",
              "      <td>43027</td>\n",
              "      <td>12844</td>\n",
              "      <td>1</td>\n",
              "      <td>2019-08-02 07:29:05+00:00</td>\n",
              "      <td>2019-09-21 00:00:00+00:00</td>\n",
              "      <td>39</td>\n",
              "      <td>15</td>\n",
              "      <td>0</td>\n",
              "      <td>0</td>\n",
              "      <td>0</td>\n",
              "      <td>0</td>\n",
              "      <td>0</td>\n",
              "      <td>1</td>\n",
              "    </tr>\n",
              "    <tr>\n",
              "      <th>2</th>\n",
              "      <td>3</td>\n",
              "      <td>36016</td>\n",
              "      <td>97746</td>\n",
              "      <td>1</td>\n",
              "      <td>2019-09-14 08:41:06+00:00</td>\n",
              "      <td>2019-09-14 00:00:00+00:00</td>\n",
              "      <td>39</td>\n",
              "      <td>1</td>\n",
              "      <td>0</td>\n",
              "      <td>0</td>\n",
              "      <td>0</td>\n",
              "      <td>0</td>\n",
              "      <td>0</td>\n",
              "      <td>0</td>\n",
              "    </tr>\n",
              "    <tr>\n",
              "      <th>3</th>\n",
              "      <td>4</td>\n",
              "      <td>60526</td>\n",
              "      <td>7833</td>\n",
              "      <td>0</td>\n",
              "      <td>2019-07-25 17:47:25+00:00</td>\n",
              "      <td>2019-09-14 00:00:00+00:00</td>\n",
              "      <td>39</td>\n",
              "      <td>11</td>\n",
              "      <td>0</td>\n",
              "      <td>0</td>\n",
              "      <td>0</td>\n",
              "      <td>0</td>\n",
              "      <td>0</td>\n",
              "      <td>1</td>\n",
              "    </tr>\n",
              "    <tr>\n",
              "      <th>4</th>\n",
              "      <td>5</td>\n",
              "      <td>2706</td>\n",
              "      <td>97985</td>\n",
              "      <td>0</td>\n",
              "      <td>2019-09-14 09:25:07+00:00</td>\n",
              "      <td>2019-09-14 00:00:00+00:00</td>\n",
              "      <td>39</td>\n",
              "      <td>1</td>\n",
              "      <td>0</td>\n",
              "      <td>0</td>\n",
              "      <td>0</td>\n",
              "      <td>0</td>\n",
              "      <td>0</td>\n",
              "      <td>0</td>\n",
              "    </tr>\n",
              "  </tbody>\n",
              "</table>\n",
              "</div>\n",
              "      <button class=\"colab-df-convert\" onclick=\"convertToInteractive('df-1254f363-622a-4ee4-94bd-27d99a2172ac')\"\n",
              "              title=\"Convert this dataframe to an interactive table.\"\n",
              "              style=\"display:none;\">\n",
              "        \n",
              "  <svg xmlns=\"http://www.w3.org/2000/svg\" height=\"24px\"viewBox=\"0 0 24 24\"\n",
              "       width=\"24px\">\n",
              "    <path d=\"M0 0h24v24H0V0z\" fill=\"none\"/>\n",
              "    <path d=\"M18.56 5.44l.94 2.06.94-2.06 2.06-.94-2.06-.94-.94-2.06-.94 2.06-2.06.94zm-11 1L8.5 8.5l.94-2.06 2.06-.94-2.06-.94L8.5 2.5l-.94 2.06-2.06.94zm10 10l.94 2.06.94-2.06 2.06-.94-2.06-.94-.94-2.06-.94 2.06-2.06.94z\"/><path d=\"M17.41 7.96l-1.37-1.37c-.4-.4-.92-.59-1.43-.59-.52 0-1.04.2-1.43.59L10.3 9.45l-7.72 7.72c-.78.78-.78 2.05 0 2.83L4 21.41c.39.39.9.59 1.41.59.51 0 1.02-.2 1.41-.59l7.78-7.78 2.81-2.81c.8-.78.8-2.07 0-2.86zM5.41 20L4 18.59l7.72-7.72 1.47 1.35L5.41 20z\"/>\n",
              "  </svg>\n",
              "      </button>\n",
              "      \n",
              "  <style>\n",
              "    .colab-df-container {\n",
              "      display:flex;\n",
              "      flex-wrap:wrap;\n",
              "      gap: 12px;\n",
              "    }\n",
              "\n",
              "    .colab-df-convert {\n",
              "      background-color: #E8F0FE;\n",
              "      border: none;\n",
              "      border-radius: 50%;\n",
              "      cursor: pointer;\n",
              "      display: none;\n",
              "      fill: #1967D2;\n",
              "      height: 32px;\n",
              "      padding: 0 0 0 0;\n",
              "      width: 32px;\n",
              "    }\n",
              "\n",
              "    .colab-df-convert:hover {\n",
              "      background-color: #E2EBFA;\n",
              "      box-shadow: 0px 1px 2px rgba(60, 64, 67, 0.3), 0px 1px 3px 1px rgba(60, 64, 67, 0.15);\n",
              "      fill: #174EA6;\n",
              "    }\n",
              "\n",
              "    [theme=dark] .colab-df-convert {\n",
              "      background-color: #3B4455;\n",
              "      fill: #D2E3FC;\n",
              "    }\n",
              "\n",
              "    [theme=dark] .colab-df-convert:hover {\n",
              "      background-color: #434B5C;\n",
              "      box-shadow: 0px 1px 3px 1px rgba(0, 0, 0, 0.15);\n",
              "      filter: drop-shadow(0px 1px 2px rgba(0, 0, 0, 0.3));\n",
              "      fill: #FFFFFF;\n",
              "    }\n",
              "  </style>\n",
              "\n",
              "      <script>\n",
              "        const buttonEl =\n",
              "          document.querySelector('#df-1254f363-622a-4ee4-94bd-27d99a2172ac button.colab-df-convert');\n",
              "        buttonEl.style.display =\n",
              "          google.colab.kernel.accessAllowed ? 'block' : 'none';\n",
              "\n",
              "        async function convertToInteractive(key) {\n",
              "          const element = document.querySelector('#df-1254f363-622a-4ee4-94bd-27d99a2172ac');\n",
              "          const dataTable =\n",
              "            await google.colab.kernel.invokeFunction('convertToInteractive',\n",
              "                                                     [key], {});\n",
              "          if (!dataTable) return;\n",
              "\n",
              "          const docLinkHtml = 'Like what you see? Visit the ' +\n",
              "            '<a target=\"_blank\" href=https://colab.research.google.com/notebooks/data_table.ipynb>data table notebook</a>'\n",
              "            + ' to learn more about interactive tables.';\n",
              "          element.innerHTML = '';\n",
              "          dataTable['output_type'] = 'display_data';\n",
              "          await google.colab.output.renderOutput(dataTable, element);\n",
              "          const docLink = document.createElement('div');\n",
              "          docLink.innerHTML = docLinkHtml;\n",
              "          element.appendChild(docLink);\n",
              "        }\n",
              "      </script>\n",
              "    </div>\n",
              "  </div>\n",
              "  "
            ]
          },
          "metadata": {},
          "execution_count": 73
        }
      ]
    },
    {
      "cell_type": "code",
      "source": [
        "# nuevas_instancias_pd['sexo'] = nuevas_instancias_pd['sexo'].astype('category')\n",
        "# nuevas_instancias_pd['edad'] = nuevas_instancias_pd['edad'].astype('category')\n",
        "# nuevas_instancias_pd['plan_social'] = nuevas_instancias_pd['plan_social'].astype('category')\n",
        "# nuevas_instancias_pd['hipertension'] = nuevas_instancias_pd['hipertension'].astype('category')\n",
        "# nuevas_instancias_pd['diabetes'] = nuevas_instancias_pd['diabetes'].astype('category')\n",
        "# nuevas_instancias_pd['alcoholismo'] = nuevas_instancias_pd['alcoholismo'].astype('category')\n",
        "# nuevas_instancias_pd['discapacidades'] = nuevas_instancias_pd['discapacidades'].astype('category')\n",
        "# nuevas_instancias_pd['sms_recibidos'] = nuevas_instancias_pd['sms_recibidos'].astype('category')\n",
        "# nuevas_instancias_pd['id_paciente'] = nuevas_instancias_pd['id_paciente'].astype('category')\n",
        "\n",
        "\n",
        "# nuevas_instancias_pd['ausente'] = nuevas_instancias_pd['ausente'].astype('category')\n"
      ],
      "metadata": {
        "id": "LNZf8fZqUfsE"
      },
      "execution_count": 74,
      "outputs": []
    },
    {
      "cell_type": "code",
      "source": [
        "# Especificar el nuevo orden de las columnas\n",
        "new_columns = ['id', 'id_turno', 'cod_barrio', 'dia_reserva_turno', 'dia_turno', 'id_paciente', 'sexo', 'edad', 'plan_social', 'dif_dias_reserva', 'hipertension', 'diabetes', 'alcoholismo', 'discapacidades', 'sms_recibidos', 'ausente']\n",
        "\n",
        "# # Convertir las columnas de fecha en formato datetime\n",
        "# nuevas_instancias_pd['dia_reserva_turno'] = pd.to_datetime(nuevas_instancias_pd['dia_reserva_turno'])\n",
        "# nuevas_instancias_pd['dia_turno'] = pd.to_datetime(nuevas_instancias_pd['dia_turno'])\n",
        "\n",
        "# # Extraer el mes y el día de las columnas de fecha\n",
        "# nuevas_instancias_pd['mes_reserva_turno'] = nuevas_instancias_pd['dia_reserva_turno'].dt.month\n",
        "# nuevas_instancias_pd['dia_reserva_turno'] = nuevas_instancias_pd['dia_reserva_turno'].dt.day\n",
        "\n",
        "# nuevas_instancias_pd['mes_turno'] = nuevas_instancias_pd['dia_turno'].dt.month\n",
        "# nuevas_instancias_pd['dia_turno'] = nuevas_instancias_pd['dia_turno'].dt.day"
      ],
      "metadata": {
        "id": "bImBkRuvCOi_"
      },
      "execution_count": 75,
      "outputs": []
    },
    {
      "cell_type": "code",
      "source": [
        "# Extraer el día y el mes de la columna de fecha\n",
        "nuevas_instancias_pd['dia_reserva_turno'] = pd.to_datetime(nuevas_instancias_pd['dia_reserva_turno']).dt.day\n",
        "nuevas_instancias_pd['mes_reserva_turno'] = pd.to_datetime(nuevas_instancias_pd['dia_reserva_turno']).dt.month\n",
        "\n",
        "nuevas_instancias_pd['dia_turno'] = pd.to_datetime(nuevas_instancias_pd['dia_turno']).dt.day\n",
        "nuevas_instancias_pd['mes_turno'] = pd.to_datetime(nuevas_instancias_pd['dia_turno']).dt.month\n",
        "\n",
        "# Calcular la diferencia de días entre reserva y turno\n",
        "nuevas_instancias_pd['dif_dias_reserva'] = nuevas_instancias_pd['dia_turno'] - nuevas_instancias_pd['dia_reserva_turno']\n",
        "nuevas_instancias_pd['dif_meses_reserva'] = nuevas_instancias_pd['mes_turno'] - nuevas_instancias_pd['mes_reserva_turno']"
      ],
      "metadata": {
        "id": "4HTACR9qX24U"
      },
      "execution_count": 76,
      "outputs": []
    },
    {
      "cell_type": "code",
      "source": [
        "# Reordenar las columnas utilizando reindex\n",
        "nuevas_instancias_pd = nuevas_instancias_pd.reindex(columns=new_columns)\n",
        "nuevas_instancias_pd = nuevas_instancias_pd.iloc[:,5:15]\n",
        "\n",
        "nuevas_instancias_pd.tail(2)"
      ],
      "metadata": {
        "colab": {
          "base_uri": "https://localhost:8080/",
          "height": 0
        },
        "id": "noTKIP-2W0-B",
        "outputId": "d6877cda-4146-46f2-c8c5-d971be2862ad"
      },
      "execution_count": 77,
      "outputs": [
        {
          "output_type": "execute_result",
          "data": {
            "text/plain": [
              "       id_paciente  sexo  edad  plan_social  dif_dias_reserva  hipertension  \\\n",
              "24525        45961     0    38            0                10             0   \n",
              "24526        52484     0    54            0                10             0   \n",
              "\n",
              "       diabetes  alcoholismo  discapacidades  sms_recibidos  \n",
              "24525         0            0               0              1  \n",
              "24526         0            0               0              1  "
            ],
            "text/html": [
              "\n",
              "  <div id=\"df-8262cff8-92c6-4cfa-8b42-bbc6e5e259b0\">\n",
              "    <div class=\"colab-df-container\">\n",
              "      <div>\n",
              "<style scoped>\n",
              "    .dataframe tbody tr th:only-of-type {\n",
              "        vertical-align: middle;\n",
              "    }\n",
              "\n",
              "    .dataframe tbody tr th {\n",
              "        vertical-align: top;\n",
              "    }\n",
              "\n",
              "    .dataframe thead th {\n",
              "        text-align: right;\n",
              "    }\n",
              "</style>\n",
              "<table border=\"1\" class=\"dataframe\">\n",
              "  <thead>\n",
              "    <tr style=\"text-align: right;\">\n",
              "      <th></th>\n",
              "      <th>id_paciente</th>\n",
              "      <th>sexo</th>\n",
              "      <th>edad</th>\n",
              "      <th>plan_social</th>\n",
              "      <th>dif_dias_reserva</th>\n",
              "      <th>hipertension</th>\n",
              "      <th>diabetes</th>\n",
              "      <th>alcoholismo</th>\n",
              "      <th>discapacidades</th>\n",
              "      <th>sms_recibidos</th>\n",
              "    </tr>\n",
              "  </thead>\n",
              "  <tbody>\n",
              "    <tr>\n",
              "      <th>24525</th>\n",
              "      <td>45961</td>\n",
              "      <td>0</td>\n",
              "      <td>38</td>\n",
              "      <td>0</td>\n",
              "      <td>10</td>\n",
              "      <td>0</td>\n",
              "      <td>0</td>\n",
              "      <td>0</td>\n",
              "      <td>0</td>\n",
              "      <td>1</td>\n",
              "    </tr>\n",
              "    <tr>\n",
              "      <th>24526</th>\n",
              "      <td>52484</td>\n",
              "      <td>0</td>\n",
              "      <td>54</td>\n",
              "      <td>0</td>\n",
              "      <td>10</td>\n",
              "      <td>0</td>\n",
              "      <td>0</td>\n",
              "      <td>0</td>\n",
              "      <td>0</td>\n",
              "      <td>1</td>\n",
              "    </tr>\n",
              "  </tbody>\n",
              "</table>\n",
              "</div>\n",
              "      <button class=\"colab-df-convert\" onclick=\"convertToInteractive('df-8262cff8-92c6-4cfa-8b42-bbc6e5e259b0')\"\n",
              "              title=\"Convert this dataframe to an interactive table.\"\n",
              "              style=\"display:none;\">\n",
              "        \n",
              "  <svg xmlns=\"http://www.w3.org/2000/svg\" height=\"24px\"viewBox=\"0 0 24 24\"\n",
              "       width=\"24px\">\n",
              "    <path d=\"M0 0h24v24H0V0z\" fill=\"none\"/>\n",
              "    <path d=\"M18.56 5.44l.94 2.06.94-2.06 2.06-.94-2.06-.94-.94-2.06-.94 2.06-2.06.94zm-11 1L8.5 8.5l.94-2.06 2.06-.94-2.06-.94L8.5 2.5l-.94 2.06-2.06.94zm10 10l.94 2.06.94-2.06 2.06-.94-2.06-.94-.94-2.06-.94 2.06-2.06.94z\"/><path d=\"M17.41 7.96l-1.37-1.37c-.4-.4-.92-.59-1.43-.59-.52 0-1.04.2-1.43.59L10.3 9.45l-7.72 7.72c-.78.78-.78 2.05 0 2.83L4 21.41c.39.39.9.59 1.41.59.51 0 1.02-.2 1.41-.59l7.78-7.78 2.81-2.81c.8-.78.8-2.07 0-2.86zM5.41 20L4 18.59l7.72-7.72 1.47 1.35L5.41 20z\"/>\n",
              "  </svg>\n",
              "      </button>\n",
              "      \n",
              "  <style>\n",
              "    .colab-df-container {\n",
              "      display:flex;\n",
              "      flex-wrap:wrap;\n",
              "      gap: 12px;\n",
              "    }\n",
              "\n",
              "    .colab-df-convert {\n",
              "      background-color: #E8F0FE;\n",
              "      border: none;\n",
              "      border-radius: 50%;\n",
              "      cursor: pointer;\n",
              "      display: none;\n",
              "      fill: #1967D2;\n",
              "      height: 32px;\n",
              "      padding: 0 0 0 0;\n",
              "      width: 32px;\n",
              "    }\n",
              "\n",
              "    .colab-df-convert:hover {\n",
              "      background-color: #E2EBFA;\n",
              "      box-shadow: 0px 1px 2px rgba(60, 64, 67, 0.3), 0px 1px 3px 1px rgba(60, 64, 67, 0.15);\n",
              "      fill: #174EA6;\n",
              "    }\n",
              "\n",
              "    [theme=dark] .colab-df-convert {\n",
              "      background-color: #3B4455;\n",
              "      fill: #D2E3FC;\n",
              "    }\n",
              "\n",
              "    [theme=dark] .colab-df-convert:hover {\n",
              "      background-color: #434B5C;\n",
              "      box-shadow: 0px 1px 3px 1px rgba(0, 0, 0, 0.15);\n",
              "      filter: drop-shadow(0px 1px 2px rgba(0, 0, 0, 0.3));\n",
              "      fill: #FFFFFF;\n",
              "    }\n",
              "  </style>\n",
              "\n",
              "      <script>\n",
              "        const buttonEl =\n",
              "          document.querySelector('#df-8262cff8-92c6-4cfa-8b42-bbc6e5e259b0 button.colab-df-convert');\n",
              "        buttonEl.style.display =\n",
              "          google.colab.kernel.accessAllowed ? 'block' : 'none';\n",
              "\n",
              "        async function convertToInteractive(key) {\n",
              "          const element = document.querySelector('#df-8262cff8-92c6-4cfa-8b42-bbc6e5e259b0');\n",
              "          const dataTable =\n",
              "            await google.colab.kernel.invokeFunction('convertToInteractive',\n",
              "                                                     [key], {});\n",
              "          if (!dataTable) return;\n",
              "\n",
              "          const docLinkHtml = 'Like what you see? Visit the ' +\n",
              "            '<a target=\"_blank\" href=https://colab.research.google.com/notebooks/data_table.ipynb>data table notebook</a>'\n",
              "            + ' to learn more about interactive tables.';\n",
              "          element.innerHTML = '';\n",
              "          dataTable['output_type'] = 'display_data';\n",
              "          await google.colab.output.renderOutput(dataTable, element);\n",
              "          const docLink = document.createElement('div');\n",
              "          docLink.innerHTML = docLinkHtml;\n",
              "          element.appendChild(docLink);\n",
              "        }\n",
              "      </script>\n",
              "    </div>\n",
              "  </div>\n",
              "  "
            ]
          },
          "metadata": {},
          "execution_count": 77
        }
      ]
    },
    {
      "cell_type": "markdown",
      "source": [
        "Normalizacion de numericos"
      ],
      "metadata": {
        "id": "Dl-Vo4AWtnji"
      }
    },
    {
      "cell_type": "code",
      "source": [
        "# # Seleccionar solo las características numéricas\n",
        "# numeric_features = ['edad', 'sms_recibidos', 'dif_dias_reserva'] #,'discapacidades'\n",
        "# numeric_data = nuevas_instancias_pd[numeric_features]\n",
        "\n",
        "# # Crear el objeto del escalador\n",
        "# scaler = MinMaxScaler()\n",
        "\n",
        "# # Ajustar y transformar los datos\n",
        "# normalized_data = scaler.fit_transform(numeric_data)\n",
        "\n",
        "# # Crear un nuevo DataFrame con los datos normalizados\n",
        "# normalized_df = pd.DataFrame(normalized_data, columns=numeric_features)\n",
        "\n",
        "# # Reemplazar las columnas numéricas en el DataFrame original con las columnas normalizadas\n",
        "# nuevas_instancias_pd[numeric_features] = normalized_df\n",
        "# nuevas_instancias_pd.head(3)\n",
        "# # # Ver los datos normalizados\n",
        "# # print(nuevas_instancias_pd)"
      ],
      "metadata": {
        "id": "ZEFDiKetrfjf"
      },
      "execution_count": 78,
      "outputs": []
    },
    {
      "cell_type": "markdown",
      "source": [
        "Normalizacion de Fecha"
      ],
      "metadata": {
        "id": "j_KRle6ftpkp"
      }
    },
    {
      "cell_type": "code",
      "source": [
        "# columnas_fecha = [ 'dia_turno'] #'dia_reserva_turno',\n",
        "\n",
        "# # Función para normalizar una columna\n",
        "# normalize_column = lambda x: (x - x.min()) / (x.max() - x.min())\n",
        "\n",
        "# # Aplicar la normalización a las columnas de fecha\n",
        "# nuevas_instancias_pd[columnas_fecha] = nuevas_instancias_pd[columnas_fecha].apply(normalize_column)\n",
        "\n",
        "# # print(nuevas_instancias_pd)"
      ],
      "metadata": {
        "id": "x9RGt_VirX91"
      },
      "execution_count": 79,
      "outputs": []
    },
    {
      "cell_type": "markdown",
      "source": [
        "Para XGBoost"
      ],
      "metadata": {
        "id": "Vx0LYUvzG58L"
      }
    },
    {
      "cell_type": "code",
      "source": [
        "# Crear el objeto DMatrix para las nuevas instancias\n",
        "# dnew = xgb.DMatrix(nuevas_instancias_pd)"
      ],
      "metadata": {
        "id": "FtKAtSKQG7hP"
      },
      "execution_count": 80,
      "outputs": []
    },
    {
      "cell_type": "markdown",
      "source": [
        "# Metricas"
      ],
      "metadata": {
        "id": "229V6QWCK--Y"
      }
    },
    {
      "cell_type": "markdown",
      "source": [
        " XGBoost"
      ],
      "metadata": {
        "id": "B0l7om0E_a0E"
      }
    },
    {
      "cell_type": "code",
      "source": [
        "# # Otras métricas de evaluación\n",
        "# accuracy_xg = accuracy_score(y_test, y_pred_xg)\n",
        "# precision_xg = precision_score(y_test, y_pred_xg)\n",
        "# recall_xg = recall_score(y_test, y_pred_xg)\n",
        "# f1_score_xg = f1_score(y_test, y_pred_xg)\n",
        "# kappa_xg = cohen_kappa_score(y_test, y_pred_xg)\n",
        "\n",
        "\n",
        "# print(\"Accuracy (GaussianNB):\", accuracy_xg)\n",
        "# print(\"Precision (GaussianNB):\", precision_xg)\n",
        "# print(\"Recall (GaussianNB):\", recall_xg)\n",
        "# print(\"F1 Score (GaussianNB):\", f1_score_xg)\n",
        "# print(\"Kappa score: \", kappa_xg)"
      ],
      "metadata": {
        "id": "ju4_A3Jf_aTm"
      },
      "execution_count": 81,
      "outputs": []
    },
    {
      "cell_type": "markdown",
      "source": [
        "GNB"
      ],
      "metadata": {
        "id": "SQgR0ZMxsPX-"
      }
    },
    {
      "cell_type": "code",
      "source": [
        "# Otras métricas de evaluación\n",
        "accuracy_gnb = accuracy_score(y_test, y_pred_gnb)\n",
        "precision_gnb = precision_score(y_test, y_pred_gnb)\n",
        "recall_gnb = recall_score(y_test, y_pred_gnb)\n",
        "f1_score_gnb = f1_score(y_test, y_pred_gnb)\n",
        "kappa_gnb = cohen_kappa_score(y_test, y_pred_gnb)\n",
        "\n",
        "\n",
        "print(\"Accuracy (GaussianNB):\", accuracy_gnb)\n",
        "print(\"Precision (GaussianNB):\", precision_gnb)\n",
        "print(\"Recall (GaussianNB):\", recall_gnb)\n",
        "print(\"F1 Score (GaussianNB):\", f1_score_gnb)\n",
        "print(\"Kappa score: \", kappa_gnb)"
      ],
      "metadata": {
        "colab": {
          "base_uri": "https://localhost:8080/"
        },
        "id": "8DtTdGFDsQ8-",
        "outputId": "747bb73a-cfbb-47d4-a41a-ec4b66d3319b"
      },
      "execution_count": 82,
      "outputs": [
        {
          "output_type": "stream",
          "name": "stdout",
          "text": [
            "Accuracy (GaussianNB): 0.687019320952917\n",
            "Precision (GaussianNB): 0.7458817829457365\n",
            "Recall (GaussianNB): 0.5736910750885038\n",
            "F1 Score (GaussianNB): 0.64855186940495\n",
            "Kappa score:  0.3749910804845429\n"
          ]
        }
      ]
    },
    {
      "cell_type": "markdown",
      "source": [
        "RF"
      ],
      "metadata": {
        "id": "j-mkmMRdLB4b"
      }
    },
    {
      "cell_type": "code",
      "source": [
        "# Otras métricas de evaluación\n",
        "accuracy_rf = accuracy_score(y_test, y_pred_rf)\n",
        "precision_rf = precision_score(y_test, y_pred_rf)\n",
        "recall_rf = recall_score(y_test, y_pred_rf)\n",
        "f1_score_rf = f1_score(y_test, y_pred_rf)\n",
        "kappa_rf = cohen_kappa_score(y_test, y_pred_rf)\n",
        "\n",
        "\n",
        "print(\"Accuracy (Random Forest):\", accuracy_rf)\n",
        "print(\"Precision (Random Forest):\", precision_rf)\n",
        "print(\"Recall (Random Forest):\", recall_rf)\n",
        "print(\"F1 Score (Random Forest):\", f1_score_rf)\n",
        "print(\"Kappa score: \", kappa_rf)"
      ],
      "metadata": {
        "colab": {
          "base_uri": "https://localhost:8080/"
        },
        "id": "3R2jshauLC47",
        "outputId": "cb517f08-f092-42b2-d8fe-f751192dbf01"
      },
      "execution_count": 83,
      "outputs": [
        {
          "output_type": "stream",
          "name": "stdout",
          "text": [
            "Accuracy (Random Forest): 0.7139373475895704\n",
            "Precision (Random Forest): 0.7069858852956942\n",
            "Recall (Random Forest): 0.7372833985466741\n",
            "F1 Score (Random Forest): 0.7218168551623495\n",
            "Kappa score:  0.4276818519967539\n"
          ]
        }
      ]
    },
    {
      "cell_type": "markdown",
      "source": [
        "DTC"
      ],
      "metadata": {
        "id": "wG0vc5SzLEMC"
      }
    },
    {
      "cell_type": "code",
      "source": [
        "# Otras métricas de evaluación\n",
        "accuracy_dtc = accuracy_score(y_test, y_pred_Tree)\n",
        "precision_dtc = precision_score(y_test, y_pred_Tree)\n",
        "recall_dtc = recall_score(y_test, y_pred_Tree)\n",
        "f1_score_dtc = f1_score(y_test, y_pred_Tree)\n",
        "kappa_dtc = cohen_kappa_score(y_test, y_pred_Tree)\n",
        "\n",
        "\n",
        "print(\"Accuracy (DecisionTreeClassifier):\", accuracy_rf)\n",
        "print(\"Precision (DecisionTreeClassifier):\", precision_rf)\n",
        "print(\"Recall (DecisionTreeClassifier):\", recall_rf)\n",
        "print(\"F1 Score (DecisionTreeClassifier):\", f1_score_rf)\n",
        "print(\"Kappa score: \", kappa_dtc)"
      ],
      "metadata": {
        "colab": {
          "base_uri": "https://localhost:8080/"
        },
        "id": "cCMbHF_uLDfe",
        "outputId": "41f01f53-4d79-448f-a072-30652f284481"
      },
      "execution_count": 84,
      "outputs": [
        {
          "output_type": "stream",
          "name": "stdout",
          "text": [
            "Accuracy (DecisionTreeClassifier): 0.7139373475895704\n",
            "Precision (DecisionTreeClassifier): 0.7069858852956942\n",
            "Recall (DecisionTreeClassifier): 0.7372833985466741\n",
            "F1 Score (DecisionTreeClassifier): 0.7218168551623495\n",
            "Kappa score:  0.4300442292524784\n"
          ]
        }
      ]
    },
    {
      "cell_type": "markdown",
      "source": [
        "LR"
      ],
      "metadata": {
        "id": "EeObhjsALUEG"
      }
    },
    {
      "cell_type": "code",
      "source": [
        "# Otras métricas de evaluación\n",
        "accuracy_lr = accuracy_score(y_test, y_pred_lr)\n",
        "precision_lr = precision_score(y_test, y_pred_lr)\n",
        "recall_rlr = recall_score(y_test, y_pred_lr)\n",
        "f1_score_lr = f1_score(y_test, y_pred_lr)\n",
        "kappa_lr = cohen_kappa_score(y_test, y_pred_lr)\n",
        "\n",
        "print(\"Accuracy (LogisticRegression):\", accuracy_lr)\n",
        "print(\"Precision (LogisticRegression):\", precision_lr)\n",
        "print(\"Recall (LogisticRegression):\", recall_rlr)\n",
        "print(\"F1 Score (LogisticRegression):\", f1_score_lr)\n",
        "print(\"Kappa score: \", kappa_lr)"
      ],
      "metadata": {
        "colab": {
          "base_uri": "https://localhost:8080/"
        },
        "id": "jaTf_XN4LV4M",
        "outputId": "b8a13783-607f-4ecb-de8d-0199dc9766c9"
      },
      "execution_count": 85,
      "outputs": [
        {
          "output_type": "stream",
          "name": "stdout",
          "text": [
            "Accuracy (LogisticRegression): 0.5984805852560495\n",
            "Precision (LogisticRegression): 0.6551428571428571\n",
            "Recall (LogisticRegression): 0.427240544065586\n",
            "F1 Score (LogisticRegression): 0.5171986015563325\n",
            "Kappa score:  0.19881941945363946\n"
          ]
        }
      ]
    },
    {
      "cell_type": "markdown",
      "source": [
        "Knn"
      ],
      "metadata": {
        "id": "2Po_iPEEsK4K"
      }
    },
    {
      "cell_type": "code",
      "source": [
        "# Otras métricas de evaluación\n",
        "accuracy_knn = accuracy_score(y_test, y_pred_knn)\n",
        "precision_knn = precision_score(y_test, y_pred_knn)\n",
        "recall_knn = recall_score(y_test, y_pred_knn)\n",
        "f1_score_knn = f1_score(y_test, y_pred_knn)\n",
        "kappa_knn = cohen_kappa_score(y_test, y_pred_knn)\n",
        "\n",
        "print(\"Accuracy (KNeighborsClassifier):\", accuracy_knn)\n",
        "print(\"Precision (KNeighborsClassifier):\", precision_knn)\n",
        "print(\"Recall (KNeighborsClassifier):\", recall_knn)\n",
        "print(\"F1 Score (KNeighborsClassifier):\", f1_score_knn)\n",
        "print(\"Kappa score: \", kappa_knn)"
      ],
      "metadata": {
        "colab": {
          "base_uri": "https://localhost:8080/"
        },
        "id": "ZSAMqVP7sL5l",
        "outputId": "7dfb5790-392a-46a9-a17f-347aeeaa4765"
      },
      "execution_count": 86,
      "outputs": [
        {
          "output_type": "stream",
          "name": "stdout",
          "text": [
            "Accuracy (KNeighborsClassifier): 0.5574001125492403\n",
            "Precision (KNeighborsClassifier): 0.5847280334728033\n",
            "Recall (KNeighborsClassifier): 0.4166200857089622\n",
            "F1 Score (KNeighborsClassifier): 0.4865629420084866\n",
            "Kappa score:  0.11648682247087883\n"
          ]
        }
      ]
    },
    {
      "cell_type": "markdown",
      "source": [
        "Votacion"
      ],
      "metadata": {
        "id": "TlanGaZBhGRE"
      }
    },
    {
      "cell_type": "code",
      "source": [
        "# Otras métricas de evaluación\n",
        "accuracy_vc = accuracy_score(y_test, y_pred_vc)\n",
        "precision_vc = precision_score(y_test, y_pred_vc)\n",
        "recall_vc = recall_score(y_test, y_pred_vc)\n",
        "f1_score_vc = f1_score(y_test, y_pred_vc)\n",
        "kappa_vc = cohen_kappa_score(y_test, y_pred_vc)\n",
        "\n",
        "\n",
        "print(\"Accuracy (VotingClassifier):\", accuracy_vc)\n",
        "print(\"Precision (VotingClassifier):\", precision_vc)\n",
        "print(\"Recall (VotingClassifier):\", recall_vc)\n",
        "print(\"F1 Score (VotingClassifier):\", f1_score_vc)\n",
        "print(\"Kappa score: \", kappa_vc)"
      ],
      "metadata": {
        "colab": {
          "base_uri": "https://localhost:8080/"
        },
        "id": "iUbC12bJg_VE",
        "outputId": "8ad79db9-1aa3-4fd1-8270-7ef77693dec9"
      },
      "execution_count": 87,
      "outputs": [
        {
          "output_type": "stream",
          "name": "stdout",
          "text": [
            "Accuracy (VotingClassifier): 0.7129056462202213\n",
            "Precision (VotingClassifier): 0.7250195160031225\n",
            "Recall (VotingClassifier): 0.6921930314887275\n",
            "F1 Score (VotingClassifier): 0.7082260985606711\n",
            "Kappa score:  0.42596181315286274\n"
          ]
        }
      ]
    },
    {
      "cell_type": "markdown",
      "source": [
        "# Importancias"
      ],
      "metadata": {
        "id": "M_7KoEcsQA9O"
      }
    },
    {
      "cell_type": "markdown",
      "source": [
        "ANOVA\n",
        "\n",
        "El ANOVA compara la varianza entre los grupos con la varianza dentro de los grupos. Si la varianza entre los grupos es significativamente mayor que la varianza dentro de los grupos, eso sugiere que la característica está relacionada de manera significativa con la variable objetivo. En otras palabras, si el valor de p asociado con el ANOVA es menor que un umbral predefinido (por ejemplo, 0.05), podemos concluir que la característica tiene un efecto significativo en la variable objetivo."
      ],
      "metadata": {
        "id": "GkxqN6ONYMmX"
      }
    },
    {
      "cell_type": "code",
      "source": [
        "from sklearn.feature_selection import f_classif\n",
        "\n",
        "# Realizar el cálculo del ANOVA para cada característica\n",
        "f_scores, p_values = f_classif(X_train, y_train)\n",
        "\n",
        "# Crear un DataFrame para mostrar los resultados\n",
        "feature_importances_gnb = pd.DataFrame({'Variable': X_train.columns, 'F-Score': f_scores, 'p-value': p_values})\n",
        "\n",
        "# Ordenar las variables por su F-Score en orden descendente\n",
        "feature_importances_gnb = feature_importances_gnb.sort_values(by='F-Score', ascending=True)\n",
        "\n",
        "# Imprimir el resultado\n",
        "print(feature_importances_gnb)"
      ],
      "metadata": {
        "colab": {
          "base_uri": "https://localhost:8080/"
        },
        "id": "640Vpj2NYUiC",
        "outputId": "abf3e7d6-214f-4e15-8d5c-9408f5509198"
      },
      "execution_count": 88,
      "outputs": [
        {
          "output_type": "stream",
          "name": "stdout",
          "text": [
            "           Variable     F-Score        p-value\n",
            "2              edad    0.257108   6.121181e-01\n",
            "8    discapacidades    0.384608   5.351532e-01\n",
            "1              sexo    1.361712   2.432523e-01\n",
            "7       alcoholismo    1.710039   1.909924e-01\n",
            "5      hipertension    1.998058   1.575134e-01\n",
            "6          diabetes    2.032512   1.539785e-01\n",
            "3       plan_social    2.148844   1.426899e-01\n",
            "0       id_paciente    6.369608   1.161530e-02\n",
            "4  dif_dias_reserva   19.309940   1.115858e-05\n",
            "9     sms_recibidos  881.221513  2.471701e-190\n"
          ]
        }
      ]
    },
    {
      "cell_type": "markdown",
      "source": [
        "Arbol de decision"
      ],
      "metadata": {
        "id": "Sp_0qwZHQLLh"
      }
    },
    {
      "cell_type": "code",
      "source": [
        "# Mostrar las características más importantes\n",
        "print(feature_importance_df.head())"
      ],
      "metadata": {
        "colab": {
          "base_uri": "https://localhost:8080/"
        },
        "id": "5i11Y_cBQIfQ",
        "outputId": "674aff26-d33a-41c6-936d-671f42a3c40b"
      },
      "execution_count": 89,
      "outputs": [
        {
          "output_type": "stream",
          "name": "stdout",
          "text": [
            "            Feature  Importance\n",
            "4  dif_dias_reserva    0.870381\n",
            "2              edad    0.075903\n",
            "0       id_paciente    0.027461\n",
            "9     sms_recibidos    0.012982\n",
            "1              sexo    0.006534\n"
          ]
        }
      ]
    },
    {
      "cell_type": "markdown",
      "source": [
        "Logistic Regression"
      ],
      "metadata": {
        "id": "gwO5PMdnQNtb"
      }
    },
    {
      "cell_type": "code",
      "source": [
        "# Obtener los coeficientes de las variables\n",
        "coefficients_lr = final_model_lr.coef_[0]\n",
        "\n",
        "# Crear un DataFrame para mostrar los resultados\n",
        "feature_importances_lr = pd.DataFrame({'Variable': X_train.columns, 'Importance': coefficients_lr})\n",
        "\n",
        "# Ordenar las variables por importancia absoluta\n",
        "feature_importances_lr['Importance'] = feature_importances_lr['Importance'].abs()\n",
        "feature_importances_lr = feature_importances_lr.sort_values('Importance', ascending=True)\n",
        "\n",
        "# Mostrar los resultados\n",
        "print(feature_importances_lr)\n"
      ],
      "metadata": {
        "colab": {
          "base_uri": "https://localhost:8080/"
        },
        "id": "50fJgcTGQWlU",
        "outputId": "3e086e27-ad13-41a7-a748-744906c02563"
      },
      "execution_count": 90,
      "outputs": [
        {
          "output_type": "stream",
          "name": "stdout",
          "text": [
            "           Variable  Importance\n",
            "0       id_paciente    0.000002\n",
            "2              edad    0.000303\n",
            "4  dif_dias_reserva    0.009572\n",
            "8    discapacidades    0.016534\n",
            "1              sexo    0.020432\n",
            "5      hipertension    0.042565\n",
            "3       plan_social    0.056657\n",
            "6          diabetes    0.072523\n",
            "7       alcoholismo    0.075046\n",
            "9     sms_recibidos    0.830705\n"
          ]
        }
      ]
    },
    {
      "cell_type": "markdown",
      "source": [
        "Random Forest"
      ],
      "metadata": {
        "id": "g1EB6J54Qi0r"
      }
    },
    {
      "cell_type": "code",
      "source": [
        "# Obtener la importancia de las variables\n",
        "importances_rf = modelo_rf_final.feature_importances_\n",
        "\n",
        "# Crear un DataFrame para mostrar los resultados\n",
        "feature_importances_rf = pd.DataFrame({'Variable': X_train.columns, 'Importance': importances_rf})\n",
        "\n",
        "# Ordenar las variables por importancia\n",
        "feature_importances_rf = feature_importances_rf.sort_values('Importance', ascending=True)\n",
        "\n",
        "# Mostrar los resultados\n",
        "print(feature_importances_rf)"
      ],
      "metadata": {
        "colab": {
          "base_uri": "https://localhost:8080/"
        },
        "id": "K6Q97s5WQkmN",
        "outputId": "82070b05-c000-4f54-eddf-0232b2b70f24"
      },
      "execution_count": 91,
      "outputs": [
        {
          "output_type": "stream",
          "name": "stdout",
          "text": [
            "           Variable  Importance\n",
            "8    discapacidades    0.003815\n",
            "7       alcoholismo    0.003964\n",
            "6          diabetes    0.004373\n",
            "5      hipertension    0.005268\n",
            "3       plan_social    0.005985\n",
            "1              sexo    0.010360\n",
            "9     sms_recibidos    0.041909\n",
            "2              edad    0.186520\n",
            "0       id_paciente    0.243410\n",
            "4  dif_dias_reserva    0.494397\n"
          ]
        }
      ]
    },
    {
      "cell_type": "markdown",
      "source": [
        "XGBoost"
      ],
      "metadata": {
        "id": "f06rORHcRBlf"
      }
    },
    {
      "cell_type": "code",
      "source": [
        "# # Obtener la importancia de las variables\n",
        "# importances_xgb = modelo_xgb.feature_importances_\n",
        "\n",
        "# # Crear un DataFrame para mostrar los resultados\n",
        "# feature_importances_xgb = pd.DataFrame({'Variable': X_train.columns, 'Importance': importances_xgb})\n",
        "\n",
        "# # Ordenar las variables por importancia\n",
        "# feature_importances_xgb = feature_importances_xgb.sort_values('Importance', ascending=False)\n",
        "\n",
        "# # Mostrar los resultados\n",
        "# print(feature_importances_xgb)\n"
      ],
      "metadata": {
        "id": "2QtIyuTaRDKe"
      },
      "execution_count": 92,
      "outputs": []
    },
    {
      "cell_type": "markdown",
      "source": [
        "GaussianNB"
      ],
      "metadata": {
        "id": "sqLEZ5d7R1JW"
      }
    },
    {
      "cell_type": "code",
      "source": [
        "# Calcular la varianza de cada variable\n",
        "varianzas = np.var(X_train, axis=0)\n",
        "\n",
        "# Crear un DataFrame para mostrar los resultados\n",
        "feature_importances_gnb = pd.DataFrame({'Variable': X_train.columns, 'Variance': varianzas})\n",
        "\n",
        "# Ordenar las variables por varianza en orden descendente\n",
        "feature_importances_gnb = feature_importances_gnb.sort_values(by='Variance', ascending=True)\n",
        "\n",
        "# Mostrar la importancia de las variables\n",
        "print(feature_importances_gnb)"
      ],
      "metadata": {
        "colab": {
          "base_uri": "https://localhost:8080/"
        },
        "id": "IOilTNOdR45D",
        "outputId": "21bf4fa2-eb1a-463a-8f17-6a92cc82ffa5"
      },
      "execution_count": 93,
      "outputs": [
        {
          "output_type": "stream",
          "name": "stdout",
          "text": [
            "                          Variable      Variance\n",
            "discapacidades      discapacidades  2.498859e-02\n",
            "alcoholismo            alcoholismo  3.006848e-02\n",
            "diabetes                  diabetes  5.877396e-02\n",
            "plan_social            plan_social  1.037194e-01\n",
            "hipertension          hipertension  1.384239e-01\n",
            "sms_recibidos        sms_recibidos  2.132991e-01\n",
            "sexo                          sexo  2.251847e-01\n",
            "dif_dias_reserva  dif_dias_reserva  7.523706e+01\n",
            "edad                          edad  4.244940e+02\n",
            "id_paciente            id_paciente  3.228207e+08\n"
          ]
        }
      ]
    },
    {
      "cell_type": "markdown",
      "source": [
        "# Seleccion de modelo"
      ],
      "metadata": {
        "id": "wLJmLTlLtxmi"
      }
    },
    {
      "cell_type": "code",
      "source": [
        "# modelo = final_model_lr #logisticRegression\n",
        "# modelo = modelo_f #DessisionTreeClassifier\n",
        "# modelo = modelo_rf_final #RandomForest\n",
        "# modelo = xgboost_final\n",
        "# modelo= modelo_gnb_final\n",
        "#Estimador por votacion\n",
        "modelo = voting_clf\n",
        "\n"
      ],
      "metadata": {
        "id": "HXzQjs6Ft0S2"
      },
      "execution_count": 94,
      "outputs": []
    },
    {
      "cell_type": "markdown",
      "source": [
        "# Clasificacion\n"
      ],
      "metadata": {
        "id": "wUhB-G59Yge5"
      }
    },
    {
      "cell_type": "code",
      "metadata": {
        "id": "G4UXTwoltdfB"
      },
      "source": [
        "prediccion_nuevos_individuos = modelo.predict(nuevas_instancias_pd) #dnew para xgboost"
      ],
      "execution_count": 95,
      "outputs": []
    },
    {
      "cell_type": "code",
      "metadata": {
        "id": "YeHEScPP9uar"
      },
      "source": [
        "datos_clasificados = pd.DataFrame(prediccion_nuevos_individuos)"
      ],
      "execution_count": 96,
      "outputs": []
    },
    {
      "cell_type": "code",
      "metadata": {
        "id": "BfyaLPvztdfC"
      },
      "source": [
        "datos_clasificados.index = datos_clasificados.index + 1"
      ],
      "execution_count": 97,
      "outputs": []
    },
    {
      "cell_type": "code",
      "source": [
        "datos_clasificados.tail(3)"
      ],
      "metadata": {
        "id": "GkMZi2U2GvuK",
        "colab": {
          "base_uri": "https://localhost:8080/",
          "height": 0
        },
        "outputId": "9a61c64f-da6d-44d8-9b57-5d58c4091b79"
      },
      "execution_count": 98,
      "outputs": [
        {
          "output_type": "execute_result",
          "data": {
            "text/plain": [
              "       0\n",
              "24525  1\n",
              "24526  1\n",
              "24527  1"
            ],
            "text/html": [
              "\n",
              "  <div id=\"df-cd8e1189-f4e8-4de8-a994-3a648ae8fab1\">\n",
              "    <div class=\"colab-df-container\">\n",
              "      <div>\n",
              "<style scoped>\n",
              "    .dataframe tbody tr th:only-of-type {\n",
              "        vertical-align: middle;\n",
              "    }\n",
              "\n",
              "    .dataframe tbody tr th {\n",
              "        vertical-align: top;\n",
              "    }\n",
              "\n",
              "    .dataframe thead th {\n",
              "        text-align: right;\n",
              "    }\n",
              "</style>\n",
              "<table border=\"1\" class=\"dataframe\">\n",
              "  <thead>\n",
              "    <tr style=\"text-align: right;\">\n",
              "      <th></th>\n",
              "      <th>0</th>\n",
              "    </tr>\n",
              "  </thead>\n",
              "  <tbody>\n",
              "    <tr>\n",
              "      <th>24525</th>\n",
              "      <td>1</td>\n",
              "    </tr>\n",
              "    <tr>\n",
              "      <th>24526</th>\n",
              "      <td>1</td>\n",
              "    </tr>\n",
              "    <tr>\n",
              "      <th>24527</th>\n",
              "      <td>1</td>\n",
              "    </tr>\n",
              "  </tbody>\n",
              "</table>\n",
              "</div>\n",
              "      <button class=\"colab-df-convert\" onclick=\"convertToInteractive('df-cd8e1189-f4e8-4de8-a994-3a648ae8fab1')\"\n",
              "              title=\"Convert this dataframe to an interactive table.\"\n",
              "              style=\"display:none;\">\n",
              "        \n",
              "  <svg xmlns=\"http://www.w3.org/2000/svg\" height=\"24px\"viewBox=\"0 0 24 24\"\n",
              "       width=\"24px\">\n",
              "    <path d=\"M0 0h24v24H0V0z\" fill=\"none\"/>\n",
              "    <path d=\"M18.56 5.44l.94 2.06.94-2.06 2.06-.94-2.06-.94-.94-2.06-.94 2.06-2.06.94zm-11 1L8.5 8.5l.94-2.06 2.06-.94-2.06-.94L8.5 2.5l-.94 2.06-2.06.94zm10 10l.94 2.06.94-2.06 2.06-.94-2.06-.94-.94-2.06-.94 2.06-2.06.94z\"/><path d=\"M17.41 7.96l-1.37-1.37c-.4-.4-.92-.59-1.43-.59-.52 0-1.04.2-1.43.59L10.3 9.45l-7.72 7.72c-.78.78-.78 2.05 0 2.83L4 21.41c.39.39.9.59 1.41.59.51 0 1.02-.2 1.41-.59l7.78-7.78 2.81-2.81c.8-.78.8-2.07 0-2.86zM5.41 20L4 18.59l7.72-7.72 1.47 1.35L5.41 20z\"/>\n",
              "  </svg>\n",
              "      </button>\n",
              "      \n",
              "  <style>\n",
              "    .colab-df-container {\n",
              "      display:flex;\n",
              "      flex-wrap:wrap;\n",
              "      gap: 12px;\n",
              "    }\n",
              "\n",
              "    .colab-df-convert {\n",
              "      background-color: #E8F0FE;\n",
              "      border: none;\n",
              "      border-radius: 50%;\n",
              "      cursor: pointer;\n",
              "      display: none;\n",
              "      fill: #1967D2;\n",
              "      height: 32px;\n",
              "      padding: 0 0 0 0;\n",
              "      width: 32px;\n",
              "    }\n",
              "\n",
              "    .colab-df-convert:hover {\n",
              "      background-color: #E2EBFA;\n",
              "      box-shadow: 0px 1px 2px rgba(60, 64, 67, 0.3), 0px 1px 3px 1px rgba(60, 64, 67, 0.15);\n",
              "      fill: #174EA6;\n",
              "    }\n",
              "\n",
              "    [theme=dark] .colab-df-convert {\n",
              "      background-color: #3B4455;\n",
              "      fill: #D2E3FC;\n",
              "    }\n",
              "\n",
              "    [theme=dark] .colab-df-convert:hover {\n",
              "      background-color: #434B5C;\n",
              "      box-shadow: 0px 1px 3px 1px rgba(0, 0, 0, 0.15);\n",
              "      filter: drop-shadow(0px 1px 2px rgba(0, 0, 0, 0.3));\n",
              "      fill: #FFFFFF;\n",
              "    }\n",
              "  </style>\n",
              "\n",
              "      <script>\n",
              "        const buttonEl =\n",
              "          document.querySelector('#df-cd8e1189-f4e8-4de8-a994-3a648ae8fab1 button.colab-df-convert');\n",
              "        buttonEl.style.display =\n",
              "          google.colab.kernel.accessAllowed ? 'block' : 'none';\n",
              "\n",
              "        async function convertToInteractive(key) {\n",
              "          const element = document.querySelector('#df-cd8e1189-f4e8-4de8-a994-3a648ae8fab1');\n",
              "          const dataTable =\n",
              "            await google.colab.kernel.invokeFunction('convertToInteractive',\n",
              "                                                     [key], {});\n",
              "          if (!dataTable) return;\n",
              "\n",
              "          const docLinkHtml = 'Like what you see? Visit the ' +\n",
              "            '<a target=\"_blank\" href=https://colab.research.google.com/notebooks/data_table.ipynb>data table notebook</a>'\n",
              "            + ' to learn more about interactive tables.';\n",
              "          element.innerHTML = '';\n",
              "          dataTable['output_type'] = 'display_data';\n",
              "          await google.colab.output.renderOutput(dataTable, element);\n",
              "          const docLink = document.createElement('div');\n",
              "          docLink.innerHTML = docLinkHtml;\n",
              "          element.appendChild(docLink);\n",
              "        }\n",
              "      </script>\n",
              "    </div>\n",
              "  </div>\n",
              "  "
            ]
          },
          "metadata": {},
          "execution_count": 98
        }
      ]
    },
    {
      "cell_type": "code",
      "metadata": {
        "id": "Z8HfmhcDtdfC"
      },
      "source": [
        "datos_clasificados.columns = ['Predicted']\n",
        "datos_clasificados.index.names = ['id']"
      ],
      "execution_count": 99,
      "outputs": []
    },
    {
      "cell_type": "code",
      "metadata": {
        "id": "pmlGdLLptdfC",
        "colab": {
          "base_uri": "https://localhost:8080/"
        },
        "outputId": "921241fe-99d6-488e-b72a-8771cdd5192c"
      },
      "source": [
        "datos_clasificados.columns"
      ],
      "execution_count": 100,
      "outputs": [
        {
          "output_type": "execute_result",
          "data": {
            "text/plain": [
              "Index(['Predicted'], dtype='object')"
            ]
          },
          "metadata": {},
          "execution_count": 100
        }
      ]
    },
    {
      "cell_type": "markdown",
      "source": [
        "XGboost"
      ],
      "metadata": {
        "id": "h8lAq8jhIsoc"
      }
    },
    {
      "cell_type": "code",
      "source": [
        "# # Convertir las predicciones en valores binarios (0 o 1)\n",
        "# datos_clasificados[\"Predicted\"] = datos_clasificados[\"Predicted\"].apply(lambda p: 0 if p < 0.60 else 1)\n",
        "\n",
        "# # Agregar la columna de predicción binaria al DataFrame\n",
        "# datos_clasificados['Predicted'] = datos_clasificados"
      ],
      "metadata": {
        "id": "UV6AK84mIt2l"
      },
      "execution_count": 101,
      "outputs": []
    },
    {
      "cell_type": "code",
      "metadata": {
        "id": "rIfPxwZi06rZ",
        "colab": {
          "base_uri": "https://localhost:8080/",
          "height": 0
        },
        "outputId": "c7513895-b1be-4634-a97f-be2ad438812d"
      },
      "source": [
        "datos_clasificados.head(2)"
      ],
      "execution_count": 102,
      "outputs": [
        {
          "output_type": "execute_result",
          "data": {
            "text/plain": [
              "    Predicted\n",
              "id           \n",
              "1           1\n",
              "2           1"
            ],
            "text/html": [
              "\n",
              "  <div id=\"df-ecbffcdb-a1bd-4979-bf7c-97908f2c69a1\">\n",
              "    <div class=\"colab-df-container\">\n",
              "      <div>\n",
              "<style scoped>\n",
              "    .dataframe tbody tr th:only-of-type {\n",
              "        vertical-align: middle;\n",
              "    }\n",
              "\n",
              "    .dataframe tbody tr th {\n",
              "        vertical-align: top;\n",
              "    }\n",
              "\n",
              "    .dataframe thead th {\n",
              "        text-align: right;\n",
              "    }\n",
              "</style>\n",
              "<table border=\"1\" class=\"dataframe\">\n",
              "  <thead>\n",
              "    <tr style=\"text-align: right;\">\n",
              "      <th></th>\n",
              "      <th>Predicted</th>\n",
              "    </tr>\n",
              "    <tr>\n",
              "      <th>id</th>\n",
              "      <th></th>\n",
              "    </tr>\n",
              "  </thead>\n",
              "  <tbody>\n",
              "    <tr>\n",
              "      <th>1</th>\n",
              "      <td>1</td>\n",
              "    </tr>\n",
              "    <tr>\n",
              "      <th>2</th>\n",
              "      <td>1</td>\n",
              "    </tr>\n",
              "  </tbody>\n",
              "</table>\n",
              "</div>\n",
              "      <button class=\"colab-df-convert\" onclick=\"convertToInteractive('df-ecbffcdb-a1bd-4979-bf7c-97908f2c69a1')\"\n",
              "              title=\"Convert this dataframe to an interactive table.\"\n",
              "              style=\"display:none;\">\n",
              "        \n",
              "  <svg xmlns=\"http://www.w3.org/2000/svg\" height=\"24px\"viewBox=\"0 0 24 24\"\n",
              "       width=\"24px\">\n",
              "    <path d=\"M0 0h24v24H0V0z\" fill=\"none\"/>\n",
              "    <path d=\"M18.56 5.44l.94 2.06.94-2.06 2.06-.94-2.06-.94-.94-2.06-.94 2.06-2.06.94zm-11 1L8.5 8.5l.94-2.06 2.06-.94-2.06-.94L8.5 2.5l-.94 2.06-2.06.94zm10 10l.94 2.06.94-2.06 2.06-.94-2.06-.94-.94-2.06-.94 2.06-2.06.94z\"/><path d=\"M17.41 7.96l-1.37-1.37c-.4-.4-.92-.59-1.43-.59-.52 0-1.04.2-1.43.59L10.3 9.45l-7.72 7.72c-.78.78-.78 2.05 0 2.83L4 21.41c.39.39.9.59 1.41.59.51 0 1.02-.2 1.41-.59l7.78-7.78 2.81-2.81c.8-.78.8-2.07 0-2.86zM5.41 20L4 18.59l7.72-7.72 1.47 1.35L5.41 20z\"/>\n",
              "  </svg>\n",
              "      </button>\n",
              "      \n",
              "  <style>\n",
              "    .colab-df-container {\n",
              "      display:flex;\n",
              "      flex-wrap:wrap;\n",
              "      gap: 12px;\n",
              "    }\n",
              "\n",
              "    .colab-df-convert {\n",
              "      background-color: #E8F0FE;\n",
              "      border: none;\n",
              "      border-radius: 50%;\n",
              "      cursor: pointer;\n",
              "      display: none;\n",
              "      fill: #1967D2;\n",
              "      height: 32px;\n",
              "      padding: 0 0 0 0;\n",
              "      width: 32px;\n",
              "    }\n",
              "\n",
              "    .colab-df-convert:hover {\n",
              "      background-color: #E2EBFA;\n",
              "      box-shadow: 0px 1px 2px rgba(60, 64, 67, 0.3), 0px 1px 3px 1px rgba(60, 64, 67, 0.15);\n",
              "      fill: #174EA6;\n",
              "    }\n",
              "\n",
              "    [theme=dark] .colab-df-convert {\n",
              "      background-color: #3B4455;\n",
              "      fill: #D2E3FC;\n",
              "    }\n",
              "\n",
              "    [theme=dark] .colab-df-convert:hover {\n",
              "      background-color: #434B5C;\n",
              "      box-shadow: 0px 1px 3px 1px rgba(0, 0, 0, 0.15);\n",
              "      filter: drop-shadow(0px 1px 2px rgba(0, 0, 0, 0.3));\n",
              "      fill: #FFFFFF;\n",
              "    }\n",
              "  </style>\n",
              "\n",
              "      <script>\n",
              "        const buttonEl =\n",
              "          document.querySelector('#df-ecbffcdb-a1bd-4979-bf7c-97908f2c69a1 button.colab-df-convert');\n",
              "        buttonEl.style.display =\n",
              "          google.colab.kernel.accessAllowed ? 'block' : 'none';\n",
              "\n",
              "        async function convertToInteractive(key) {\n",
              "          const element = document.querySelector('#df-ecbffcdb-a1bd-4979-bf7c-97908f2c69a1');\n",
              "          const dataTable =\n",
              "            await google.colab.kernel.invokeFunction('convertToInteractive',\n",
              "                                                     [key], {});\n",
              "          if (!dataTable) return;\n",
              "\n",
              "          const docLinkHtml = 'Like what you see? Visit the ' +\n",
              "            '<a target=\"_blank\" href=https://colab.research.google.com/notebooks/data_table.ipynb>data table notebook</a>'\n",
              "            + ' to learn more about interactive tables.';\n",
              "          element.innerHTML = '';\n",
              "          dataTable['output_type'] = 'display_data';\n",
              "          await google.colab.output.renderOutput(dataTable, element);\n",
              "          const docLink = document.createElement('div');\n",
              "          docLink.innerHTML = docLinkHtml;\n",
              "          element.appendChild(docLink);\n",
              "        }\n",
              "      </script>\n",
              "    </div>\n",
              "  </div>\n",
              "  "
            ]
          },
          "metadata": {},
          "execution_count": 102
        }
      ]
    },
    {
      "cell_type": "markdown",
      "source": [
        "**Matriz de Confusion**"
      ],
      "metadata": {
        "id": "Iv_aXAr00gNC"
      }
    },
    {
      "cell_type": "code",
      "source": [
        "# # Matriz de confusión modelo elegido\n",
        "# conf_matrix_final = confusion_matrix(y_test, prediccion_nuevos_individuos)\n",
        "# print(\"Matriz de confusión (Modelo:):\\n\", conf_matrix_final)"
      ],
      "metadata": {
        "id": "t1CBqaip16s-"
      },
      "execution_count": 103,
      "outputs": []
    },
    {
      "cell_type": "code",
      "source": [
        "# labels = [0, 1]\n",
        "# cm=confusion_matrix(y_test, prediccion_nuevos_individuos, labels=labels)\n",
        "# ax= plt.subplot()\n",
        "# sns.heatmap(cm, cmap=\"Blues\", annot=True,annot_kws={\"size\": 16}, cbar=False, fmt='g'); \n",
        "# ax.set_xlabel('Predicción');ax.set_ylabel('Valores Reales'); \n",
        "# ax.set_title('Confusion Matrix'); \n",
        "# ax.xaxis.set_ticklabels(labels); ax.yaxis.set_ticklabels(labels);"
      ],
      "metadata": {
        "id": "QWxBXEMH2Tze"
      },
      "execution_count": 104,
      "outputs": []
    },
    {
      "cell_type": "code",
      "source": [
        "y_pred = prediccion_nuevos_individuos"
      ],
      "metadata": {
        "id": "_s1weEcP0zLz"
      },
      "execution_count": 105,
      "outputs": []
    },
    {
      "cell_type": "code",
      "source": [
        "# conf_matrix = confusion_matrix(y_test, y_pred)\n",
        "# print(\"Matriz de confusión:\\n\", conf_matrix)"
      ],
      "metadata": {
        "id": "OSTVYODW0kxk"
      },
      "execution_count": 106,
      "outputs": []
    },
    {
      "cell_type": "code",
      "metadata": {
        "id": "sugNboh7F-RD"
      },
      "source": [
        "from google.colab import files"
      ],
      "execution_count": 107,
      "outputs": []
    },
    {
      "cell_type": "code",
      "metadata": {
        "id": "HzdLR4DaGAjz",
        "colab": {
          "base_uri": "https://localhost:8080/",
          "height": 0
        },
        "outputId": "5bb1ed4d-a4bc-4e22-ad95-6a0eb4ccc2c9"
      },
      "source": [
        "datos_clasificados.to_csv('predicted.csv',sep=',')\n",
        "files.download('predicted.csv')"
      ],
      "execution_count": 108,
      "outputs": [
        {
          "output_type": "display_data",
          "data": {
            "text/plain": [
              "<IPython.core.display.Javascript object>"
            ],
            "application/javascript": [
              "\n",
              "    async function download(id, filename, size) {\n",
              "      if (!google.colab.kernel.accessAllowed) {\n",
              "        return;\n",
              "      }\n",
              "      const div = document.createElement('div');\n",
              "      const label = document.createElement('label');\n",
              "      label.textContent = `Downloading \"${filename}\": `;\n",
              "      div.appendChild(label);\n",
              "      const progress = document.createElement('progress');\n",
              "      progress.max = size;\n",
              "      div.appendChild(progress);\n",
              "      document.body.appendChild(div);\n",
              "\n",
              "      const buffers = [];\n",
              "      let downloaded = 0;\n",
              "\n",
              "      const channel = await google.colab.kernel.comms.open(id);\n",
              "      // Send a message to notify the kernel that we're ready.\n",
              "      channel.send({})\n",
              "\n",
              "      for await (const message of channel.messages) {\n",
              "        // Send a message to notify the kernel that we're ready.\n",
              "        channel.send({})\n",
              "        if (message.buffers) {\n",
              "          for (const buffer of message.buffers) {\n",
              "            buffers.push(buffer);\n",
              "            downloaded += buffer.byteLength;\n",
              "            progress.value = downloaded;\n",
              "          }\n",
              "        }\n",
              "      }\n",
              "      const blob = new Blob(buffers, {type: 'application/binary'});\n",
              "      const a = document.createElement('a');\n",
              "      a.href = window.URL.createObjectURL(blob);\n",
              "      a.download = filename;\n",
              "      div.appendChild(a);\n",
              "      a.click();\n",
              "      div.remove();\n",
              "    }\n",
              "  "
            ]
          },
          "metadata": {}
        },
        {
          "output_type": "display_data",
          "data": {
            "text/plain": [
              "<IPython.core.display.Javascript object>"
            ],
            "application/javascript": [
              "download(\"download_9c5224bd-8d5c-4283-b530-e3d753a2970f\", \"predicted.csv\", 185123)"
            ]
          },
          "metadata": {}
        }
      ]
    }
  ]
}